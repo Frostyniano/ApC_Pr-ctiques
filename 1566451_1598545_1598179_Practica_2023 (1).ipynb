{
 "cells": [
  {
   "cell_type": "markdown",
   "metadata": {
    "id": "oZMnmdDBCl7F"
   },
   "source": [
    "# Pràctica 1: Resolem un problema de classificacio\n",
    "\n",
    "## Objectius\n",
    "\n",
    "Els objectius d'aquesta pràctica són:\n",
    "\n",
    "* Aplicar els coneixements adquirits sobre classificacio, tecniques d'emplenats de nans i validacio creuada.\n",
    "  \n",
    "* Ser capac de comparar diferents models classificacio\n",
    "\n",
    "* Ser capac de fer busca d'hiperparametres.\n",
    "\n",
    "* Entendre i implamentar la validacio creuada\n",
    "\n",
    "* Analitzar detalladament els resultats obtinguts durant l'aprenentatge dels diferents models.\n",
    "\n",
    "Aquesta practica es previa al cas kaggle que realitzareu durant la segona part de l'assignatura. En aquesta primera practica les preguntes estan definides, pero us ha de servir d'aprenentatge alhora de saber com estructurar un projecte d'aprenentatge automatic ja que en el cas kaggle no tindreu les preguntes.\n",
    "\n",
    "## Bases de dades\n",
    "\n",
    "En aquesta practica farem servir la base de dades del titanic. L'atribut que predirem es Survived, el qual ens diu si va sobreviure o no cada passatger.\n",
    "\n",
    "\n",
    "https://www.kaggle.com/c/titanic/data\n",
    "\n",
    "\n",
    "##Treball en grup\n",
    "Aquesta practica es treballara en grups de 2-3 persones. En casos excepcionals i degudament justificats la practica es podra realitzar de forma individual.\n",
    "## Seguiment i entrega de la pràctica\n",
    "\n",
    "En la pràctica 1, es presenten diverses tasques per fer una correcta comparativa dels resultats obtinguts per diversos mètodes de classificació numèrica en una mateixa base de dades.\n",
    "\n",
    "\n",
    "En aquesta practica es realitzara sessions de seguiment del treball. Aquestes sessions de treball està orientada a que els alumnes que vingueu pugueu preguntar i resoldre dubtes sobre les dades, preguntar sobre l'objectiu de cada apartat dels enunciats que no us hagi quedat clar, i preguntar sobre els resultats que esteu obtenint a l'hora d'analitzar les dades. Es molt recomanable venir amb el treball fet a clase per tal de poder comentar dubtes.\n",
    "\n",
    "Pel que fa l'entrega, caldra entregar per caronte el seguent:\n",
    "\n",
    "1. Memòria en format PDF o en la mateixa notebook explicant els resultats trobats sobre la bases de dades amb el respectiu codi de python. Aquesta nota es la mateixa per tots els membres del grup (8 pts)\n",
    "\n",
    "2. Presentació amb els resultats 4 min màxim. Aquesta nota es individual. (2 pt)\n",
    "\n",
    "Nota: En cas d'entregar la memoria com a PDF, caldra entregar el codi de python a part. Si s'entrega com a notebook, la mateixa notebook servira com a codi.\n",
    "\n"
   ]
  },
  {
   "cell_type": "markdown",
   "metadata": {
    "id": "6zdgsxfuCl7S"
   },
   "source": [
    "# Descripcio de la pràctica\n",
    "\n",
    "A continuacio es mostren tots els continguts que s'evaluara en la pràctica:\n",
    "\n",
    "1. EDA (exploratory data analysis) (1 punts):\n",
    "  * Analisi de tamany i tipologia de dades ( 0.25 pt)\n",
    "  * Primera valoracio de correlacions ( 0.5 pt)\n",
    "  * Analisi atribut target ( 0.25 pt)\n",
    "2. Preprocessing (2 punts):\n",
    "  * Eliminacio de nans (0.5 punts)\n",
    "  * Encoding de categoriques (0.75 punts)\n",
    "  * Altres (PCA, normalitzacio..)\n",
    "3. Metric selection (1.5 punts):\n",
    "  * Seleccio de la millor metrica pel problema (0.75 punts)\n",
    "  * Visualitzacio de ROC/AUC (0.75 punts)\n",
    "4. Model Selection amb Crossvalidation (4 punts):\n",
    "  * Seleccio del millor model (2 punts)\n",
    "  * Busqueda hiperparametres (2 punts)\n",
    "5. Analisi final (1.5 punt)\n",
    "\n",
    "Cal dir que, les puntuacions dins de cada apartat son orientatives. La pràctica esta construida a partir d'un seguit de preguntes orientatives en cada apartat les quals tenen relacio amb els continguts evaluables. **NO cal contestar-les totes**. Són una guia per a que reflexioneu i aprengueu detalls de cada apartat.  Es recomanable, aixo si, llegir totes les preguntes abans de realitzar la practica i tenir-les en ment alhora d'executar-la.\n",
    "\n",
    "\n",
    "**IMPORTANT**: El que es valorara en la practica es la capacitat de mantenir una narrativa coherent alhora que es realitzen els resultats. No es mirara tant que alguna pregunta quedi per respondre sino que els passos seguits en base als resultats obtinguts siguin coherents."
   ]
  },
  {
   "cell_type": "code",
   "execution_count": 3,
   "metadata": {
    "id": "kMr-Q1fGPYOE"
   },
   "outputs": [],
   "source": [
    "import pandas as pd\n",
    "from sklearn.preprocessing import OrdinalEncoder\n",
    "import numpy as np\n",
    "import seaborn as sns\n",
    "import matplotlib.pyplot as plt\n",
    "from sklearn.preprocessing import StandardScaler\n",
    "import math\n",
    "from sklearn.metrics import mean_squared_error\n",
    "from sklearn.metrics import roc_curve, roc_auc_score, precision_recall_curve, average_precision_score, classification_report\n",
    "from sklearn.linear_model import LogisticRegression\n",
    "from sklearn.model_selection import train_test_split, cross_val_score, GridSearchCV\n",
    "from sklearn.ensemble import RandomForestClassifier\n",
    "from sklearn.neighbors import KNeighborsClassifier\n",
    "from sklearn import svm\n",
    "import time"
   ]
  },
  {
   "cell_type": "markdown",
   "metadata": {
    "id": "fuENGdYFCl7S"
   },
   "source": [
    "### 1. EDA (exploratory data analysis) (1 punt)\n",
    "\n",
    "Abans de resm cal sempre veure com es la base de dades asignada?\n",
    "\n",
    "**Preguntes:**\n",
    "* Quants atributs té la vostra base de dades?\n",
    "* Quin tipus d'atributs tens? (Númerics, temporals, categorics, binaris...)\n",
    "* Com es el target, quantes categories diferents existeixen?\n",
    "* Tenim nans en les dades?\n",
    "* Podeu veure alguna correlació entre X i y?\n",
    "* Estan balancejades les etiquetes (distribució similar entre categories)? Creus que pot afectar a la classificació la seva distribució?\n"
   ]
  },
  {
   "cell_type": "markdown",
   "metadata": {
    "id": "Atl48hPM2TTX"
   },
   "source": [
    "Treballem sobre una base de dades que prediu la superviviencia en el Titanic.\n",
    "\n",
    "El target, Survived, conté la categoria de que Sí sobreviu el passatger i la de que No sobreviu."
   ]
  },
  {
   "cell_type": "code",
   "execution_count": 4,
   "metadata": {
    "colab": {
     "base_uri": "https://localhost:8080/"
    },
    "id": "SO6T4p0d_Q5K",
    "outputId": "7e89d972-90c7-4afb-9ac6-d17830dcf23a"
   },
   "outputs": [
    {
     "name": "stdout",
     "output_type": "stream",
     "text": [
      "Dimensió base de dades (891, 12)\n",
      "Tenim nans? True\n"
     ]
    }
   ],
   "source": [
    "# Importem el fitxer\n",
    "df_train = pd.read_csv('./train.csv')\n",
    "\n",
    "ordenColumnasTrain = ['PassengerId', 'Pclass', 'Name', 'Sex', 'Age', 'SibSp', 'Parch', 'Ticket', 'Fare', 'Cabin', 'Embarked', 'Survived']\n",
    "df_train = df_train[ordenColumnasTrain]\n",
    "\n",
    "print(\"Dimensió base de dades\", df_train.shape)\n",
    "\n",
    "# Comprovem si hi ha nans\n",
    "def has_nans(df_train):\n",
    "  return df_train.isna().sum().sum()>0\n",
    "\n",
    "print (\"Tenim nans?\", has_nans(df_train))"
   ]
  },
  {
   "cell_type": "markdown",
   "metadata": {
    "id": "AvLJo3DiRI2h"
   },
   "source": [
    "Es pot veure que treballem amb una base de dades que compta amb 812 files i 12 columnes. Aquestes columnes són de tipus string, integer o decimal. Dins d'aquestes dades, hi ha presència de valors buits."
   ]
  },
  {
   "cell_type": "code",
   "execution_count": 5,
   "metadata": {
    "colab": {
     "base_uri": "https://localhost:8080/"
    },
    "id": "P8TJxm29C-38",
    "outputId": "804cc5ca-ccdc-4c8a-f53d-21c725239ab1"
   },
   "outputs": [
    {
     "data": {
      "text/plain": [
       "0      0.083333\n",
       "1      0.000000\n",
       "2      0.083333\n",
       "3      0.000000\n",
       "4      0.083333\n",
       "         ...   \n",
       "886    0.083333\n",
       "887    0.000000\n",
       "888    0.166667\n",
       "889    0.000000\n",
       "890    0.083333\n",
       "Length: 891, dtype: float64"
      ]
     },
     "execution_count": 5,
     "metadata": {},
     "output_type": "execute_result"
    }
   ],
   "source": [
    "# Mostrem els nans per fila\n",
    "percent_nan_fila = df_train.isna().mean(axis = 1)\n",
    "percent_nan_fila"
   ]
  },
  {
   "cell_type": "code",
   "execution_count": 6,
   "metadata": {
    "colab": {
     "base_uri": "https://localhost:8080/"
    },
    "id": "-YnpLC_vB4KK",
    "outputId": "88a8b685-ccf7-4964-dd8a-94717ea575ca"
   },
   "outputs": [
    {
     "data": {
      "text/plain": [
       "PassengerId     0.000000\n",
       "Pclass          0.000000\n",
       "Name            0.000000\n",
       "Sex             0.000000\n",
       "SibSp           0.000000\n",
       "Parch           0.000000\n",
       "Ticket          0.000000\n",
       "Fare            0.000000\n",
       "Survived        0.000000\n",
       "Embarked        0.224467\n",
       "Age            19.865320\n",
       "Cabin          77.104377\n",
       "dtype: float64"
      ]
     },
     "execution_count": 6,
     "metadata": {},
     "output_type": "execute_result"
    }
   ],
   "source": [
    "# Mostrem el percentatge de nans per columna\n",
    "def get_percentage_nan_per_column(df):\n",
    "  return df_train.isna().sum().sort_values()/len(df_train)*100.\n",
    "\n",
    "percentage_nan = get_percentage_nan_per_column(df_train)\n",
    "percentage_nan"
   ]
  },
  {
   "cell_type": "code",
   "execution_count": 7,
   "metadata": {
    "colab": {
     "base_uri": "https://localhost:8080/"
    },
    "id": "k1O0j45kDFGW",
    "outputId": "83e5061f-e653-4f67-aed9-921799667c86"
   },
   "outputs": [
    {
     "name": "stdout",
     "output_type": "stream",
     "text": [
      "<class 'pandas.core.frame.DataFrame'>\n",
      "RangeIndex: 891 entries, 0 to 890\n",
      "Data columns (total 12 columns):\n",
      " #   Column       Non-Null Count  Dtype  \n",
      "---  ------       --------------  -----  \n",
      " 0   PassengerId  891 non-null    int64  \n",
      " 1   Pclass       891 non-null    int64  \n",
      " 2   Name         891 non-null    object \n",
      " 3   Sex          891 non-null    object \n",
      " 4   Age          714 non-null    float64\n",
      " 5   SibSp        891 non-null    int64  \n",
      " 6   Parch        891 non-null    int64  \n",
      " 7   Ticket       891 non-null    object \n",
      " 8   Fare         891 non-null    float64\n",
      " 9   Cabin        204 non-null    object \n",
      " 10  Embarked     889 non-null    object \n",
      " 11  Survived     891 non-null    int64  \n",
      "dtypes: float64(2), int64(5), object(5)\n",
      "memory usage: 83.7+ KB\n"
     ]
    }
   ],
   "source": [
    "# Veiem quins atributs són strings\n",
    "df_train.info()"
   ]
  },
  {
   "cell_type": "markdown",
   "metadata": {
    "id": "FveXfEcuSGBu"
   },
   "source": [
    "Considerem que les columnes de PassengerId, Name, Ticket i Cabin no són necessàries a l'hora de predir la supervivència i llavors les eliminem. Les columnes que principalment contenen nans són Cabin i Age. Eliminant la columna Cabin ens estalviem tractar el seu 77% de nans."
   ]
  },
  {
   "cell_type": "code",
   "execution_count": 8,
   "metadata": {
    "colab": {
     "base_uri": "https://localhost:8080/"
    },
    "id": "eRStJxoG2mK_",
    "outputId": "40002da0-5486-47c3-cce8-f13ec3d1f223"
   },
   "outputs": [
    {
     "name": "stdout",
     "output_type": "stream",
     "text": [
      "Survived\n",
      "0    549\n",
      "1    342\n",
      "Name: count, dtype: int64\n",
      "891\n"
     ]
    }
   ],
   "source": [
    "# Traiem atributs que no considerem necessaris\n",
    "df_train.drop(\"PassengerId\", axis='columns', inplace=True)\n",
    "df_train.drop(\"Name\", axis='columns', inplace=True)\n",
    "df_train.drop(\"Ticket\", axis='columns', inplace=True)\n",
    "df_train.drop(\"Cabin\", axis='columns', inplace=True)\n",
    "\n",
    "# Contem el nombre de 0's i 1's\n",
    "survived_count = df_train['Survived'].value_counts()\n",
    "total_inst = len(df_train)\n",
    "\n",
    "print(survived_count)\n",
    "print(total_inst)"
   ]
  },
  {
   "cell_type": "markdown",
   "metadata": {
    "id": "HuK8XBg8S5gl"
   },
   "source": [
    "Com que després d'eliminar les columnes esmentades ja només ens queda el 19,86% de nans de la columna Age, considerem que no és necessari esborrar la columna sencera. Només esborrem aquelles files on hi hagi un nan a Age i a Embarked, pel que ara el dataset s'ha vist reduït a 712 files. Aquí aprofitem per veure que les dades no estan balancejades, ja que trobem 424 ceros i 288 uns. Encara que la diferencia sigui de aproximadament 150, si les dades augmentessin de mida el desbalanceig seria molt gran."
   ]
  },
  {
   "cell_type": "code",
   "execution_count": 9,
   "metadata": {
    "colab": {
     "base_uri": "https://localhost:8080/"
    },
    "id": "D5B1pMBpAUbu",
    "outputId": "7e708a61-a6a5-4f8b-9928-d656961ed749"
   },
   "outputs": [
    {
     "name": "stdout",
     "output_type": "stream",
     "text": [
      "Survived\n",
      "0    424\n",
      "1    288\n",
      "Name: count, dtype: int64\n",
      "712\n"
     ]
    }
   ],
   "source": [
    "# Contem el nombre de 0's i 1's després de treure els nans\n",
    "df_train = df_train.dropna()\n",
    "#df_test = df_test.dropna()\n",
    "\n",
    "survived_count = df_train['Survived'].value_counts()\n",
    "total_inst = len(df_train)\n",
    "\n",
    "print(survived_count)\n",
    "print(total_inst)"
   ]
  },
  {
   "cell_type": "markdown",
   "metadata": {
    "id": "54HAJA1HTnJ-"
   },
   "source": [
    "Per mostrar la matriu de correlació cal que codifiquem els atributs de tipus object que ens interessen, que són Sex i Embarked."
   ]
  },
  {
   "cell_type": "code",
   "execution_count": 10,
   "metadata": {
    "colab": {
     "base_uri": "https://localhost:8080/"
    },
    "id": "YZngq20BDyOK",
    "outputId": "6ba50e01-6f12-4c4e-c676-5789faa9d8b9"
   },
   "outputs": [
    {
     "name": "stdout",
     "output_type": "stream",
     "text": [
      "     Pclass  Sex   Age  SibSp  Parch     Fare  Embarked  Survived\n",
      "0         3    1  22.0      1      0   7.2500         2         0\n",
      "1         1    0  38.0      1      0  71.2833         0         1\n",
      "2         3    0  26.0      0      0   7.9250         2         1\n",
      "3         1    0  35.0      1      0  53.1000         2         1\n",
      "4         3    1  35.0      0      0   8.0500         2         0\n",
      "..      ...  ...   ...    ...    ...      ...       ...       ...\n",
      "885       3    0  39.0      0      5  29.1250         1         0\n",
      "886       2    1  27.0      0      0  13.0000         2         0\n",
      "887       1    0  19.0      0      0  30.0000         2         1\n",
      "889       1    1  26.0      0      0  30.0000         0         1\n",
      "890       3    1  32.0      0      0   7.7500         1         0\n",
      "\n",
      "[712 rows x 8 columns]\n"
     ]
    }
   ],
   "source": [
    "# Codifiquem els atributs Sex i Embarked\n",
    "Sex_train = df_train.copy()\n",
    "restantes = []\n",
    "for i in Sex_train.columns:\n",
    "    if i != 'Sex':\n",
    "        restantes.append(i)\n",
    "Sex_train.drop(restantes, axis='columns', inplace=True)\n",
    "\n",
    "codificar = OrdinalEncoder()\n",
    "codificar.fit(Sex_train)\n",
    "codificar.categories_\n",
    "Sex_train = codificar.transform(Sex_train)\n",
    "Sex_train = Sex_train.astype(np.int64)\n",
    "\n",
    "df_train['Sex'] = Sex_train\n",
    "\n",
    "Embarked_train = df_train.copy()\n",
    "restantes = []\n",
    "for i in Embarked_train.columns:\n",
    "    if i != 'Embarked':\n",
    "        restantes.append(i)\n",
    "Embarked_train.drop(restantes, axis='columns', inplace=True)\n",
    "\n",
    "codificar = OrdinalEncoder()\n",
    "codificar.fit(Embarked_train)\n",
    "codificar.categories_\n",
    "Embarked_train = codificar.transform(Embarked_train)\n",
    "Embarked_train = Embarked_train.astype(np.int64)\n",
    "\n",
    "df_train['Embarked'] = Embarked_train\n",
    "print(df_train)"
   ]
  },
  {
   "cell_type": "code",
   "execution_count": 11,
   "metadata": {
    "colab": {
     "base_uri": "https://localhost:8080/",
     "height": 509
    },
    "id": "Ymuta3ai2mLA",
    "outputId": "6e64340d-bb75-48e5-e9d8-0ace5636dc18"
   },
   "outputs": [
    {
     "data": {
      "image/png": "[encoded data removed]",
      "text/plain": [
       "<Figure size 640x480 with 2 Axes>"
      ]
     },
     "metadata": {},
     "output_type": "display_data"
    }
   ],
   "source": [
    "# Construïm la matriu de correlació un cop ja hem codificat els atributs que considerem importants\n",
    "\n",
    "matriz_correlacion = df_train.corr()\n",
    "\n",
    "sns.heatmap(matriz_correlacion, annot=True, cmap='coolwarm', fmt=\".3f\")\n",
    "plt.title('Matriu de correlacions')\n",
    "plt.show()"
   ]
  },
  {
   "cell_type": "markdown",
   "metadata": {
    "id": "hHXyQEgITrpD"
   },
   "source": [
    "Es pot veure que els atributs que presenten una major correlació, negativa o positiva, amb el target, són Pclass (-0,356), Sex (-0,537), Fare (0,266) i Embarked (-0,182). La resta d'atributs tenen correlacions molt properes a 0."
   ]
  },
  {
   "cell_type": "markdown",
   "metadata": {
    "id": "CuLtWQWpCl7T"
   },
   "source": [
    "### 2. Preprocessing (normalitzation, outlier removal, feature selection..) (2 punts)\n",
    "Un cop vistes les dades de les que es disposa, cal preparar les dades per als nostres algoritmes. Segons la tipologia de dades, es poden filtrar atributs, aplicar-hi reductors de dimensionalitat, codificar categories textuals en valors numèrics, normalitzar les dades, treure outliers...\n",
    "\n",
    "Navegueu per la [documentació de sklearn sobre preprocessing](https://scikit-learn.org/stable/modules/preprocessing.html) per tal de trobar les diferents opcions que proporciona sklearn.\n",
    "\n",
    "**Preguntes:**\n",
    "* Estàn les dades normalitzades? Caldria fer-ho?\n",
    "* En cas que les normalitzeu, quin tipus de normalització será més adient per les vostres dades?\n",
    "* Teniu gaires dades sense informació (nans)? Tingueu en compte que hi ha metodes que no els toleren durant el aprenentatge. Com afecta a la classificació si les filtrem? I si les reompliu? Com ho farieu? [Pista](https://scikit-learn.org/stable/modules/impute.html)\n",
    "* Teniu dades categoriques? Quina seria la codificació amb més sentit?\n",
    "* Podreu treure algun atribut extra de les categoriques (per exemple, aplicant alguna regla sobre el text)?\n",
    "* Caldria aplicar PCA? Quins beneficis o inconvenients trobarieu?\n",
    "* Caldria aplicar alguna tecnica de seleccio de features? Ho trobeu necessari?\n",
    "* Es poden aplicar PolynomialFeatures per millorar la classificació? En quins models té sentit fer-ho?"
   ]
  },
  {
   "cell_type": "markdown",
   "metadata": {
    "id": "BMP3tOvaWcaJ"
   },
   "source": [
    "Un cop hem representat la matriu de correlacions, escollim aquells atributs amb una correlació més propera a -1 i 1. Escollim llavors Pclass, Sex, Fare i Embarked. A partir d'això generem un nou dataset que contingui únicament aquestes columnes i la del target. Amb aquest nou dataset ja fem la separació en X i y, on X són les variables independents i y el target, la dependent."
   ]
  },
  {
   "cell_type": "code",
   "execution_count": 12,
   "metadata": {
    "id": "2tDKiLYJ2mLD"
   },
   "outputs": [],
   "source": [
    "# Separem els atributs escollits del target, en X i y\n",
    "\n",
    "df_train1 = df_train.copy()\n",
    "restantes = []\n",
    "for i in df_train1.columns:\n",
    "    if i != 'Pclass' and i != 'Sex' and i != 'Fare' and i != 'Embarked' and i != 'Survived':\n",
    "        restantes.append(i)\n",
    "df_train1.drop(restantes, axis='columns', inplace=True)\n",
    "\n",
    "data = df_train1.values\n",
    "X = data[:, :-1]\n",
    "y = data[:, -1]"
   ]
  },
  {
   "cell_type": "markdown",
   "metadata": {
    "id": "1h0T1zOsXyY-"
   },
   "source": [
    "Normalitzem les dades estandarditzant-les, que implica escalar els seus valors restant-los la seva mitjana i dividint-los per la seva desviació estàndard. Reescalar els valors no ho veiem adequat perquè llavors les dades prenen valors entre 0 i 1."
   ]
  },
  {
   "cell_type": "code",
   "execution_count": 13,
   "metadata": {
    "id": "3YjuJ26J2j6l"
   },
   "outputs": [],
   "source": [
    "# Fem la normalització de les dades, estandarditzant\n",
    "sc = StandardScaler()\n",
    "X = sc.fit_transform(X)"
   ]
  },
  {
   "cell_type": "markdown",
   "metadata": {
    "id": "1t6k0SkrYDy2"
   },
   "source": [
    "Degut a que ja comptem amb un nombre bastant reduït de dades, no cal que apliquem PCA per veure la correlació entre les característiques perquè això ja ho hem vist amb la matriu. És justament mitjançant la matriu de correlació amb la que hem escollit quines característiques ens interesaven mantenir per poder classificar, pel que d'alguna manera ja hem fet una selecció de features."
   ]
  },
  {
   "cell_type": "markdown",
   "metadata": {
    "id": "axc-wn2rCl7T"
   },
   "source": [
    "### 3. Metric selection (1.5 punts)\n",
    "En aquest apartat ens centrarem en les mètriques de classificació ([documentació](https://scikit-learn.org/stable/modules/model_evaluation.html#classification-metrics)). Per a fer-ho, entreneu una regressio logistica (no cal separar train-test) i a partir d'aquesta generarem una serie de funcions per analitzar els nostres resultats . Aquestes funcions ens serviran mes endevant. Caldra tambe triar la metrica que farem servir despres per triar el millor model.\n",
    "\n",
    "**Preguntes:**\n",
    "* A teoria, hem vist el resultat d'aplicar el `accuracy_score` sobre dades no balancejades. Podrieu explicar i justificar quina de les següents mètriques será la més adient pel vostre problema? `accuracy_score`, `f1_score` o `average_precision_score`?\n",
    "* Abans de comencar a entrenar models, genereu una suite de funcions per poder analitzar graficament com esta anant el vostre model. Mostreu la Precisió-Recall Curve i la ROC Curve. Quina és més rellevant pel vostre dataset? Expliqueu amb les vostres paraules, la diferencia entre una i altre [Pista](https://stats.stackexchange.com/questions/338826/auprc-vs-auc-roc)\n",
    "* Què mostra [classification_report](https://scikit-learn.org/stable/modules/generated/sklearn.metrics.classification_report.html)? Quina métrica us fixareu per tal de optimitzar-ne la classificació pel vostre cas?\n",
    "\n",
    "Nota: Fixeu-vos que en aquest apartat NO ES VALOREN ELS RESULTATS. L'unic que es valora es l'eleccio de la metrica de classificacio aixi com saber quin tipus de grafiques fer per analitzar els resultats. Abans de solucionar un problema cal tenir molt clar la metrica d'error que es fara servir, i es una decisio que cal pendre previa a entrenar models"
   ]
  },
  {
   "cell_type": "markdown",
   "metadata": {
    "id": "JL7iVCangidi"
   },
   "source": [
    "Tenint en compte les nostres dades sabem que l'accuracy_score és ideal per a problemes de classificació quan les classes estan balancejades, però quan no estan balancejades podria no ser una bona opció, ja que pot ser enganyós en casos de desequilibri de classes. Després tenim l'average_precision_score que s'utilitza de classificació en què els casos positius són més importants que els negatius. F1_score és una bona opció quan hi ha dades no balancejades. És especialment útil quan es vol que un model identifiqui de forma precisa els positius i que sigui capaç de trobar-ne la majoria. En aquest cas, és més interessant classificar si s'ha sobreviscut.\n",
    "\n"
   ]
  },
  {
   "cell_type": "code",
   "execution_count": 14,
   "metadata": {
    "colab": {
     "base_uri": "https://localhost:8080/",
     "height": 75
    },
    "id": "6vR6vCDhxZ84",
    "outputId": "cbc16e48-cafd-4cb1-f89e-a1b5dfffa970"
   },
   "outputs": [
    {
     "data": {
      "text/html": [
       "<style>#sk-container-id-1 {\n",
       "  /* Definition of color scheme common for light and dark mode */\n",
       "  --sklearn-color-text: black;\n",
       "  --sklearn-color-line: gray;\n",
       "  /* Definition of color scheme for unfitted estimators */\n",
       "  --sklearn-color-unfitted-level-0: #fff5e6;\n",
       "  --sklearn-color-unfitted-level-1: #f6e4d2;\n",
       "  --sklearn-color-unfitted-level-2: #ffe0b3;\n",
       "  --sklearn-color-unfitted-level-3: chocolate;\n",
       "  /* Definition of color scheme for fitted estimators */\n",
       "  --sklearn-color-fitted-level-0: #f0f8ff;\n",
       "  --sklearn-color-fitted-level-1: #d4ebff;\n",
       "  --sklearn-color-fitted-level-2: #b3dbfd;\n",
       "  --sklearn-color-fitted-level-3: cornflowerblue;\n",
       "\n",
       "  /* Specific color for light theme */\n",
       "  --sklearn-color-text-on-default-background: var(--sg-text-color, var(--theme-code-foreground, var(--jp-content-font-color1, black)));\n",
       "  --sklearn-color-background: var(--sg-background-color, var(--theme-background, var(--jp-layout-color0, white)));\n",
       "  --sklearn-color-border-box: var(--sg-text-color, var(--theme-code-foreground, var(--jp-content-font-color1, black)));\n",
       "  --sklearn-color-icon: #696969;\n",
       "\n",
       "  @media (prefers-color-scheme: dark) {\n",
       "    /* Redefinition of color scheme for dark theme */\n",
       "    --sklearn-color-text-on-default-background: var(--sg-text-color, var(--theme-code-foreground, var(--jp-content-font-color1, white)));\n",
       "    --sklearn-color-background: var(--sg-background-color, var(--theme-background, var(--jp-layout-color0, #111)));\n",
       "    --sklearn-color-border-box: var(--sg-text-color, var(--theme-code-foreground, var(--jp-content-font-color1, white)));\n",
       "    --sklearn-color-icon: #878787;\n",
       "  }\n",
       "}\n",
       "\n",
       "#sk-container-id-1 {\n",
       "  color: var(--sklearn-color-text);\n",
       "}\n",
       "\n",
       "#sk-container-id-1 pre {\n",
       "  padding: 0;\n",
       "}\n",
       "\n",
       "#sk-container-id-1 input.sk-hidden--visually {\n",
       "  border: 0;\n",
       "  clip: rect(1px 1px 1px 1px);\n",
       "  clip: rect(1px, 1px, 1px, 1px);\n",
       "  height: 1px;\n",
       "  margin: -1px;\n",
       "  overflow: hidden;\n",
       "  padding: 0;\n",
       "  position: absolute;\n",
       "  width: 1px;\n",
       "}\n",
       "\n",
       "#sk-container-id-1 div.sk-dashed-wrapped {\n",
       "  border: 1px dashed var(--sklearn-color-line);\n",
       "  margin: 0 0.4em 0.5em 0.4em;\n",
       "  box-sizing: border-box;\n",
       "  padding-bottom: 0.4em;\n",
       "  background-color: var(--sklearn-color-background);\n",
       "}\n",
       "\n",
       "#sk-container-id-1 div.sk-container {\n",
       "  /* jupyter's `normalize.less` sets `[hidden] { display: none; }`\n",
       "     but bootstrap.min.css set `[hidden] { display: none !important; }`\n",
       "     so we also need the `!important` here to be able to override the\n",
       "     default hidden behavior on the sphinx rendered scikit-learn.org.\n",
       "     See: https://github.com/scikit-learn/scikit-learn/issues/21755 */\n",
       "  display: inline-block !important;\n",
       "  position: relative;\n",
       "}\n",
       "\n",
       "#sk-container-id-1 div.sk-text-repr-fallback {\n",
       "  display: none;\n",
       "}\n",
       "\n",
       "div.sk-parallel-item,\n",
       "div.sk-serial,\n",
       "div.sk-item {\n",
       "  /* draw centered vertical line to link estimators */\n",
       "  background-image: linear-gradient(var(--sklearn-color-text-on-default-background), var(--sklearn-color-text-on-default-background));\n",
       "  background-size: 2px 100%;\n",
       "  background-repeat: no-repeat;\n",
       "  background-position: center center;\n",
       "}\n",
       "\n",
       "/* Parallel-specific style estimator block */\n",
       "\n",
       "#sk-container-id-1 div.sk-parallel-item::after {\n",
       "  content: \"\";\n",
       "  width: 100%;\n",
       "  border-bottom: 2px solid var(--sklearn-color-text-on-default-background);\n",
       "  flex-grow: 1;\n",
       "}\n",
       "\n",
       "#sk-container-id-1 div.sk-parallel {\n",
       "  display: flex;\n",
       "  align-items: stretch;\n",
       "  justify-content: center;\n",
       "  background-color: var(--sklearn-color-background);\n",
       "  position: relative;\n",
       "}\n",
       "\n",
       "#sk-container-id-1 div.sk-parallel-item {\n",
       "  display: flex;\n",
       "  flex-direction: column;\n",
       "}\n",
       "\n",
       "#sk-container-id-1 div.sk-parallel-item:first-child::after {\n",
       "  align-self: flex-end;\n",
       "  width: 50%;\n",
       "}\n",
       "\n",
       "#sk-container-id-1 div.sk-parallel-item:last-child::after {\n",
       "  align-self: flex-start;\n",
       "  width: 50%;\n",
       "}\n",
       "\n",
       "#sk-container-id-1 div.sk-parallel-item:only-child::after {\n",
       "  width: 0;\n",
       "}\n",
       "\n",
       "/* Serial-specific style estimator block */\n",
       "\n",
       "#sk-container-id-1 div.sk-serial {\n",
       "  display: flex;\n",
       "  flex-direction: column;\n",
       "  align-items: center;\n",
       "  background-color: var(--sklearn-color-background);\n",
       "  padding-right: 1em;\n",
       "  padding-left: 1em;\n",
       "}\n",
       "\n",
       "\n",
       "/* Toggleable style: style used for estimator/Pipeline/ColumnTransformer box that is\n",
       "clickable and can be expanded/collapsed.\n",
       "- Pipeline and ColumnTransformer use this feature and define the default style\n",
       "- Estimators will overwrite some part of the style using the `sk-estimator` class\n",
       "*/\n",
       "\n",
       "/* Pipeline and ColumnTransformer style (default) */\n",
       "\n",
       "#sk-container-id-1 div.sk-toggleable {\n",
       "  /* Default theme specific background. It is overwritten whether we have a\n",
       "  specific estimator or a Pipeline/ColumnTransformer */\n",
       "  background-color: var(--sklearn-color-background);\n",
       "}\n",
       "\n",
       "/* Toggleable label */\n",
       "#sk-container-id-1 label.sk-toggleable__label {\n",
       "  cursor: pointer;\n",
       "  display: block;\n",
       "  width: 100%;\n",
       "  margin-bottom: 0;\n",
       "  padding: 0.5em;\n",
       "  box-sizing: border-box;\n",
       "  text-align: center;\n",
       "}\n",
       "\n",
       "#sk-container-id-1 label.sk-toggleable__label-arrow:before {\n",
       "  /* Arrow on the left of the label */\n",
       "  content: \"▸\";\n",
       "  float: left;\n",
       "  margin-right: 0.25em;\n",
       "  color: var(--sklearn-color-icon);\n",
       "}\n",
       "\n",
       "#sk-container-id-1 label.sk-toggleable__label-arrow:hover:before {\n",
       "  color: var(--sklearn-color-text);\n",
       "}\n",
       "\n",
       "/* Toggleable content - dropdown */\n",
       "\n",
       "#sk-container-id-1 div.sk-toggleable__content {\n",
       "  max-height: 0;\n",
       "  max-width: 0;\n",
       "  overflow: hidden;\n",
       "  text-align: left;\n",
       "  /* unfitted */\n",
       "  background-color: var(--sklearn-color-unfitted-level-0);\n",
       "}\n",
       "\n",
       "#sk-container-id-1 div.sk-toggleable__content.fitted {\n",
       "  /* fitted */\n",
       "  background-color: var(--sklearn-color-fitted-level-0);\n",
       "}\n",
       "\n",
       "#sk-container-id-1 div.sk-toggleable__content pre {\n",
       "  margin: 0.2em;\n",
       "  border-radius: 0.25em;\n",
       "  color: var(--sklearn-color-text);\n",
       "  /* unfitted */\n",
       "  background-color: var(--sklearn-color-unfitted-level-0);\n",
       "}\n",
       "\n",
       "#sk-container-id-1 div.sk-toggleable__content.fitted pre {\n",
       "  /* unfitted */\n",
       "  background-color: var(--sklearn-color-fitted-level-0);\n",
       "}\n",
       "\n",
       "#sk-container-id-1 input.sk-toggleable__control:checked~div.sk-toggleable__content {\n",
       "  /* Expand drop-down */\n",
       "  max-height: 200px;\n",
       "  max-width: 100%;\n",
       "  overflow: auto;\n",
       "}\n",
       "\n",
       "#sk-container-id-1 input.sk-toggleable__control:checked~label.sk-toggleable__label-arrow:before {\n",
       "  content: \"▾\";\n",
       "}\n",
       "\n",
       "/* Pipeline/ColumnTransformer-specific style */\n",
       "\n",
       "#sk-container-id-1 div.sk-label input.sk-toggleable__control:checked~label.sk-toggleable__label {\n",
       "  color: var(--sklearn-color-text);\n",
       "  background-color: var(--sklearn-color-unfitted-level-2);\n",
       "}\n",
       "\n",
       "#sk-container-id-1 div.sk-label.fitted input.sk-toggleable__control:checked~label.sk-toggleable__label {\n",
       "  background-color: var(--sklearn-color-fitted-level-2);\n",
       "}\n",
       "\n",
       "/* Estimator-specific style */\n",
       "\n",
       "/* Colorize estimator box */\n",
       "#sk-container-id-1 div.sk-estimator input.sk-toggleable__control:checked~label.sk-toggleable__label {\n",
       "  /* unfitted */\n",
       "  background-color: var(--sklearn-color-unfitted-level-2);\n",
       "}\n",
       "\n",
       "#sk-container-id-1 div.sk-estimator.fitted input.sk-toggleable__control:checked~label.sk-toggleable__label {\n",
       "  /* fitted */\n",
       "  background-color: var(--sklearn-color-fitted-level-2);\n",
       "}\n",
       "\n",
       "#sk-container-id-1 div.sk-label label.sk-toggleable__label,\n",
       "#sk-container-id-1 div.sk-label label {\n",
       "  /* The background is the default theme color */\n",
       "  color: var(--sklearn-color-text-on-default-background);\n",
       "}\n",
       "\n",
       "/* On hover, darken the color of the background */\n",
       "#sk-container-id-1 div.sk-label:hover label.sk-toggleable__label {\n",
       "  color: var(--sklearn-color-text);\n",
       "  background-color: var(--sklearn-color-unfitted-level-2);\n",
       "}\n",
       "\n",
       "/* Label box, darken color on hover, fitted */\n",
       "#sk-container-id-1 div.sk-label.fitted:hover label.sk-toggleable__label.fitted {\n",
       "  color: var(--sklearn-color-text);\n",
       "  background-color: var(--sklearn-color-fitted-level-2);\n",
       "}\n",
       "\n",
       "/* Estimator label */\n",
       "\n",
       "#sk-container-id-1 div.sk-label label {\n",
       "  font-family: monospace;\n",
       "  font-weight: bold;\n",
       "  display: inline-block;\n",
       "  line-height: 1.2em;\n",
       "}\n",
       "\n",
       "#sk-container-id-1 div.sk-label-container {\n",
       "  text-align: center;\n",
       "}\n",
       "\n",
       "/* Estimator-specific */\n",
       "#sk-container-id-1 div.sk-estimator {\n",
       "  font-family: monospace;\n",
       "  border: 1px dotted var(--sklearn-color-border-box);\n",
       "  border-radius: 0.25em;\n",
       "  box-sizing: border-box;\n",
       "  margin-bottom: 0.5em;\n",
       "  /* unfitted */\n",
       "  background-color: var(--sklearn-color-unfitted-level-0);\n",
       "}\n",
       "\n",
       "#sk-container-id-1 div.sk-estimator.fitted {\n",
       "  /* fitted */\n",
       "  background-color: var(--sklearn-color-fitted-level-0);\n",
       "}\n",
       "\n",
       "/* on hover */\n",
       "#sk-container-id-1 div.sk-estimator:hover {\n",
       "  /* unfitted */\n",
       "  background-color: var(--sklearn-color-unfitted-level-2);\n",
       "}\n",
       "\n",
       "#sk-container-id-1 div.sk-estimator.fitted:hover {\n",
       "  /* fitted */\n",
       "  background-color: var(--sklearn-color-fitted-level-2);\n",
       "}\n",
       "\n",
       "/* Specification for estimator info (e.g. \"i\" and \"?\") */\n",
       "\n",
       "/* Common style for \"i\" and \"?\" */\n",
       "\n",
       ".sk-estimator-doc-link,\n",
       "a:link.sk-estimator-doc-link,\n",
       "a:visited.sk-estimator-doc-link {\n",
       "  float: right;\n",
       "  font-size: smaller;\n",
       "  line-height: 1em;\n",
       "  font-family: monospace;\n",
       "  background-color: var(--sklearn-color-background);\n",
       "  border-radius: 1em;\n",
       "  height: 1em;\n",
       "  width: 1em;\n",
       "  text-decoration: none !important;\n",
       "  margin-left: 1ex;\n",
       "  /* unfitted */\n",
       "  border: var(--sklearn-color-unfitted-level-1) 1pt solid;\n",
       "  color: var(--sklearn-color-unfitted-level-1);\n",
       "}\n",
       "\n",
       ".sk-estimator-doc-link.fitted,\n",
       "a:link.sk-estimator-doc-link.fitted,\n",
       "a:visited.sk-estimator-doc-link.fitted {\n",
       "  /* fitted */\n",
       "  border: var(--sklearn-color-fitted-level-1) 1pt solid;\n",
       "  color: var(--sklearn-color-fitted-level-1);\n",
       "}\n",
       "\n",
       "/* On hover */\n",
       "div.sk-estimator:hover .sk-estimator-doc-link:hover,\n",
       ".sk-estimator-doc-link:hover,\n",
       "div.sk-label-container:hover .sk-estimator-doc-link:hover,\n",
       ".sk-estimator-doc-link:hover {\n",
       "  /* unfitted */\n",
       "  background-color: var(--sklearn-color-unfitted-level-3);\n",
       "  color: var(--sklearn-color-background);\n",
       "  text-decoration: none;\n",
       "}\n",
       "\n",
       "div.sk-estimator.fitted:hover .sk-estimator-doc-link.fitted:hover,\n",
       ".sk-estimator-doc-link.fitted:hover,\n",
       "div.sk-label-container:hover .sk-estimator-doc-link.fitted:hover,\n",
       ".sk-estimator-doc-link.fitted:hover {\n",
       "  /* fitted */\n",
       "  background-color: var(--sklearn-color-fitted-level-3);\n",
       "  color: var(--sklearn-color-background);\n",
       "  text-decoration: none;\n",
       "}\n",
       "\n",
       "/* Span, style for the box shown on hovering the info icon */\n",
       ".sk-estimator-doc-link span {\n",
       "  display: none;\n",
       "  z-index: 9999;\n",
       "  position: relative;\n",
       "  font-weight: normal;\n",
       "  right: .2ex;\n",
       "  padding: .5ex;\n",
       "  margin: .5ex;\n",
       "  width: min-content;\n",
       "  min-width: 20ex;\n",
       "  max-width: 50ex;\n",
       "  color: var(--sklearn-color-text);\n",
       "  box-shadow: 2pt 2pt 4pt #999;\n",
       "  /* unfitted */\n",
       "  background: var(--sklearn-color-unfitted-level-0);\n",
       "  border: .5pt solid var(--sklearn-color-unfitted-level-3);\n",
       "}\n",
       "\n",
       ".sk-estimator-doc-link.fitted span {\n",
       "  /* fitted */\n",
       "  background: var(--sklearn-color-fitted-level-0);\n",
       "  border: var(--sklearn-color-fitted-level-3);\n",
       "}\n",
       "\n",
       ".sk-estimator-doc-link:hover span {\n",
       "  display: block;\n",
       "}\n",
       "\n",
       "/* \"?\"-specific style due to the `<a>` HTML tag */\n",
       "\n",
       "#sk-container-id-1 a.estimator_doc_link {\n",
       "  float: right;\n",
       "  font-size: 1rem;\n",
       "  line-height: 1em;\n",
       "  font-family: monospace;\n",
       "  background-color: var(--sklearn-color-background);\n",
       "  border-radius: 1rem;\n",
       "  height: 1rem;\n",
       "  width: 1rem;\n",
       "  text-decoration: none;\n",
       "  /* unfitted */\n",
       "  color: var(--sklearn-color-unfitted-level-1);\n",
       "  border: var(--sklearn-color-unfitted-level-1) 1pt solid;\n",
       "}\n",
       "\n",
       "#sk-container-id-1 a.estimator_doc_link.fitted {\n",
       "  /* fitted */\n",
       "  border: var(--sklearn-color-fitted-level-1) 1pt solid;\n",
       "  color: var(--sklearn-color-fitted-level-1);\n",
       "}\n",
       "\n",
       "/* On hover */\n",
       "#sk-container-id-1 a.estimator_doc_link:hover {\n",
       "  /* unfitted */\n",
       "  background-color: var(--sklearn-color-unfitted-level-3);\n",
       "  color: var(--sklearn-color-background);\n",
       "  text-decoration: none;\n",
       "}\n",
       "\n",
       "#sk-container-id-1 a.estimator_doc_link.fitted:hover {\n",
       "  /* fitted */\n",
       "  background-color: var(--sklearn-color-fitted-level-3);\n",
       "}\n",
       "</style><div id=\"sk-container-id-1\" class=\"sk-top-container\"><div class=\"sk-text-repr-fallback\"><pre>LogisticRegression(random_state=0)</pre><b>In a Jupyter environment, please rerun this cell to show the HTML representation or trust the notebook. <br />On GitHub, the HTML representation is unable to render, please try loading this page with nbviewer.org.</b></div><div class=\"sk-container\" hidden><div class=\"sk-item\"><div class=\"sk-estimator fitted sk-toggleable\"><input class=\"sk-toggleable__control sk-hidden--visually\" id=\"sk-estimator-id-1\" type=\"checkbox\" checked><label for=\"sk-estimator-id-1\" class=\"sk-toggleable__label fitted sk-toggleable__label-arrow fitted\">&nbsp;&nbsp;LogisticRegression<a class=\"sk-estimator-doc-link fitted\" rel=\"noreferrer\" target=\"_blank\" href=\"https://scikit-learn.org/1.5/modules/generated/sklearn.linear_model.LogisticRegression.html\">?<span>Documentation for LogisticRegression</span></a><span class=\"sk-estimator-doc-link fitted\">i<span>Fitted</span></span></label><div class=\"sk-toggleable__content fitted\"><pre>LogisticRegression(random_state=0)</pre></div> </div></div></div></div>"
      ],
      "text/plain": [
       "LogisticRegression(random_state=0)"
      ]
     },
     "execution_count": 14,
     "metadata": {},
     "output_type": "execute_result"
    }
   ],
   "source": [
    "# Entrenem la regressió logística\n",
    "logReg = LogisticRegression(random_state = 0)\n",
    "logReg.fit(X, y)"
   ]
  },
  {
   "cell_type": "code",
   "execution_count": 15,
   "metadata": {
    "id": "WFoFepi3UOLY"
   },
   "outputs": [],
   "source": [
    "# Extraiem probabilitats per dibuixar les corbes\n",
    "prob = logReg.predict_proba(X)\n",
    "prob = prob[:,1]"
   ]
  },
  {
   "cell_type": "markdown",
   "metadata": {
    "id": "ihSJoc1YZzGm"
   },
   "source": [
    "Sobre les corbes, la ROC Curve mostra la relació entre el True Positive Rate (y) i el False Positive Rate (x). La idea és que dibuixi una corba amb tendència cap a la cantonada superior esquerra, on no s'hauran classificat erròniament els casos. La Precision-Recall Curve mostra quins són realment els casos positius que s'han predit com a positius (precision) i quina és la proporció de casos positius entre els positius reals (recall). Aquesta ha de tendir cap a la cantonada superior dreta. D'ambdues corbes es pot extreure la mètrica AUC, que serveix per veure quin és el rendiment. Sabent això i tenint en compte el nostre problema, caldrà considerar la P-R Curve. La ROC penalitza més els falsos positius"
   ]
  },
  {
   "cell_type": "code",
   "execution_count": 16,
   "metadata": {
    "colab": {
     "base_uri": "https://localhost:8080/",
     "height": 507
    },
    "id": "PKsEWJ4ox6YJ",
    "outputId": "5678d909-4f5b-4813-9eba-dbe1bf459ace"
   },
   "outputs": [
    {
     "name": "stdout",
     "output_type": "stream",
     "text": [
      "ROC AUC: 0.8406544811320755\n"
     ]
    },
    {
     "data": {
      "text/plain": [
       "[<matplotlib.lines.Line2D at 0x192b6682490>]"
      ]
     },
     "execution_count": 16,
     "metadata": {},
     "output_type": "execute_result"
    },
    {
     "data": {
      "image/png": "[encoded data removed]",
      "text/plain": [
       "<Figure size 640x480 with 1 Axes>"
      ]
     },
     "metadata": {},
     "output_type": "display_data"
    }
   ],
   "source": [
    "# Dibuixem la ROC Curve\n",
    "fPositive, tPositive, thresholds = roc_curve(y, prob)\n",
    "ROC_AUC = roc_auc_score(y, prob)\n",
    "print(\"ROC AUC:\", ROC_AUC)\n",
    "plt.title(\"Roc Curve\")\n",
    "plt.xlabel(\"False Positive Rate\")\n",
    "plt.ylabel(\"True Positive Rate\")\n",
    "plt.plot(fPositive, tPositive)"
   ]
  },
  {
   "cell_type": "code",
   "execution_count": 17,
   "metadata": {
    "colab": {
     "base_uri": "https://localhost:8080/",
     "height": 507
    },
    "id": "gKaj7wRHw3SA",
    "outputId": "cffa02df-43f4-47d1-ac44-0bb30227181c"
   },
   "outputs": [
    {
     "name": "stdout",
     "output_type": "stream",
     "text": [
      "AUPRC: 0.8267968860865721\n"
     ]
    },
    {
     "data": {
      "text/plain": [
       "[<matplotlib.lines.Line2D at 0x192b682cb90>]"
      ]
     },
     "execution_count": 17,
     "metadata": {},
     "output_type": "execute_result"
    },
    {
     "data": {
      "image/png": "[encoded data removed]",
      "text/plain": [
       "<Figure size 640x480 with 1 Axes>"
      ]
     },
     "metadata": {},
     "output_type": "display_data"
    }
   ],
   "source": [
    "# Dibuixem la Precision-Recall Curve\n",
    "precision, recall, thresholds = precision_recall_curve(y, prob)\n",
    "AUPRC = average_precision_score(y, prob)\n",
    "print(\"AUPRC:\", AUPRC)\n",
    "plt.title(\"Precision-Recall Curve\")\n",
    "plt.xlabel(\"Recall\")\n",
    "plt.ylabel(\"Precision\")\n",
    "plt.plot(recall, precision)"
   ]
  },
  {
   "cell_type": "markdown",
   "metadata": {
    "id": "m-sPt7DDaQWS"
   },
   "source": [
    "Classification_report ens mostra les mètriques de precision, recall, f1-score i suport. Precision mesura el percentatge d'elements d'una clase es troben en el nombre total d'elements d'aquesta classe. Recall indica el percentatge dels que han estat classificats correctament en aquesta classe. F1-score és la mitjana armònica entre precision i recall. Suport és el nombre d'elements de cada classe. Podem veure que tant precision com recall presenten un major percentatge, +10% i 7%, respectivament, en la classe 0. Això podria deure's a que les dades no estan balancejades."
   ]
  },
  {
   "cell_type": "code",
   "execution_count": 18,
   "metadata": {
    "colab": {
     "base_uri": "https://localhost:8080/"
    },
    "id": "xaMX5ix-7gsy",
    "outputId": "20d16d12-d4dc-40ed-9af8-4082386bf10f"
   },
   "outputs": [
    {
     "name": "stdout",
     "output_type": "stream",
     "text": [
      "Mètriques:\n",
      "               precision    recall  f1-score   support\n",
      "\n",
      "         0.0       0.82      0.80      0.81       424\n",
      "         1.0       0.72      0.73      0.72       288\n",
      "\n",
      "    accuracy                           0.77       712\n",
      "   macro avg       0.77      0.77      0.77       712\n",
      "weighted avg       0.77      0.77      0.77       712\n",
      "\n"
     ]
    }
   ],
   "source": [
    "y_pred = logReg.predict(X)\n",
    "\n",
    "metriques = classification_report(y, y_pred)\n",
    "print('Mètriques:\\n', metriques)"
   ]
  },
  {
   "cell_type": "markdown",
   "metadata": {
    "id": "t8xe5r78Cl7T"
   },
   "source": [
    "### 4. Model Selection amb validacio creuada (4 punts)\n",
    "\n",
    "Fent servir la metrica trobada en l'apartat anterior, en aquest apartat caldra seleccionar una serie de models i, fent us de la validacio creuada, seleccionar el millor model amb els seus respectius millors hyperparametres que haurem buscat fent hyperparameter search.\n",
    "\n",
    "La tasca d'aquesta pràctica s'enmarca dins l'aprenentatge computacional **supervisat**. A sklearn, disposem de varies tècniques [(veure documentació)](https://scikit-learn.org/stable/supervised_learning.html). A les classes de teoria, hem vist varies tècniques, com ara logistic regression, SVM amb diferents kernels, Nearest Neighbour... i tambe coneixeu altres tecniques d'altres cursos, com els arbres de decisio. Ademes, en la classe de problemes hem donat tambe els random forest i els gradient boosting. Per aquest apartat es demana seleccionar **un minim de 4 models** (per exemple, regressio logistica, random forest, KNN, SVM).\n",
    "\n",
    "**Preguntes:**\n",
    "* Quins models heu considerat? Perque els heu seleccionat?\n",
    "* Fent servir validacio creuada, escolliu el millor model (agafant els hiperparamtres per defecte). Recordeu fer servir la metrica utilitzada en l'apartat anterior. Perque es important fer servir validacio creuada? Heu de fer servir algun [tipus de validacio creuada](https://scikit-learn.org/stable/modules/cross_validation.html) en especial?\n",
    "\n",
    "* Seleccioneu una serie d'hyperparametres a provar per cadascun dels models i realitzeu una cerca d'hyperparametres. Hi ha algun model que creieu que podeu descartar de primeres? Perque?\n",
    "\n",
    "* Mostreu els resultats en una taula on es mostri el model, els experiments realitzats i els resultats obtinguts (tant en train com en test). Podeu mostrar tambe el temps d'entrenament de cada model.\n",
    "\n",
    "* Quin tipus de K-fold heu escollit en la seleccio de models? I en la seleccio de models amb hyperparametres? Com afecta al resultat modificar el numero de k (numero de folds) al resultat?\n",
    "\n",
    "* Quines formes de buscar el millor parametre heu trobat? Són costoses computacionalment parlant? [documentació](https://scikit-learn.org/stable/modules/grid_search.html) Quina heu seleccionat?\n",
    "\n",
    "* Si disposem de recursos limitats (per exemple, un PC durant 1 hora) quin dels métodes creieu que obtindrà millor resultat final?\n",
    "\n",
    "* Existeixen altres mètodes de búsqueda més eficients ([scikit-optimize](https://scikit-optimize.github.io/stable/))?\n",
    "\n",
    "* Opcional : Feu la prova, i amb el model i el metode de crossvalidació escollit, configureu els diferents metodes de búsqueda per a que s'executin durant el mateix temps (i.e. depenent del problema, 0,5h-1 hora). Analitzeu quin ha arribat a una millor solució. (Ajuda: estimeu el temps que trigarà a fer 1 training el vostre model, i aixi trobeu el número de intents que podeu fer en cada cas.)\n"
   ]
  },
  {
   "cell_type": "markdown",
   "metadata": {
    "id": "M8Mna2VUw9vY"
   },
   "source": [
    "Hem escollit Grid Search per trobar els millors paràmetres, encara que és computacionalment costosa, perquè entrena i avalua múltiples models."
   ]
  },
  {
   "cell_type": "code",
   "execution_count": 21,
   "metadata": {
    "id": "a0cUB7Ctpy5A"
   },
   "outputs": [],
   "source": [
    "# Fem la divisió en train i test, establint un 70% pel train i un 30% pel test\n",
    "\n",
    "X_train, X_test, y_train, y_test = train_test_split(X, y, random_state=42, test_size=0.3)"
   ]
  },
  {
   "cell_type": "markdown",
   "metadata": {
    "id": "HQjo2mxQdnLh"
   },
   "source": [
    "Hem triat els models de Regressio Logística, Random Forest, KNN i SVM. Considerem que aquests models són adequats per problemes de classificació, també per quan són de classificació binària com és el nostre cas.\n",
    "\n",
    "Per escollir el millor model emprem K-fold cross validation. Consisteix en dividir les dades en K parts, de manera que s'entrena el model en K-1 parts i es testeja amb la part restant, repetint el procés K vegades. Després es fa un promig de les mètriques de rendiment per obtenir una estimació més fiable de quin ha sigut el rendiment del model.\n",
    "Pels 4 models, ja sigui amb els hyperparametres per defecte com cercant els millors, emprem K-fold cross validation i busquem quina és la k que ens dona un millor f1-score.\n"
   ]
  },
  {
   "cell_type": "markdown",
   "metadata": {
    "id": "uuOyBfU46t6o"
   },
   "source": [
    "# **Hyperparametres per defecte**"
   ]
  },
  {
   "cell_type": "markdown",
   "metadata": {
    "id": "78WQ-xFQPVkC"
   },
   "source": [
    "**Regressió Logística**"
   ]
  },
  {
   "cell_type": "code",
   "execution_count": 22,
   "metadata": {
    "colab": {
     "base_uri": "https://localhost:8080/",
     "height": 1000
    },
    "id": "wa3x74vuLqua",
    "outputId": "45a6b14b-0749-4316-a1ad-dc7f016a3932"
   },
   "outputs": [
    {
     "name": "stdout",
     "output_type": "stream",
     "text": [
      "k = 2, 0.71 f1_score amb una desviació estandard de 0.01\n",
      "k = 3, 0.72 f1_score amb una desviació estandard de 0.04\n",
      "k = 4, 0.73 f1_score amb una desviació estandard de 0.04\n",
      "k = 5, 0.73 f1_score amb una desviació estandard de 0.04\n",
      "k = 6, 0.73 f1_score amb una desviació estandard de 0.07\n",
      "k = 7, 0.72 f1_score amb una desviació estandard de 0.06\n",
      "k = 8, 0.73 f1_score amb una desviació estandard de 0.08\n",
      "k = 9, 0.72 f1_score amb una desviació estandard de 0.09\n",
      "k = 10, 0.73 f1_score amb una desviació estandard de 0.09\n",
      "k = 11, 0.72 f1_score amb una desviació estandard de 0.10\n",
      "k = 12, 0.72 f1_score amb una desviació estandard de 0.09\n",
      "k = 13, 0.72 f1_score amb una desviació estandard de 0.11\n",
      "k = 14, 0.72 f1_score amb una desviació estandard de 0.08\n",
      "k = 15, 0.71 f1_score amb una desviació estandard de 0.10\n",
      "k = 16, 0.72 f1_score amb una desviació estandard de 0.12\n",
      "k = 17, 0.71 f1_score amb una desviació estandard de 0.12\n",
      "k = 18, 0.71 f1_score amb una desviació estandard de 0.12\n",
      "k = 19, 0.72 f1_score amb una desviació estandard de 0.11\n",
      "k = 20, 0.72 f1_score amb una desviació estandard de 0.12\n"
     ]
    },
    {
     "data": {
      "text/plain": [
       "([<matplotlib.axis.XTick at 0x28859ad87d0>,\n",
       "  <matplotlib.axis.XTick at 0x28859adb610>,\n",
       "  <matplotlib.axis.XTick at 0x28859a92c10>,\n",
       "  <matplotlib.axis.XTick at 0x28859a90f50>,\n",
       "  <matplotlib.axis.XTick at 0x28859a91310>,\n",
       "  <matplotlib.axis.XTick at 0x28859a90cd0>,\n",
       "  <matplotlib.axis.XTick at 0x28859a92350>,\n",
       "  <matplotlib.axis.XTick at 0x28859adb110>,\n",
       "  <matplotlib.axis.XTick at 0x28859b28050>,\n",
       "  <matplotlib.axis.XTick at 0x28859b287d0>,\n",
       "  <matplotlib.axis.XTick at 0x28859b28f50>,\n",
       "  <matplotlib.axis.XTick at 0x28859b296d0>,\n",
       "  <matplotlib.axis.XTick at 0x28859b29e50>,\n",
       "  <matplotlib.axis.XTick at 0x28859b2a5d0>,\n",
       "  <matplotlib.axis.XTick at 0x28859b2ad50>,\n",
       "  <matplotlib.axis.XTick at 0x28859b2b4d0>,\n",
       "  <matplotlib.axis.XTick at 0x28859b2bc50>,\n",
       "  <matplotlib.axis.XTick at 0x28859b44410>,\n",
       "  <matplotlib.axis.XTick at 0x28859b44b90>,\n",
       "  <matplotlib.axis.XTick at 0x28859b45310>,\n",
       "  <matplotlib.axis.XTick at 0x28859b45a90>],\n",
       " [Text(0, 0, '0'),\n",
       "  Text(1, 0, '1'),\n",
       "  Text(2, 0, '2'),\n",
       "  Text(3, 0, '3'),\n",
       "  Text(4, 0, '4'),\n",
       "  Text(5, 0, '5'),\n",
       "  Text(6, 0, '6'),\n",
       "  Text(7, 0, '7'),\n",
       "  Text(8, 0, '8'),\n",
       "  Text(9, 0, '9'),\n",
       "  Text(10, 0, '10'),\n",
       "  Text(11, 0, '11'),\n",
       "  Text(12, 0, '12'),\n",
       "  Text(13, 0, '13'),\n",
       "  Text(14, 0, '14'),\n",
       "  Text(15, 0, '15'),\n",
       "  Text(16, 0, '16'),\n",
       "  Text(17, 0, '17'),\n",
       "  Text(18, 0, '18'),\n",
       "  Text(19, 0, '19'),\n",
       "  Text(20, 0, '20')])"
      ]
     },
     "execution_count": 22,
     "metadata": {},
     "output_type": "execute_result"
    },
    {
     "data": {
      "image/png": "[encoded data removed]",
      "text/plain": [
       "<Figure size 640x480 with 1 Axes>"
      ]
     },
     "metadata": {},
     "output_type": "display_data"
    }
   ],
   "source": [
    "logReg = LogisticRegression()\n",
    "\n",
    "# Busquem la millor k per al cross validation\n",
    "k_range = range(2,21)\n",
    "scores = []\n",
    "for k in k_range:\n",
    "    score = cross_val_score(logReg, X_train, y_train, cv=k, scoring='f1')\n",
    "    print(\"k = %d, %0.2f f1_score amb una desviació estandard de %0.2f\" % (k, score.mean(), score.std()))\n",
    "    scores.append(score.mean())\n",
    "\n",
    "plt.figure()\n",
    "plt.xlabel('k')\n",
    "plt.ylabel('f1-score')\n",
    "plt.scatter(k_range, scores)\n",
    "plt.xticks([0,1,2,3,4,5,6,7,8,9,10,11,12,13,14,15,16,17,18,19,20])"
   ]
  },
  {
   "cell_type": "code",
   "execution_count": 23,
   "metadata": {
    "colab": {
     "base_uri": "https://localhost:8080/"
    },
    "id": "DPGMbcQbOg1x",
    "outputId": "a108e461-b590-44ae-fd20-17342d908407"
   },
   "outputs": [
    {
     "data": {
      "text/plain": [
       "array([0.68235294, 0.7654321 , 0.79518072, 0.70886076, 0.72      ])"
      ]
     },
     "execution_count": 23,
     "metadata": {},
     "output_type": "execute_result"
    }
   ],
   "source": [
    "# La millor k és 5 perquè té un f1-score de 0.73 i una desviació estandard de 0.04\n",
    "\n",
    "cross_val_score(logReg, X_train, y_train, cv=5, scoring='f1')"
   ]
  },
  {
   "cell_type": "code",
   "execution_count": 24,
   "metadata": {
    "colab": {
     "base_uri": "https://localhost:8080/"
    },
    "id": "NDge0rdHO8QV",
    "outputId": "26337322-0d4d-42bb-fb76-369c384264f3"
   },
   "outputs": [
    {
     "name": "stdout",
     "output_type": "stream",
     "text": [
      "Mètriques:\n",
      "               precision    recall  f1-score   support\n",
      "\n",
      "         0.0       0.76      0.81      0.79       122\n",
      "         1.0       0.73      0.66      0.69        92\n",
      "\n",
      "    accuracy                           0.75       214\n",
      "   macro avg       0.74      0.74      0.74       214\n",
      "weighted avg       0.75      0.75      0.75       214\n",
      "\n",
      "Temps d'entrenament 0.027149200439453125\n"
     ]
    }
   ],
   "source": [
    "inicio = time.time()\n",
    "\n",
    "logReg.fit(X_train, y_train)\n",
    "\n",
    "y_pred = logReg.predict(X_test)\n",
    "metriques = classification_report(y_test, y_pred)\n",
    "print('Mètriques:\\n', metriques)\n",
    "\n",
    "final = time.time()\n",
    "tiempo=final-inicio\n",
    "print(\"Temps d'entrenament\", tiempo)"
   ]
  },
  {
   "cell_type": "code",
   "execution_count": 25,
   "metadata": {
    "colab": {
     "base_uri": "https://localhost:8080/",
     "height": 507
    },
    "id": "tIszIXoiPCcI",
    "outputId": "d828545f-ff2e-4d46-beef-69cb39dc6e27"
   },
   "outputs": [
    {
     "name": "stdout",
     "output_type": "stream",
     "text": [
      "AUPRC: 0.7927866987451271\n"
     ]
    },
    {
     "data": {
      "text/plain": [
       "[<matplotlib.lines.Line2D at 0x28859b691d0>]"
      ]
     },
     "execution_count": 25,
     "metadata": {},
     "output_type": "execute_result"
    },
    {
     "data": {
      "image/png": "[encoded data removed]",
      "text/plain": [
       "<Figure size 640x480 with 1 Axes>"
      ]
     },
     "metadata": {},
     "output_type": "display_data"
    }
   ],
   "source": [
    "# Mostrem la Precision-Recall Curve\n",
    "\n",
    "prob = logReg.predict_proba(X_test)\n",
    "prob = prob[:,1]\n",
    "precision, recall, thresholds = precision_recall_curve(y_test, prob)\n",
    "AUPRC = average_precision_score(y_test, prob)\n",
    "print(\"AUPRC:\", AUPRC)\n",
    "plt.title(\"Precision-Recall Curve\")\n",
    "plt.xlabel(\"Recall\")\n",
    "plt.ylabel(\"Precision\")\n",
    "plt.plot(recall, precision)"
   ]
  },
  {
   "cell_type": "markdown",
   "metadata": {
    "id": "9eqZBgWFROGb"
   },
   "source": [
    "**Random Forest**"
   ]
  },
  {
   "cell_type": "code",
   "execution_count": 26,
   "metadata": {
    "colab": {
     "base_uri": "https://localhost:8080/",
     "height": 1000
    },
    "id": "YXlJOeZwRQfN",
    "outputId": "4a8c040a-fee3-493f-9f3f-b370d818541d"
   },
   "outputs": [
    {
     "name": "stdout",
     "output_type": "stream",
     "text": [
      "k = 2, 0.70 f1_score amb una desviació estandard de 0.03\n",
      "k = 3, 0.72 f1_score amb una desviació estandard de 0.04\n",
      "k = 4, 0.72 f1_score amb una desviació estandard de 0.03\n",
      "k = 5, 0.73 f1_score amb una desviació estandard de 0.03\n",
      "k = 6, 0.73 f1_score amb una desviació estandard de 0.04\n",
      "k = 7, 0.72 f1_score amb una desviació estandard de 0.04\n",
      "k = 8, 0.72 f1_score amb una desviació estandard de 0.07\n",
      "k = 9, 0.71 f1_score amb una desviació estandard de 0.09\n",
      "k = 10, 0.72 f1_score amb una desviació estandard de 0.06\n",
      "k = 11, 0.72 f1_score amb una desviació estandard de 0.10\n",
      "k = 12, 0.72 f1_score amb una desviació estandard de 0.09\n",
      "k = 13, 0.72 f1_score amb una desviació estandard de 0.07\n",
      "k = 14, 0.72 f1_score amb una desviació estandard de 0.07\n",
      "k = 15, 0.72 f1_score amb una desviació estandard de 0.09\n",
      "k = 16, 0.71 f1_score amb una desviació estandard de 0.11\n",
      "k = 17, 0.73 f1_score amb una desviació estandard de 0.10\n",
      "k = 18, 0.72 f1_score amb una desviació estandard de 0.10\n",
      "k = 19, 0.71 f1_score amb una desviació estandard de 0.11\n",
      "k = 20, 0.71 f1_score amb una desviació estandard de 0.11\n"
     ]
    },
    {
     "data": {
      "text/plain": [
       "([<matplotlib.axis.XTick at 0x288597b6710>,\n",
       "  <matplotlib.axis.XTick at 0x288597b5f90>,\n",
       "  <matplotlib.axis.XTick at 0x28859794f50>,\n",
       "  <matplotlib.axis.XTick at 0x28859795950>,\n",
       "  <matplotlib.axis.XTick at 0x28859796350>,\n",
       "  <matplotlib.axis.XTick at 0x28859752d50>,\n",
       "  <matplotlib.axis.XTick at 0x28859753610>,\n",
       "  <matplotlib.axis.XTick at 0x28859753b10>,\n",
       "  <matplotlib.axis.XTick at 0x288597b5950>,\n",
       "  <matplotlib.axis.XTick at 0x288597b6fd0>,\n",
       "  <matplotlib.axis.XTick at 0x288597b7750>,\n",
       "  <matplotlib.axis.XTick at 0x288597b7ed0>,\n",
       "  <matplotlib.axis.XTick at 0x28859800690>,\n",
       "  <matplotlib.axis.XTick at 0x28859800e10>,\n",
       "  <matplotlib.axis.XTick at 0x28859801590>,\n",
       "  <matplotlib.axis.XTick at 0x28859801d10>,\n",
       "  <matplotlib.axis.XTick at 0x28859802490>,\n",
       "  <matplotlib.axis.XTick at 0x28859802c10>,\n",
       "  <matplotlib.axis.XTick at 0x28859803390>,\n",
       "  <matplotlib.axis.XTick at 0x28859803b10>,\n",
       "  <matplotlib.axis.XTick at 0x2885981c2d0>],\n",
       " [Text(0, 0, '0'),\n",
       "  Text(1, 0, '1'),\n",
       "  Text(2, 0, '2'),\n",
       "  Text(3, 0, '3'),\n",
       "  Text(4, 0, '4'),\n",
       "  Text(5, 0, '5'),\n",
       "  Text(6, 0, '6'),\n",
       "  Text(7, 0, '7'),\n",
       "  Text(8, 0, '8'),\n",
       "  Text(9, 0, '9'),\n",
       "  Text(10, 0, '10'),\n",
       "  Text(11, 0, '11'),\n",
       "  Text(12, 0, '12'),\n",
       "  Text(13, 0, '13'),\n",
       "  Text(14, 0, '14'),\n",
       "  Text(15, 0, '15'),\n",
       "  Text(16, 0, '16'),\n",
       "  Text(17, 0, '17'),\n",
       "  Text(18, 0, '18'),\n",
       "  Text(19, 0, '19'),\n",
       "  Text(20, 0, '20')])"
      ]
     },
     "execution_count": 26,
     "metadata": {},
     "output_type": "execute_result"
    },
    {
     "data": {
      "image/png": "[encoded data removed]",
      "text/plain": [
       "<Figure size 640x480 with 1 Axes>"
      ]
     },
     "metadata": {},
     "output_type": "display_data"
    }
   ],
   "source": [
    "randomForest = RandomForestClassifier()\n",
    "\n",
    "# Busquem la millor k per al cross validation\n",
    "k_range = range(2,21)\n",
    "scores = []\n",
    "for k in k_range:\n",
    "    score = cross_val_score(randomForest, X_train, y_train, cv=k, scoring='f1')\n",
    "    print(\"k = %d, %0.2f f1_score amb una desviació estandard de %0.2f\" % (k, score.mean(), score.std()))\n",
    "    scores.append(score.mean())\n",
    "\n",
    "plt.figure()\n",
    "plt.xlabel('k')\n",
    "plt.ylabel('f1')\n",
    "plt.scatter(k_range, scores)\n",
    "plt.xticks([0,1,2,3,4,5,6,7,8,9,10,11,12,13,14,15,16,17,18,19,20])"
   ]
  },
  {
   "cell_type": "code",
   "execution_count": 27,
   "metadata": {
    "colab": {
     "base_uri": "https://localhost:8080/"
    },
    "id": "uOifYRifS3a9",
    "outputId": "6cc6d66e-f27e-4998-8fa2-d8c57b66d36c"
   },
   "outputs": [
    {
     "data": {
      "text/plain": [
       "array([0.73913043, 0.64864865, 0.74285714, 0.73684211, 0.75675676,\n",
       "       0.75675676, 0.76470588, 0.68421053, 0.8       , 0.6       ])"
      ]
     },
     "execution_count": 27,
     "metadata": {},
     "output_type": "execute_result"
    }
   ],
   "source": [
    "# La millor k és 10 perquè té un f1-score de 0.73 i una desviació estandard de 0.07\n",
    "\n",
    "cross_val_score(randomForest, X_train, y_train, cv=10, scoring='f1')"
   ]
  },
  {
   "cell_type": "code",
   "execution_count": 28,
   "metadata": {
    "colab": {
     "base_uri": "https://localhost:8080/"
    },
    "id": "g70jW-NkUB5K",
    "outputId": "e90917fb-4066-4190-a15b-b5bf1ba5cda4"
   },
   "outputs": [
    {
     "name": "stdout",
     "output_type": "stream",
     "text": [
      "Mètriques:\n",
      "               precision    recall  f1-score   support\n",
      "\n",
      "         0.0       0.76      0.84      0.80       122\n",
      "         1.0       0.76      0.64      0.69        92\n",
      "\n",
      "    accuracy                           0.76       214\n",
      "   macro avg       0.76      0.74      0.75       214\n",
      "weighted avg       0.76      0.76      0.75       214\n",
      "\n",
      "Temps d'entrenament 0.5020260810852051\n"
     ]
    }
   ],
   "source": [
    "inicio = time.time()\n",
    "\n",
    "randomForest.fit(X_train, y_train)\n",
    "\n",
    "y_pred = randomForest.predict(X_test)\n",
    "metriques = classification_report(y_test, y_pred)\n",
    "print('Mètriques:\\n', metriques)\n",
    "\n",
    "final = time.time()\n",
    "tiempo=final-inicio\n",
    "print(\"Temps d'entrenament\", tiempo)"
   ]
  },
  {
   "cell_type": "code",
   "execution_count": 29,
   "metadata": {
    "colab": {
     "base_uri": "https://localhost:8080/",
     "height": 507
    },
    "id": "cWbEy2OTUFtK",
    "outputId": "559e926e-7639-4467-e217-691e825949d6"
   },
   "outputs": [
    {
     "name": "stdout",
     "output_type": "stream",
     "text": [
      "AUPRC: 0.7600232040921147\n"
     ]
    },
    {
     "data": {
      "text/plain": [
       "[<matplotlib.lines.Line2D at 0x28859cf4cd0>]"
      ]
     },
     "execution_count": 29,
     "metadata": {},
     "output_type": "execute_result"
    },
    {
     "data": {
      "image/png": "[encoded data removed]",
      "text/plain": [
       "<Figure size 640x480 with 1 Axes>"
      ]
     },
     "metadata": {},
     "output_type": "display_data"
    }
   ],
   "source": [
    "# Mostrem la Precision-Recall Curve\n",
    "\n",
    "prob = randomForest.predict_proba(X_test)\n",
    "prob = prob[:,1]\n",
    "precision, recall, thresholds = precision_recall_curve(y_test, prob)\n",
    "AUPRC = average_precision_score(y_test, prob)\n",
    "print(\"AUPRC:\", AUPRC)\n",
    "plt.title(\"Precision-Recall Curve\")\n",
    "plt.xlabel(\"Recall\")\n",
    "plt.ylabel(\"Precision\")\n",
    "plt.plot(recall, precision)"
   ]
  },
  {
   "cell_type": "markdown",
   "metadata": {
    "id": "6vpec95BO9g8"
   },
   "source": [
    "**KNN**"
   ]
  },
  {
   "cell_type": "code",
   "execution_count": 30,
   "metadata": {
    "colab": {
     "base_uri": "https://localhost:8080/",
     "height": 1000
    },
    "id": "6SkKEJezEF0f",
    "outputId": "eb64cddd-fdc8-4378-d78d-56846949159c"
   },
   "outputs": [
    {
     "name": "stdout",
     "output_type": "stream",
     "text": [
      "k = 2, 0.71 f1_score amb una desviació estandard de 0.02\n",
      "k = 3, 0.72 f1_score amb una desviació estandard de 0.03\n",
      "k = 4, 0.70 f1_score amb una desviació estandard de 0.03\n",
      "k = 5, 0.69 f1_score amb una desviació estandard de 0.03\n",
      "k = 6, 0.69 f1_score amb una desviació estandard de 0.08\n",
      "k = 7, 0.70 f1_score amb una desviació estandard de 0.05\n",
      "k = 8, 0.69 f1_score amb una desviació estandard de 0.05\n",
      "k = 9, 0.69 f1_score amb una desviació estandard de 0.09\n",
      "k = 10, 0.69 f1_score amb una desviació estandard de 0.08\n",
      "k = 11, 0.69 f1_score amb una desviació estandard de 0.10\n",
      "k = 12, 0.69 f1_score amb una desviació estandard de 0.09\n",
      "k = 13, 0.67 f1_score amb una desviació estandard de 0.10\n",
      "k = 14, 0.69 f1_score amb una desviació estandard de 0.08\n",
      "k = 15, 0.68 f1_score amb una desviació estandard de 0.10\n",
      "k = 16, 0.68 f1_score amb una desviació estandard de 0.07\n",
      "k = 17, 0.67 f1_score amb una desviació estandard de 0.11\n",
      "k = 18, 0.67 f1_score amb una desviació estandard de 0.12\n",
      "k = 19, 0.67 f1_score amb una desviació estandard de 0.11\n",
      "k = 20, 0.68 f1_score amb una desviació estandard de 0.11\n"
     ]
    },
    {
     "data": {
      "text/plain": [
       "([<matplotlib.axis.XTick at 0x288597b4410>,\n",
       "  <matplotlib.axis.XTick at 0x28859d4a5d0>,\n",
       "  <matplotlib.axis.XTick at 0x28859d6e0d0>,\n",
       "  <matplotlib.axis.XTick at 0x28859d4b750>,\n",
       "  <matplotlib.axis.XTick at 0x28859d4bed0>,\n",
       "  <matplotlib.axis.XTick at 0x28859d6ee90>,\n",
       "  <matplotlib.axis.XTick at 0x28859d6f750>,\n",
       "  <matplotlib.axis.XTick at 0x28859dc0550>,\n",
       "  <matplotlib.axis.XTick at 0x28859dc0cd0>,\n",
       "  <matplotlib.axis.XTick at 0x28859dc1450>,\n",
       "  <matplotlib.axis.XTick at 0x28859dc1bd0>,\n",
       "  <matplotlib.axis.XTick at 0x28859dc2350>,\n",
       "  <matplotlib.axis.XTick at 0x28859dc2ad0>,\n",
       "  <matplotlib.axis.XTick at 0x28859dc3250>,\n",
       "  <matplotlib.axis.XTick at 0x28859dc39d0>,\n",
       "  <matplotlib.axis.XTick at 0x28859ba0190>,\n",
       "  <matplotlib.axis.XTick at 0x28859ba0910>,\n",
       "  <matplotlib.axis.XTick at 0x28859ba1090>,\n",
       "  <matplotlib.axis.XTick at 0x28859ba1810>,\n",
       "  <matplotlib.axis.XTick at 0x28859ba1f90>,\n",
       "  <matplotlib.axis.XTick at 0x28859ba2710>],\n",
       " [Text(0, 0, '0'),\n",
       "  Text(1, 0, '1'),\n",
       "  Text(2, 0, '2'),\n",
       "  Text(3, 0, '3'),\n",
       "  Text(4, 0, '4'),\n",
       "  Text(5, 0, '5'),\n",
       "  Text(6, 0, '6'),\n",
       "  Text(7, 0, '7'),\n",
       "  Text(8, 0, '8'),\n",
       "  Text(9, 0, '9'),\n",
       "  Text(10, 0, '10'),\n",
       "  Text(11, 0, '11'),\n",
       "  Text(12, 0, '12'),\n",
       "  Text(13, 0, '13'),\n",
       "  Text(14, 0, '14'),\n",
       "  Text(15, 0, '15'),\n",
       "  Text(16, 0, '16'),\n",
       "  Text(17, 0, '17'),\n",
       "  Text(18, 0, '18'),\n",
       "  Text(19, 0, '19'),\n",
       "  Text(20, 0, '20')])"
      ]
     },
     "execution_count": 30,
     "metadata": {},
     "output_type": "execute_result"
    },
    {
     "data": {
      "image/png": "[encoded data removed]",
      "text/plain": [
       "<Figure size 640x480 with 1 Axes>"
      ]
     },
     "metadata": {},
     "output_type": "display_data"
    }
   ],
   "source": [
    "KNN = KNeighborsClassifier()\n",
    "\n",
    "# Mirem quina és la millor k per al cross_validation\n",
    "k_range = range(2,21)\n",
    "scores = []\n",
    "for k in k_range:\n",
    "    score = cross_val_score(KNN, X_train, y_train, cv=k, scoring='f1')\n",
    "    print(\"k = %d, %0.2f f1_score amb una desviació estandard de %0.2f\" % (k, score.mean(), score.std()))\n",
    "    scores.append(score.mean())\n",
    "\n",
    "plt.figure()\n",
    "plt.xlabel('k')\n",
    "plt.ylabel('f1-score')\n",
    "plt.scatter(k_range, scores)\n",
    "plt.xticks([0,1,2,3,4,5,6,7,8,9,10,11,12,13,14,15,16,17,18,19,20])"
   ]
  },
  {
   "cell_type": "code",
   "execution_count": 31,
   "metadata": {
    "colab": {
     "base_uri": "https://localhost:8080/"
    },
    "id": "W_cXmgQhFgmS",
    "outputId": "bcddffe8-f235-4553-a30f-6814ae8e28a4"
   },
   "outputs": [
    {
     "data": {
      "text/plain": [
       "array([0.70676692, 0.75409836, 0.68852459])"
      ]
     },
     "execution_count": 31,
     "metadata": {},
     "output_type": "execute_result"
    }
   ],
   "source": [
    "# La millor k és 3 perquè té un f1-score de 0.72 i una desviació estandard de 0.02\n",
    "\n",
    "cross_val_score(KNN, X_train, y_train, cv=3, scoring='f1')"
   ]
  },
  {
   "cell_type": "code",
   "execution_count": 32,
   "metadata": {
    "colab": {
     "base_uri": "https://localhost:8080/"
    },
    "id": "UewuWxpWF9x_",
    "outputId": "a9ea2c79-9d5d-4f70-b96b-53498b6054a5"
   },
   "outputs": [
    {
     "name": "stdout",
     "output_type": "stream",
     "text": [
      "Mètriques:\n",
      "               precision    recall  f1-score   support\n",
      "\n",
      "         0.0       0.72      0.75      0.74       122\n",
      "         1.0       0.65      0.61      0.63        92\n",
      "\n",
      "    accuracy                           0.69       214\n",
      "   macro avg       0.68      0.68      0.68       214\n",
      "weighted avg       0.69      0.69      0.69       214\n",
      "\n",
      "Temps d'entrenament 0.06179404258728027\n"
     ]
    }
   ],
   "source": [
    "inicio = time.time()\n",
    "\n",
    "KNN.fit(X_train, y_train)\n",
    "\n",
    "y_pred = KNN.predict(X_test)\n",
    "metriques = classification_report(y_test, y_pred)\n",
    "print('Mètriques:\\n', metriques)\n",
    "\n",
    "final = time.time()\n",
    "tiempo=final-inicio\n",
    "print(\"Temps d'entrenament\", tiempo)"
   ]
  },
  {
   "cell_type": "code",
   "execution_count": 33,
   "metadata": {
    "colab": {
     "base_uri": "https://localhost:8080/",
     "height": 507
    },
    "id": "t2f3POmsHvrw",
    "outputId": "62c936a5-f845-456e-b203-826361182cae"
   },
   "outputs": [
    {
     "name": "stdout",
     "output_type": "stream",
     "text": [
      "AUPRC: 0.7065161316032548\n"
     ]
    },
    {
     "data": {
      "text/plain": [
       "[<matplotlib.lines.Line2D at 0x28859bc9a90>]"
      ]
     },
     "execution_count": 33,
     "metadata": {},
     "output_type": "execute_result"
    },
    {
     "data": {
      "image/png": "[encoded data removed]",
      "text/plain": [
       "<Figure size 640x480 with 1 Axes>"
      ]
     },
     "metadata": {},
     "output_type": "display_data"
    }
   ],
   "source": [
    "# Mostrem la Precision-Recall Curve\n",
    "\n",
    "prob = KNN.predict_proba(X_test)\n",
    "prob = prob[:,1]\n",
    "precision, recall, thresholds = precision_recall_curve(y_test, prob)\n",
    "AUPRC = average_precision_score(y_test, prob)\n",
    "print(\"AUPRC:\", AUPRC)\n",
    "plt.title(\"Precision-Recall Curve\")\n",
    "plt.xlabel(\"Recall\")\n",
    "plt.ylabel(\"Precision\")\n",
    "plt.plot(recall, precision)"
   ]
  },
  {
   "cell_type": "markdown",
   "metadata": {
    "id": "0Jhj_FlBo7JP"
   },
   "source": [
    "**SVM**"
   ]
  },
  {
   "cell_type": "code",
   "execution_count": 34,
   "metadata": {
    "colab": {
     "base_uri": "https://localhost:8080/",
     "height": 1000
    },
    "id": "Ku8hS6_no9LA",
    "outputId": "fd586bcb-53bd-4c6d-88da-69908e878b47"
   },
   "outputs": [
    {
     "name": "stdout",
     "output_type": "stream",
     "text": [
      "k = 2, 0.70 f1_score amb una desviació estandard de 0.02\n",
      "k = 3, 0.69 f1_score amb una desviació estandard de 0.03\n",
      "k = 4, 0.70 f1_score amb una desviació estandard de 0.02\n",
      "k = 5, 0.70 f1_score amb una desviació estandard de 0.04\n",
      "k = 6, 0.70 f1_score amb una desviació estandard de 0.08\n",
      "k = 7, 0.70 f1_score amb una desviació estandard de 0.05\n",
      "k = 8, 0.70 f1_score amb una desviació estandard de 0.06\n",
      "k = 9, 0.70 f1_score amb una desviació estandard de 0.07\n",
      "k = 10, 0.71 f1_score amb una desviació estandard de 0.09\n",
      "k = 11, 0.70 f1_score amb una desviació estandard de 0.10\n",
      "k = 12, 0.70 f1_score amb una desviació estandard de 0.10\n",
      "k = 13, 0.70 f1_score amb una desviació estandard de 0.09\n",
      "k = 14, 0.70 f1_score amb una desviació estandard de 0.10\n",
      "k = 15, 0.70 f1_score amb una desviació estandard de 0.12\n",
      "k = 16, 0.70 f1_score amb una desviació estandard de 0.10\n",
      "k = 17, 0.70 f1_score amb una desviació estandard de 0.10\n",
      "k = 18, 0.69 f1_score amb una desviació estandard de 0.14\n",
      "k = 19, 0.70 f1_score amb una desviació estandard de 0.12\n",
      "k = 20, 0.70 f1_score amb una desviació estandard de 0.10\n"
     ]
    },
    {
     "data": {
      "text/plain": [
       "([<matplotlib.axis.XTick at 0x28859c4e710>,\n",
       "  <matplotlib.axis.XTick at 0x28859c4df90>,\n",
       "  <matplotlib.axis.XTick at 0x28859c4c690>,\n",
       "  <matplotlib.axis.XTick at 0x28859c1fed0>,\n",
       "  <matplotlib.axis.XTick at 0x28859c6ca50>,\n",
       "  <matplotlib.axis.XTick at 0x28859c6d1d0>,\n",
       "  <matplotlib.axis.XTick at 0x28859c6d950>,\n",
       "  <matplotlib.axis.XTick at 0x28859c6e0d0>,\n",
       "  <matplotlib.axis.XTick at 0x28859c6e850>,\n",
       "  <matplotlib.axis.XTick at 0x28859c6efd0>,\n",
       "  <matplotlib.axis.XTick at 0x28859c6f750>,\n",
       "  <matplotlib.axis.XTick at 0x28859c6fed0>,\n",
       "  <matplotlib.axis.XTick at 0x28859de8690>,\n",
       "  <matplotlib.axis.XTick at 0x28859de8e10>,\n",
       "  <matplotlib.axis.XTick at 0x28859de9590>,\n",
       "  <matplotlib.axis.XTick at 0x28859de9d10>,\n",
       "  <matplotlib.axis.XTick at 0x28859dea490>,\n",
       "  <matplotlib.axis.XTick at 0x28859deac10>,\n",
       "  <matplotlib.axis.XTick at 0x28859deb390>,\n",
       "  <matplotlib.axis.XTick at 0x28859debb10>,\n",
       "  <matplotlib.axis.XTick at 0x28859e002d0>],\n",
       " [Text(0, 0, '0'),\n",
       "  Text(1, 0, '1'),\n",
       "  Text(2, 0, '2'),\n",
       "  Text(3, 0, '3'),\n",
       "  Text(4, 0, '4'),\n",
       "  Text(5, 0, '5'),\n",
       "  Text(6, 0, '6'),\n",
       "  Text(7, 0, '7'),\n",
       "  Text(8, 0, '8'),\n",
       "  Text(9, 0, '9'),\n",
       "  Text(10, 0, '10'),\n",
       "  Text(11, 0, '11'),\n",
       "  Text(12, 0, '12'),\n",
       "  Text(13, 0, '13'),\n",
       "  Text(14, 0, '14'),\n",
       "  Text(15, 0, '15'),\n",
       "  Text(16, 0, '16'),\n",
       "  Text(17, 0, '17'),\n",
       "  Text(18, 0, '18'),\n",
       "  Text(19, 0, '19'),\n",
       "  Text(20, 0, '20')])"
      ]
     },
     "execution_count": 34,
     "metadata": {},
     "output_type": "execute_result"
    },
    {
     "data": {
      "image/png": "[encoded data removed]",
      "text/plain": [
       "<Figure size 640x480 with 1 Axes>"
      ]
     },
     "metadata": {},
     "output_type": "display_data"
    }
   ],
   "source": [
    "svmRadial = svm.SVC(probability=True)\n",
    "\n",
    "# Mirem quina és la millor k per al cross_validation\n",
    "k_range = range(2,21)\n",
    "scores = []\n",
    "for k in k_range:\n",
    "    score = cross_val_score(svmRadial, X_train, y_train, cv=k, scoring='f1')\n",
    "    print(\"k = %d, %0.2f f1_score amb una desviació estandard de %0.2f\" % (k, score.mean(), score.std()))\n",
    "    scores.append(score.mean())\n",
    "\n",
    "plt.figure()\n",
    "plt.xlabel('k')\n",
    "plt.ylabel('f1-score')\n",
    "plt.scatter(k_range, scores)\n",
    "plt.xticks([0,1,2,3,4,5,6,7,8,9,10,11,12,13,14,15,16,17,18,19,20])"
   ]
  },
  {
   "cell_type": "code",
   "execution_count": 35,
   "metadata": {
    "colab": {
     "base_uri": "https://localhost:8080/"
    },
    "id": "rFxwE5P2RxJc",
    "outputId": "c3e49ad1-420c-4ff5-ed26-eddbd9c317e1"
   },
   "outputs": [
    {
     "data": {
      "text/plain": [
       "array([0.77777778, 0.6875    , 0.76470588, 0.72727273, 0.625     ,\n",
       "       0.78787879, 0.73333333, 0.48275862, 0.77419355, 0.68965517])"
      ]
     },
     "execution_count": 35,
     "metadata": {},
     "output_type": "execute_result"
    }
   ],
   "source": [
    "# La millor k és 10 perquè té un f1-score de 0.71 i una desviació estandard de 0.09\n",
    "\n",
    "cross_val_score(svmRadial, X_train, y_train, cv=10, scoring='f1')"
   ]
  },
  {
   "cell_type": "code",
   "execution_count": 36,
   "metadata": {
    "colab": {
     "base_uri": "https://localhost:8080/"
    },
    "id": "d2ex8EBjUbOC",
    "outputId": "2f5d7c8e-5de7-449d-d3fd-a64375d23f9e"
   },
   "outputs": [
    {
     "name": "stdout",
     "output_type": "stream",
     "text": [
      "Mètriques:\n",
      "               precision    recall  f1-score   support\n",
      "\n",
      "         0.0       0.74      0.93      0.82       122\n",
      "         1.0       0.85      0.57      0.68        92\n",
      "\n",
      "    accuracy                           0.77       214\n",
      "   macro avg       0.80      0.75      0.75       214\n",
      "weighted avg       0.79      0.77      0.76       214\n",
      "\n",
      "Temps d'entrenament 0.14877796173095703\n"
     ]
    }
   ],
   "source": [
    "inicio = time.time()\n",
    "\n",
    "svmRadial.fit(X_train, y_train)\n",
    "\n",
    "y_pred = svmRadial.predict(X_test)\n",
    "metriques = classification_report(y_test, y_pred)\n",
    "print('Mètriques:\\n', metriques)\n",
    "\n",
    "final = time.time()\n",
    "tiempo=final-inicio\n",
    "print(\"Temps d'entrenament\", tiempo)"
   ]
  },
  {
   "cell_type": "code",
   "execution_count": 37,
   "metadata": {
    "colab": {
     "base_uri": "https://localhost:8080/",
     "height": 507
    },
    "id": "vlP_qR5bUblO",
    "outputId": "7349d1ad-e6da-4b63-fd89-f09bb5ebe841"
   },
   "outputs": [
    {
     "name": "stdout",
     "output_type": "stream",
     "text": [
      "AUPRC: 0.8098752149944235\n"
     ]
    },
    {
     "data": {
      "text/plain": [
       "[<matplotlib.lines.Line2D at 0x28859d782d0>]"
      ]
     },
     "execution_count": 37,
     "metadata": {},
     "output_type": "execute_result"
    },
    {
     "data": {
      "image/png": "[encoded data removed]",
      "text/plain": [
       "<Figure size 640x480 with 1 Axes>"
      ]
     },
     "metadata": {},
     "output_type": "display_data"
    }
   ],
   "source": [
    "# Mostrem la Precision-Recall Curve\n",
    "\n",
    "prob = svmRadial.predict_proba(X_test)\n",
    "prob = prob[:,1]\n",
    "precision, recall, thresholds = precision_recall_curve(y_test, prob)\n",
    "AUPRC = average_precision_score(y_test, prob)\n",
    "print(\"AUPRC:\", AUPRC)\n",
    "plt.title(\"Precision-Recall Curve\")\n",
    "plt.xlabel(\"Recall\")\n",
    "plt.ylabel(\"Precision\")\n",
    "plt.plot(recall, precision)"
   ]
  },
  {
   "cell_type": "markdown",
   "metadata": {
    "id": "dH9_Hrwp7xsX"
   },
   "source": [
    "# **Cerca d'hyperparametres**"
   ]
  },
  {
   "cell_type": "markdown",
   "metadata": {
    "id": "uyf8DGVJfyXt"
   },
   "source": [
    "La cerca del millor hyperparametre la fem amb GridSearchCV. Es basa en una quadricula que representa totes les combinacions possibles dels valors dels hyperparametres que volem avaluar. Llavors per cadascuna d'aquesta combinacions s'estrena un model i s'evalua el seu rendiment amb una mètrica. Després es selecciona el model que té un millor rendiment en funció de la mètrica escollida. És una forma clarament costosa a nivell computacional perquè cal valorar totes les combinacions dels valors dels hyperparametres."
   ]
  },
  {
   "cell_type": "markdown",
   "metadata": {
    "id": "-NgVX0Mm8DdF"
   },
   "source": [
    "**Regressió Logística**"
   ]
  },
  {
   "cell_type": "code",
   "execution_count": 38,
   "metadata": {
    "colab": {
     "base_uri": "https://localhost:8080/",
     "height": 118
    },
    "id": "5joKSoYO8IYN",
    "outputId": "fd7c9e9e-dbd5-4096-d297-c43c4abf3ba5"
   },
   "outputs": [
    {
     "data": {
      "text/html": [
       "<style>#sk-container-id-2 {\n",
       "  /* Definition of color scheme common for light and dark mode */\n",
       "  --sklearn-color-text: black;\n",
       "  --sklearn-color-line: gray;\n",
       "  /* Definition of color scheme for unfitted estimators */\n",
       "  --sklearn-color-unfitted-level-0: #fff5e6;\n",
       "  --sklearn-color-unfitted-level-1: #f6e4d2;\n",
       "  --sklearn-color-unfitted-level-2: #ffe0b3;\n",
       "  --sklearn-color-unfitted-level-3: chocolate;\n",
       "  /* Definition of color scheme for fitted estimators */\n",
       "  --sklearn-color-fitted-level-0: #f0f8ff;\n",
       "  --sklearn-color-fitted-level-1: #d4ebff;\n",
       "  --sklearn-color-fitted-level-2: #b3dbfd;\n",
       "  --sklearn-color-fitted-level-3: cornflowerblue;\n",
       "\n",
       "  /* Specific color for light theme */\n",
       "  --sklearn-color-text-on-default-background: var(--sg-text-color, var(--theme-code-foreground, var(--jp-content-font-color1, black)));\n",
       "  --sklearn-color-background: var(--sg-background-color, var(--theme-background, var(--jp-layout-color0, white)));\n",
       "  --sklearn-color-border-box: var(--sg-text-color, var(--theme-code-foreground, var(--jp-content-font-color1, black)));\n",
       "  --sklearn-color-icon: #696969;\n",
       "\n",
       "  @media (prefers-color-scheme: dark) {\n",
       "    /* Redefinition of color scheme for dark theme */\n",
       "    --sklearn-color-text-on-default-background: var(--sg-text-color, var(--theme-code-foreground, var(--jp-content-font-color1, white)));\n",
       "    --sklearn-color-background: var(--sg-background-color, var(--theme-background, var(--jp-layout-color0, #111)));\n",
       "    --sklearn-color-border-box: var(--sg-text-color, var(--theme-code-foreground, var(--jp-content-font-color1, white)));\n",
       "    --sklearn-color-icon: #878787;\n",
       "  }\n",
       "}\n",
       "\n",
       "#sk-container-id-2 {\n",
       "  color: var(--sklearn-color-text);\n",
       "}\n",
       "\n",
       "#sk-container-id-2 pre {\n",
       "  padding: 0;\n",
       "}\n",
       "\n",
       "#sk-container-id-2 input.sk-hidden--visually {\n",
       "  border: 0;\n",
       "  clip: rect(1px 1px 1px 1px);\n",
       "  clip: rect(1px, 1px, 1px, 1px);\n",
       "  height: 1px;\n",
       "  margin: -1px;\n",
       "  overflow: hidden;\n",
       "  padding: 0;\n",
       "  position: absolute;\n",
       "  width: 1px;\n",
       "}\n",
       "\n",
       "#sk-container-id-2 div.sk-dashed-wrapped {\n",
       "  border: 1px dashed var(--sklearn-color-line);\n",
       "  margin: 0 0.4em 0.5em 0.4em;\n",
       "  box-sizing: border-box;\n",
       "  padding-bottom: 0.4em;\n",
       "  background-color: var(--sklearn-color-background);\n",
       "}\n",
       "\n",
       "#sk-container-id-2 div.sk-container {\n",
       "  /* jupyter's `normalize.less` sets `[hidden] { display: none; }`\n",
       "     but bootstrap.min.css set `[hidden] { display: none !important; }`\n",
       "     so we also need the `!important` here to be able to override the\n",
       "     default hidden behavior on the sphinx rendered scikit-learn.org.\n",
       "     See: https://github.com/scikit-learn/scikit-learn/issues/21755 */\n",
       "  display: inline-block !important;\n",
       "  position: relative;\n",
       "}\n",
       "\n",
       "#sk-container-id-2 div.sk-text-repr-fallback {\n",
       "  display: none;\n",
       "}\n",
       "\n",
       "div.sk-parallel-item,\n",
       "div.sk-serial,\n",
       "div.sk-item {\n",
       "  /* draw centered vertical line to link estimators */\n",
       "  background-image: linear-gradient(var(--sklearn-color-text-on-default-background), var(--sklearn-color-text-on-default-background));\n",
       "  background-size: 2px 100%;\n",
       "  background-repeat: no-repeat;\n",
       "  background-position: center center;\n",
       "}\n",
       "\n",
       "/* Parallel-specific style estimator block */\n",
       "\n",
       "#sk-container-id-2 div.sk-parallel-item::after {\n",
       "  content: \"\";\n",
       "  width: 100%;\n",
       "  border-bottom: 2px solid var(--sklearn-color-text-on-default-background);\n",
       "  flex-grow: 1;\n",
       "}\n",
       "\n",
       "#sk-container-id-2 div.sk-parallel {\n",
       "  display: flex;\n",
       "  align-items: stretch;\n",
       "  justify-content: center;\n",
       "  background-color: var(--sklearn-color-background);\n",
       "  position: relative;\n",
       "}\n",
       "\n",
       "#sk-container-id-2 div.sk-parallel-item {\n",
       "  display: flex;\n",
       "  flex-direction: column;\n",
       "}\n",
       "\n",
       "#sk-container-id-2 div.sk-parallel-item:first-child::after {\n",
       "  align-self: flex-end;\n",
       "  width: 50%;\n",
       "}\n",
       "\n",
       "#sk-container-id-2 div.sk-parallel-item:last-child::after {\n",
       "  align-self: flex-start;\n",
       "  width: 50%;\n",
       "}\n",
       "\n",
       "#sk-container-id-2 div.sk-parallel-item:only-child::after {\n",
       "  width: 0;\n",
       "}\n",
       "\n",
       "/* Serial-specific style estimator block */\n",
       "\n",
       "#sk-container-id-2 div.sk-serial {\n",
       "  display: flex;\n",
       "  flex-direction: column;\n",
       "  align-items: center;\n",
       "  background-color: var(--sklearn-color-background);\n",
       "  padding-right: 1em;\n",
       "  padding-left: 1em;\n",
       "}\n",
       "\n",
       "\n",
       "/* Toggleable style: style used for estimator/Pipeline/ColumnTransformer box that is\n",
       "clickable and can be expanded/collapsed.\n",
       "- Pipeline and ColumnTransformer use this feature and define the default style\n",
       "- Estimators will overwrite some part of the style using the `sk-estimator` class\n",
       "*/\n",
       "\n",
       "/* Pipeline and ColumnTransformer style (default) */\n",
       "\n",
       "#sk-container-id-2 div.sk-toggleable {\n",
       "  /* Default theme specific background. It is overwritten whether we have a\n",
       "  specific estimator or a Pipeline/ColumnTransformer */\n",
       "  background-color: var(--sklearn-color-background);\n",
       "}\n",
       "\n",
       "/* Toggleable label */\n",
       "#sk-container-id-2 label.sk-toggleable__label {\n",
       "  cursor: pointer;\n",
       "  display: block;\n",
       "  width: 100%;\n",
       "  margin-bottom: 0;\n",
       "  padding: 0.5em;\n",
       "  box-sizing: border-box;\n",
       "  text-align: center;\n",
       "}\n",
       "\n",
       "#sk-container-id-2 label.sk-toggleable__label-arrow:before {\n",
       "  /* Arrow on the left of the label */\n",
       "  content: \"▸\";\n",
       "  float: left;\n",
       "  margin-right: 0.25em;\n",
       "  color: var(--sklearn-color-icon);\n",
       "}\n",
       "\n",
       "#sk-container-id-2 label.sk-toggleable__label-arrow:hover:before {\n",
       "  color: var(--sklearn-color-text);\n",
       "}\n",
       "\n",
       "/* Toggleable content - dropdown */\n",
       "\n",
       "#sk-container-id-2 div.sk-toggleable__content {\n",
       "  max-height: 0;\n",
       "  max-width: 0;\n",
       "  overflow: hidden;\n",
       "  text-align: left;\n",
       "  /* unfitted */\n",
       "  background-color: var(--sklearn-color-unfitted-level-0);\n",
       "}\n",
       "\n",
       "#sk-container-id-2 div.sk-toggleable__content.fitted {\n",
       "  /* fitted */\n",
       "  background-color: var(--sklearn-color-fitted-level-0);\n",
       "}\n",
       "\n",
       "#sk-container-id-2 div.sk-toggleable__content pre {\n",
       "  margin: 0.2em;\n",
       "  border-radius: 0.25em;\n",
       "  color: var(--sklearn-color-text);\n",
       "  /* unfitted */\n",
       "  background-color: var(--sklearn-color-unfitted-level-0);\n",
       "}\n",
       "\n",
       "#sk-container-id-2 div.sk-toggleable__content.fitted pre {\n",
       "  /* unfitted */\n",
       "  background-color: var(--sklearn-color-fitted-level-0);\n",
       "}\n",
       "\n",
       "#sk-container-id-2 input.sk-toggleable__control:checked~div.sk-toggleable__content {\n",
       "  /* Expand drop-down */\n",
       "  max-height: 200px;\n",
       "  max-width: 100%;\n",
       "  overflow: auto;\n",
       "}\n",
       "\n",
       "#sk-container-id-2 input.sk-toggleable__control:checked~label.sk-toggleable__label-arrow:before {\n",
       "  content: \"▾\";\n",
       "}\n",
       "\n",
       "/* Pipeline/ColumnTransformer-specific style */\n",
       "\n",
       "#sk-container-id-2 div.sk-label input.sk-toggleable__control:checked~label.sk-toggleable__label {\n",
       "  color: var(--sklearn-color-text);\n",
       "  background-color: var(--sklearn-color-unfitted-level-2);\n",
       "}\n",
       "\n",
       "#sk-container-id-2 div.sk-label.fitted input.sk-toggleable__control:checked~label.sk-toggleable__label {\n",
       "  background-color: var(--sklearn-color-fitted-level-2);\n",
       "}\n",
       "\n",
       "/* Estimator-specific style */\n",
       "\n",
       "/* Colorize estimator box */\n",
       "#sk-container-id-2 div.sk-estimator input.sk-toggleable__control:checked~label.sk-toggleable__label {\n",
       "  /* unfitted */\n",
       "  background-color: var(--sklearn-color-unfitted-level-2);\n",
       "}\n",
       "\n",
       "#sk-container-id-2 div.sk-estimator.fitted input.sk-toggleable__control:checked~label.sk-toggleable__label {\n",
       "  /* fitted */\n",
       "  background-color: var(--sklearn-color-fitted-level-2);\n",
       "}\n",
       "\n",
       "#sk-container-id-2 div.sk-label label.sk-toggleable__label,\n",
       "#sk-container-id-2 div.sk-label label {\n",
       "  /* The background is the default theme color */\n",
       "  color: var(--sklearn-color-text-on-default-background);\n",
       "}\n",
       "\n",
       "/* On hover, darken the color of the background */\n",
       "#sk-container-id-2 div.sk-label:hover label.sk-toggleable__label {\n",
       "  color: var(--sklearn-color-text);\n",
       "  background-color: var(--sklearn-color-unfitted-level-2);\n",
       "}\n",
       "\n",
       "/* Label box, darken color on hover, fitted */\n",
       "#sk-container-id-2 div.sk-label.fitted:hover label.sk-toggleable__label.fitted {\n",
       "  color: var(--sklearn-color-text);\n",
       "  background-color: var(--sklearn-color-fitted-level-2);\n",
       "}\n",
       "\n",
       "/* Estimator label */\n",
       "\n",
       "#sk-container-id-2 div.sk-label label {\n",
       "  font-family: monospace;\n",
       "  font-weight: bold;\n",
       "  display: inline-block;\n",
       "  line-height: 1.2em;\n",
       "}\n",
       "\n",
       "#sk-container-id-2 div.sk-label-container {\n",
       "  text-align: center;\n",
       "}\n",
       "\n",
       "/* Estimator-specific */\n",
       "#sk-container-id-2 div.sk-estimator {\n",
       "  font-family: monospace;\n",
       "  border: 1px dotted var(--sklearn-color-border-box);\n",
       "  border-radius: 0.25em;\n",
       "  box-sizing: border-box;\n",
       "  margin-bottom: 0.5em;\n",
       "  /* unfitted */\n",
       "  background-color: var(--sklearn-color-unfitted-level-0);\n",
       "}\n",
       "\n",
       "#sk-container-id-2 div.sk-estimator.fitted {\n",
       "  /* fitted */\n",
       "  background-color: var(--sklearn-color-fitted-level-0);\n",
       "}\n",
       "\n",
       "/* on hover */\n",
       "#sk-container-id-2 div.sk-estimator:hover {\n",
       "  /* unfitted */\n",
       "  background-color: var(--sklearn-color-unfitted-level-2);\n",
       "}\n",
       "\n",
       "#sk-container-id-2 div.sk-estimator.fitted:hover {\n",
       "  /* fitted */\n",
       "  background-color: var(--sklearn-color-fitted-level-2);\n",
       "}\n",
       "\n",
       "/* Specification for estimator info (e.g. \"i\" and \"?\") */\n",
       "\n",
       "/* Common style for \"i\" and \"?\" */\n",
       "\n",
       ".sk-estimator-doc-link,\n",
       "a:link.sk-estimator-doc-link,\n",
       "a:visited.sk-estimator-doc-link {\n",
       "  float: right;\n",
       "  font-size: smaller;\n",
       "  line-height: 1em;\n",
       "  font-family: monospace;\n",
       "  background-color: var(--sklearn-color-background);\n",
       "  border-radius: 1em;\n",
       "  height: 1em;\n",
       "  width: 1em;\n",
       "  text-decoration: none !important;\n",
       "  margin-left: 1ex;\n",
       "  /* unfitted */\n",
       "  border: var(--sklearn-color-unfitted-level-1) 1pt solid;\n",
       "  color: var(--sklearn-color-unfitted-level-1);\n",
       "}\n",
       "\n",
       ".sk-estimator-doc-link.fitted,\n",
       "a:link.sk-estimator-doc-link.fitted,\n",
       "a:visited.sk-estimator-doc-link.fitted {\n",
       "  /* fitted */\n",
       "  border: var(--sklearn-color-fitted-level-1) 1pt solid;\n",
       "  color: var(--sklearn-color-fitted-level-1);\n",
       "}\n",
       "\n",
       "/* On hover */\n",
       "div.sk-estimator:hover .sk-estimator-doc-link:hover,\n",
       ".sk-estimator-doc-link:hover,\n",
       "div.sk-label-container:hover .sk-estimator-doc-link:hover,\n",
       ".sk-estimator-doc-link:hover {\n",
       "  /* unfitted */\n",
       "  background-color: var(--sklearn-color-unfitted-level-3);\n",
       "  color: var(--sklearn-color-background);\n",
       "  text-decoration: none;\n",
       "}\n",
       "\n",
       "div.sk-estimator.fitted:hover .sk-estimator-doc-link.fitted:hover,\n",
       ".sk-estimator-doc-link.fitted:hover,\n",
       "div.sk-label-container:hover .sk-estimator-doc-link.fitted:hover,\n",
       ".sk-estimator-doc-link.fitted:hover {\n",
       "  /* fitted */\n",
       "  background-color: var(--sklearn-color-fitted-level-3);\n",
       "  color: var(--sklearn-color-background);\n",
       "  text-decoration: none;\n",
       "}\n",
       "\n",
       "/* Span, style for the box shown on hovering the info icon */\n",
       ".sk-estimator-doc-link span {\n",
       "  display: none;\n",
       "  z-index: 9999;\n",
       "  position: relative;\n",
       "  font-weight: normal;\n",
       "  right: .2ex;\n",
       "  padding: .5ex;\n",
       "  margin: .5ex;\n",
       "  width: min-content;\n",
       "  min-width: 20ex;\n",
       "  max-width: 50ex;\n",
       "  color: var(--sklearn-color-text);\n",
       "  box-shadow: 2pt 2pt 4pt #999;\n",
       "  /* unfitted */\n",
       "  background: var(--sklearn-color-unfitted-level-0);\n",
       "  border: .5pt solid var(--sklearn-color-unfitted-level-3);\n",
       "}\n",
       "\n",
       ".sk-estimator-doc-link.fitted span {\n",
       "  /* fitted */\n",
       "  background: var(--sklearn-color-fitted-level-0);\n",
       "  border: var(--sklearn-color-fitted-level-3);\n",
       "}\n",
       "\n",
       ".sk-estimator-doc-link:hover span {\n",
       "  display: block;\n",
       "}\n",
       "\n",
       "/* \"?\"-specific style due to the `<a>` HTML tag */\n",
       "\n",
       "#sk-container-id-2 a.estimator_doc_link {\n",
       "  float: right;\n",
       "  font-size: 1rem;\n",
       "  line-height: 1em;\n",
       "  font-family: monospace;\n",
       "  background-color: var(--sklearn-color-background);\n",
       "  border-radius: 1rem;\n",
       "  height: 1rem;\n",
       "  width: 1rem;\n",
       "  text-decoration: none;\n",
       "  /* unfitted */\n",
       "  color: var(--sklearn-color-unfitted-level-1);\n",
       "  border: var(--sklearn-color-unfitted-level-1) 1pt solid;\n",
       "}\n",
       "\n",
       "#sk-container-id-2 a.estimator_doc_link.fitted {\n",
       "  /* fitted */\n",
       "  border: var(--sklearn-color-fitted-level-1) 1pt solid;\n",
       "  color: var(--sklearn-color-fitted-level-1);\n",
       "}\n",
       "\n",
       "/* On hover */\n",
       "#sk-container-id-2 a.estimator_doc_link:hover {\n",
       "  /* unfitted */\n",
       "  background-color: var(--sklearn-color-unfitted-level-3);\n",
       "  color: var(--sklearn-color-background);\n",
       "  text-decoration: none;\n",
       "}\n",
       "\n",
       "#sk-container-id-2 a.estimator_doc_link.fitted:hover {\n",
       "  /* fitted */\n",
       "  background-color: var(--sklearn-color-fitted-level-3);\n",
       "}\n",
       "</style><div id=\"sk-container-id-2\" class=\"sk-top-container\"><div class=\"sk-text-repr-fallback\"><pre>GridSearchCV(cv=3, estimator=LogisticRegression(), n_jobs=-1,\n",
       "             param_grid={&#x27;C&#x27;: [0.01, 0.1, 0.5, 1, 2, 3, 4, 5, 7, 10]},\n",
       "             refit=&#x27;f1&#x27;, scoring=&#x27;f1&#x27;)</pre><b>In a Jupyter environment, please rerun this cell to show the HTML representation or trust the notebook. <br />On GitHub, the HTML representation is unable to render, please try loading this page with nbviewer.org.</b></div><div class=\"sk-container\" hidden><div class=\"sk-item sk-dashed-wrapped\"><div class=\"sk-label-container\"><div class=\"sk-label fitted sk-toggleable\"><input class=\"sk-toggleable__control sk-hidden--visually\" id=\"sk-estimator-id-2\" type=\"checkbox\" ><label for=\"sk-estimator-id-2\" class=\"sk-toggleable__label fitted sk-toggleable__label-arrow fitted\">&nbsp;&nbsp;GridSearchCV<a class=\"sk-estimator-doc-link fitted\" rel=\"noreferrer\" target=\"_blank\" href=\"https://scikit-learn.org/1.5/modules/generated/sklearn.model_selection.GridSearchCV.html\">?<span>Documentation for GridSearchCV</span></a><span class=\"sk-estimator-doc-link fitted\">i<span>Fitted</span></span></label><div class=\"sk-toggleable__content fitted\"><pre>GridSearchCV(cv=3, estimator=LogisticRegression(), n_jobs=-1,\n",
       "             param_grid={&#x27;C&#x27;: [0.01, 0.1, 0.5, 1, 2, 3, 4, 5, 7, 10]},\n",
       "             refit=&#x27;f1&#x27;, scoring=&#x27;f1&#x27;)</pre></div> </div></div><div class=\"sk-parallel\"><div class=\"sk-parallel-item\"><div class=\"sk-item\"><div class=\"sk-label-container\"><div class=\"sk-label fitted sk-toggleable\"><input class=\"sk-toggleable__control sk-hidden--visually\" id=\"sk-estimator-id-3\" type=\"checkbox\" ><label for=\"sk-estimator-id-3\" class=\"sk-toggleable__label fitted sk-toggleable__label-arrow fitted\">best_estimator_: LogisticRegression</label><div class=\"sk-toggleable__content fitted\"><pre>LogisticRegression(C=5)</pre></div> </div></div><div class=\"sk-serial\"><div class=\"sk-item\"><div class=\"sk-estimator fitted sk-toggleable\"><input class=\"sk-toggleable__control sk-hidden--visually\" id=\"sk-estimator-id-4\" type=\"checkbox\" ><label for=\"sk-estimator-id-4\" class=\"sk-toggleable__label fitted sk-toggleable__label-arrow fitted\">&nbsp;LogisticRegression<a class=\"sk-estimator-doc-link fitted\" rel=\"noreferrer\" target=\"_blank\" href=\"https://scikit-learn.org/1.5/modules/generated/sklearn.linear_model.LogisticRegression.html\">?<span>Documentation for LogisticRegression</span></a></label><div class=\"sk-toggleable__content fitted\"><pre>LogisticRegression(C=5)</pre></div> </div></div></div></div></div></div></div></div></div>"
      ],
      "text/plain": [
       "GridSearchCV(cv=3, estimator=LogisticRegression(), n_jobs=-1,\n",
       "             param_grid={'C': [0.01, 0.1, 0.5, 1, 2, 3, 4, 5, 7, 10]},\n",
       "             refit='f1', scoring='f1')"
      ]
     },
     "execution_count": 38,
     "metadata": {},
     "output_type": "execute_result"
    }
   ],
   "source": [
    "# Establim els valors de C (regularització) que volem avaluar\n",
    "hyperparametres = {'C': [0.01, 0.1, 0.5, 1, 2, 3, 4, 5, 7, 10]}\n",
    "\n",
    "gridSearch = GridSearchCV(estimator=LogisticRegression(),param_grid=hyperparametres,\n",
    "                          cv=3, scoring='f1', refit='f1', n_jobs=-1)\n",
    "\n",
    "gridSearch.fit(X_train, y_train)"
   ]
  },
  {
   "cell_type": "code",
   "execution_count": 39,
   "metadata": {
    "colab": {
     "base_uri": "https://localhost:8080/",
     "height": 1000
    },
    "id": "lcrE9VP87g8E",
    "outputId": "9fb550e8-7c46-4989-c342-b54ef6fd38a3"
   },
   "outputs": [
    {
     "name": "stdout",
     "output_type": "stream",
     "text": [
      "Regressió Logística: LogisticRegression(C=5, random_state=0)\n",
      "k = 2, 0.71 f1_score amb una desviació estandard de 0.00\n",
      "k = 3, 0.73 f1_score amb una desviació estandard de 0.05\n",
      "k = 4, 0.73 f1_score amb una desviació estandard de 0.04\n",
      "k = 5, 0.73 f1_score amb una desviació estandard de 0.04\n",
      "k = 6, 0.73 f1_score amb una desviació estandard de 0.07\n",
      "k = 7, 0.72 f1_score amb una desviació estandard de 0.06\n",
      "k = 8, 0.73 f1_score amb una desviació estandard de 0.08\n",
      "k = 9, 0.72 f1_score amb una desviació estandard de 0.09\n",
      "k = 10, 0.73 f1_score amb una desviació estandard de 0.10\n",
      "k = 11, 0.72 f1_score amb una desviació estandard de 0.10\n",
      "k = 12, 0.72 f1_score amb una desviació estandard de 0.09\n",
      "k = 13, 0.72 f1_score amb una desviació estandard de 0.11\n",
      "k = 14, 0.72 f1_score amb una desviació estandard de 0.08\n",
      "k = 15, 0.72 f1_score amb una desviació estandard de 0.10\n",
      "k = 16, 0.73 f1_score amb una desviació estandard de 0.12\n",
      "k = 17, 0.71 f1_score amb una desviació estandard de 0.12\n",
      "k = 18, 0.72 f1_score amb una desviació estandard de 0.12\n",
      "k = 19, 0.72 f1_score amb una desviació estandard de 0.11\n",
      "k = 20, 0.72 f1_score amb una desviació estandard de 0.12\n"
     ]
    },
    {
     "data": {
      "text/plain": [
       "([<matplotlib.axis.XTick at 0x28859ef8190>,\n",
       "  <matplotlib.axis.XTick at 0x28859edfc50>,\n",
       "  <matplotlib.axis.XTick at 0x28859eddf90>,\n",
       "  <matplotlib.axis.XTick at 0x28859edd810>,\n",
       "  <matplotlib.axis.XTick at 0x28859edd090>,\n",
       "  <matplotlib.axis.XTick at 0x28859edc050>,\n",
       "  <matplotlib.axis.XTick at 0x28859e8e210>,\n",
       "  <matplotlib.axis.XTick at 0x28859e8ead0>,\n",
       "  <matplotlib.axis.XTick at 0x28859efaad0>,\n",
       "  <matplotlib.axis.XTick at 0x28859efb250>,\n",
       "  <matplotlib.axis.XTick at 0x28859efb9d0>,\n",
       "  <matplotlib.axis.XTick at 0x28859f44190>,\n",
       "  <matplotlib.axis.XTick at 0x28859f44910>,\n",
       "  <matplotlib.axis.XTick at 0x28859f45090>,\n",
       "  <matplotlib.axis.XTick at 0x28859f45810>,\n",
       "  <matplotlib.axis.XTick at 0x28859f45f90>,\n",
       "  <matplotlib.axis.XTick at 0x28859f46710>,\n",
       "  <matplotlib.axis.XTick at 0x28859f46e90>,\n",
       "  <matplotlib.axis.XTick at 0x28859f47610>,\n",
       "  <matplotlib.axis.XTick at 0x28859f47d90>,\n",
       "  <matplotlib.axis.XTick at 0x28859f5c550>],\n",
       " [Text(0, 0, '0'),\n",
       "  Text(1, 0, '1'),\n",
       "  Text(2, 0, '2'),\n",
       "  Text(3, 0, '3'),\n",
       "  Text(4, 0, '4'),\n",
       "  Text(5, 0, '5'),\n",
       "  Text(6, 0, '6'),\n",
       "  Text(7, 0, '7'),\n",
       "  Text(8, 0, '8'),\n",
       "  Text(9, 0, '9'),\n",
       "  Text(10, 0, '10'),\n",
       "  Text(11, 0, '11'),\n",
       "  Text(12, 0, '12'),\n",
       "  Text(13, 0, '13'),\n",
       "  Text(14, 0, '14'),\n",
       "  Text(15, 0, '15'),\n",
       "  Text(16, 0, '16'),\n",
       "  Text(17, 0, '17'),\n",
       "  Text(18, 0, '18'),\n",
       "  Text(19, 0, '19'),\n",
       "  Text(20, 0, '20')])"
      ]
     },
     "execution_count": 39,
     "metadata": {},
     "output_type": "execute_result"
    },
    {
     "data": {
      "image/png": "[encoded data removed]",
      "text/plain": [
       "<Figure size 640x480 with 1 Axes>"
      ]
     },
     "metadata": {},
     "output_type": "display_data"
    }
   ],
   "source": [
    "logReg = LogisticRegression(C=gridSearch.best_params_.get('C'), random_state=0)\n",
    "print(\"Regressió Logística:\", logReg)\n",
    "# Busquem la millor k per al cross validation\n",
    "k_range = range(2,21)\n",
    "scores = []\n",
    "for k in k_range:\n",
    "    score = cross_val_score(logReg, X_train, y_train, cv=k, scoring='f1')\n",
    "    print(\"k = %d, %0.2f f1_score amb una desviació estandard de %0.2f\" % (k, score.mean(), score.std()))\n",
    "    scores.append(score.mean())\n",
    "\n",
    "plt.figure()\n",
    "plt.xlabel('k')\n",
    "plt.ylabel('f1-score')\n",
    "plt.scatter(k_range, scores)\n",
    "plt.xticks([0,1,2,3,4,5,6,7,8,9,10,11,12,13,14,15,16,17,18,19,20])"
   ]
  },
  {
   "cell_type": "code",
   "execution_count": 40,
   "metadata": {
    "colab": {
     "base_uri": "https://localhost:8080/"
    },
    "id": "woA2iIyl-3C-",
    "outputId": "19bc7335-fc26-4975-d061-3ccb2c26137a"
   },
   "outputs": [
    {
     "data": {
      "text/plain": [
       "array([0.68235294, 0.7654321 , 0.79518072, 0.70886076, 0.72      ])"
      ]
     },
     "execution_count": 40,
     "metadata": {},
     "output_type": "execute_result"
    }
   ],
   "source": [
    "# Que la regularització (C) sigui 5 vol dir que el model no és estricte, pel que s'adapta a les dades d'entrenament, i no penalitza tant els errors\n",
    "# La millor k és 5 perquè té un f1-score de 0.73 i una desviació estandard de 0.04\n",
    "\n",
    "cross_val_score(logReg, X_train, y_train, cv=5, scoring='f1')"
   ]
  },
  {
   "cell_type": "code",
   "execution_count": 41,
   "metadata": {
    "colab": {
     "base_uri": "https://localhost:8080/"
    },
    "id": "PEVelORr-675",
    "outputId": "9b290a64-ee43-41b5-812e-394a0e6090ba"
   },
   "outputs": [
    {
     "name": "stdout",
     "output_type": "stream",
     "text": [
      "Mètriques:\n",
      "               precision    recall  f1-score   support\n",
      "\n",
      "         0.0       0.76      0.81      0.79       122\n",
      "         1.0       0.73      0.66      0.69        92\n",
      "\n",
      "    accuracy                           0.75       214\n",
      "   macro avg       0.74      0.74      0.74       214\n",
      "weighted avg       0.75      0.75      0.75       214\n",
      "\n",
      "Temps d'entrenament 0.039952993392944336\n"
     ]
    }
   ],
   "source": [
    "inicio = time.time()\n",
    "\n",
    "logReg.fit(X_train, y_train)\n",
    "\n",
    "y_pred = logReg.predict(X_test)\n",
    "metriques = classification_report(y_test, y_pred)\n",
    "print('Mètriques:\\n', metriques)\n",
    "\n",
    "final = time.time()\n",
    "tiempo=final-inicio\n",
    "print(\"Temps d'entrenament\", tiempo)"
   ]
  },
  {
   "cell_type": "code",
   "execution_count": 42,
   "metadata": {
    "colab": {
     "base_uri": "https://localhost:8080/",
     "height": 507
    },
    "id": "8IedXqkR_DMk",
    "outputId": "7eaf15e4-412e-4fb9-e994-5663a6e1be3c"
   },
   "outputs": [
    {
     "name": "stdout",
     "output_type": "stream",
     "text": [
      "AUPRC: 0.7927866987451271\n"
     ]
    },
    {
     "data": {
      "text/plain": [
       "[<matplotlib.lines.Line2D at 0x28859f8b9d0>]"
      ]
     },
     "execution_count": 42,
     "metadata": {},
     "output_type": "execute_result"
    },
    {
     "data": {
      "image/png": "[encoded data removed]",
      "text/plain": [
       "<Figure size 640x480 with 1 Axes>"
      ]
     },
     "metadata": {},
     "output_type": "display_data"
    }
   ],
   "source": [
    "# Mostrem la Precision-Recall Curve\n",
    "\n",
    "prob = logReg.predict_proba(X_test)\n",
    "prob = prob[:,1]\n",
    "precision, recall, thresholds = precision_recall_curve(y_test, prob)\n",
    "AUPRC = average_precision_score(y_test, prob)\n",
    "print(\"AUPRC:\", AUPRC)\n",
    "plt.title(\"Precision-Recall Curve\")\n",
    "plt.xlabel(\"Recall\")\n",
    "plt.ylabel(\"Precision\")\n",
    "plt.plot(recall, precision)"
   ]
  },
  {
   "cell_type": "markdown",
   "metadata": {
    "id": "-41SC-ZMCtl-"
   },
   "source": [
    "**Random Forest**"
   ]
  },
  {
   "cell_type": "code",
   "execution_count": 43,
   "metadata": {
    "colab": {
     "base_uri": "https://localhost:8080/",
     "height": 118
    },
    "id": "gHpNpny8CuHc",
    "outputId": "0b22b3b2-3bb0-471b-cf7a-b90ac423460d"
   },
   "outputs": [
    {
     "data": {
      "text/html": [
       "<style>#sk-container-id-3 {\n",
       "  /* Definition of color scheme common for light and dark mode */\n",
       "  --sklearn-color-text: black;\n",
       "  --sklearn-color-line: gray;\n",
       "  /* Definition of color scheme for unfitted estimators */\n",
       "  --sklearn-color-unfitted-level-0: #fff5e6;\n",
       "  --sklearn-color-unfitted-level-1: #f6e4d2;\n",
       "  --sklearn-color-unfitted-level-2: #ffe0b3;\n",
       "  --sklearn-color-unfitted-level-3: chocolate;\n",
       "  /* Definition of color scheme for fitted estimators */\n",
       "  --sklearn-color-fitted-level-0: #f0f8ff;\n",
       "  --sklearn-color-fitted-level-1: #d4ebff;\n",
       "  --sklearn-color-fitted-level-2: #b3dbfd;\n",
       "  --sklearn-color-fitted-level-3: cornflowerblue;\n",
       "\n",
       "  /* Specific color for light theme */\n",
       "  --sklearn-color-text-on-default-background: var(--sg-text-color, var(--theme-code-foreground, var(--jp-content-font-color1, black)));\n",
       "  --sklearn-color-background: var(--sg-background-color, var(--theme-background, var(--jp-layout-color0, white)));\n",
       "  --sklearn-color-border-box: var(--sg-text-color, var(--theme-code-foreground, var(--jp-content-font-color1, black)));\n",
       "  --sklearn-color-icon: #696969;\n",
       "\n",
       "  @media (prefers-color-scheme: dark) {\n",
       "    /* Redefinition of color scheme for dark theme */\n",
       "    --sklearn-color-text-on-default-background: var(--sg-text-color, var(--theme-code-foreground, var(--jp-content-font-color1, white)));\n",
       "    --sklearn-color-background: var(--sg-background-color, var(--theme-background, var(--jp-layout-color0, #111)));\n",
       "    --sklearn-color-border-box: var(--sg-text-color, var(--theme-code-foreground, var(--jp-content-font-color1, white)));\n",
       "    --sklearn-color-icon: #878787;\n",
       "  }\n",
       "}\n",
       "\n",
       "#sk-container-id-3 {\n",
       "  color: var(--sklearn-color-text);\n",
       "}\n",
       "\n",
       "#sk-container-id-3 pre {\n",
       "  padding: 0;\n",
       "}\n",
       "\n",
       "#sk-container-id-3 input.sk-hidden--visually {\n",
       "  border: 0;\n",
       "  clip: rect(1px 1px 1px 1px);\n",
       "  clip: rect(1px, 1px, 1px, 1px);\n",
       "  height: 1px;\n",
       "  margin: -1px;\n",
       "  overflow: hidden;\n",
       "  padding: 0;\n",
       "  position: absolute;\n",
       "  width: 1px;\n",
       "}\n",
       "\n",
       "#sk-container-id-3 div.sk-dashed-wrapped {\n",
       "  border: 1px dashed var(--sklearn-color-line);\n",
       "  margin: 0 0.4em 0.5em 0.4em;\n",
       "  box-sizing: border-box;\n",
       "  padding-bottom: 0.4em;\n",
       "  background-color: var(--sklearn-color-background);\n",
       "}\n",
       "\n",
       "#sk-container-id-3 div.sk-container {\n",
       "  /* jupyter's `normalize.less` sets `[hidden] { display: none; }`\n",
       "     but bootstrap.min.css set `[hidden] { display: none !important; }`\n",
       "     so we also need the `!important` here to be able to override the\n",
       "     default hidden behavior on the sphinx rendered scikit-learn.org.\n",
       "     See: https://github.com/scikit-learn/scikit-learn/issues/21755 */\n",
       "  display: inline-block !important;\n",
       "  position: relative;\n",
       "}\n",
       "\n",
       "#sk-container-id-3 div.sk-text-repr-fallback {\n",
       "  display: none;\n",
       "}\n",
       "\n",
       "div.sk-parallel-item,\n",
       "div.sk-serial,\n",
       "div.sk-item {\n",
       "  /* draw centered vertical line to link estimators */\n",
       "  background-image: linear-gradient(var(--sklearn-color-text-on-default-background), var(--sklearn-color-text-on-default-background));\n",
       "  background-size: 2px 100%;\n",
       "  background-repeat: no-repeat;\n",
       "  background-position: center center;\n",
       "}\n",
       "\n",
       "/* Parallel-specific style estimator block */\n",
       "\n",
       "#sk-container-id-3 div.sk-parallel-item::after {\n",
       "  content: \"\";\n",
       "  width: 100%;\n",
       "  border-bottom: 2px solid var(--sklearn-color-text-on-default-background);\n",
       "  flex-grow: 1;\n",
       "}\n",
       "\n",
       "#sk-container-id-3 div.sk-parallel {\n",
       "  display: flex;\n",
       "  align-items: stretch;\n",
       "  justify-content: center;\n",
       "  background-color: var(--sklearn-color-background);\n",
       "  position: relative;\n",
       "}\n",
       "\n",
       "#sk-container-id-3 div.sk-parallel-item {\n",
       "  display: flex;\n",
       "  flex-direction: column;\n",
       "}\n",
       "\n",
       "#sk-container-id-3 div.sk-parallel-item:first-child::after {\n",
       "  align-self: flex-end;\n",
       "  width: 50%;\n",
       "}\n",
       "\n",
       "#sk-container-id-3 div.sk-parallel-item:last-child::after {\n",
       "  align-self: flex-start;\n",
       "  width: 50%;\n",
       "}\n",
       "\n",
       "#sk-container-id-3 div.sk-parallel-item:only-child::after {\n",
       "  width: 0;\n",
       "}\n",
       "\n",
       "/* Serial-specific style estimator block */\n",
       "\n",
       "#sk-container-id-3 div.sk-serial {\n",
       "  display: flex;\n",
       "  flex-direction: column;\n",
       "  align-items: center;\n",
       "  background-color: var(--sklearn-color-background);\n",
       "  padding-right: 1em;\n",
       "  padding-left: 1em;\n",
       "}\n",
       "\n",
       "\n",
       "/* Toggleable style: style used for estimator/Pipeline/ColumnTransformer box that is\n",
       "clickable and can be expanded/collapsed.\n",
       "- Pipeline and ColumnTransformer use this feature and define the default style\n",
       "- Estimators will overwrite some part of the style using the `sk-estimator` class\n",
       "*/\n",
       "\n",
       "/* Pipeline and ColumnTransformer style (default) */\n",
       "\n",
       "#sk-container-id-3 div.sk-toggleable {\n",
       "  /* Default theme specific background. It is overwritten whether we have a\n",
       "  specific estimator or a Pipeline/ColumnTransformer */\n",
       "  background-color: var(--sklearn-color-background);\n",
       "}\n",
       "\n",
       "/* Toggleable label */\n",
       "#sk-container-id-3 label.sk-toggleable__label {\n",
       "  cursor: pointer;\n",
       "  display: block;\n",
       "  width: 100%;\n",
       "  margin-bottom: 0;\n",
       "  padding: 0.5em;\n",
       "  box-sizing: border-box;\n",
       "  text-align: center;\n",
       "}\n",
       "\n",
       "#sk-container-id-3 label.sk-toggleable__label-arrow:before {\n",
       "  /* Arrow on the left of the label */\n",
       "  content: \"▸\";\n",
       "  float: left;\n",
       "  margin-right: 0.25em;\n",
       "  color: var(--sklearn-color-icon);\n",
       "}\n",
       "\n",
       "#sk-container-id-3 label.sk-toggleable__label-arrow:hover:before {\n",
       "  color: var(--sklearn-color-text);\n",
       "}\n",
       "\n",
       "/* Toggleable content - dropdown */\n",
       "\n",
       "#sk-container-id-3 div.sk-toggleable__content {\n",
       "  max-height: 0;\n",
       "  max-width: 0;\n",
       "  overflow: hidden;\n",
       "  text-align: left;\n",
       "  /* unfitted */\n",
       "  background-color: var(--sklearn-color-unfitted-level-0);\n",
       "}\n",
       "\n",
       "#sk-container-id-3 div.sk-toggleable__content.fitted {\n",
       "  /* fitted */\n",
       "  background-color: var(--sklearn-color-fitted-level-0);\n",
       "}\n",
       "\n",
       "#sk-container-id-3 div.sk-toggleable__content pre {\n",
       "  margin: 0.2em;\n",
       "  border-radius: 0.25em;\n",
       "  color: var(--sklearn-color-text);\n",
       "  /* unfitted */\n",
       "  background-color: var(--sklearn-color-unfitted-level-0);\n",
       "}\n",
       "\n",
       "#sk-container-id-3 div.sk-toggleable__content.fitted pre {\n",
       "  /* unfitted */\n",
       "  background-color: var(--sklearn-color-fitted-level-0);\n",
       "}\n",
       "\n",
       "#sk-container-id-3 input.sk-toggleable__control:checked~div.sk-toggleable__content {\n",
       "  /* Expand drop-down */\n",
       "  max-height: 200px;\n",
       "  max-width: 100%;\n",
       "  overflow: auto;\n",
       "}\n",
       "\n",
       "#sk-container-id-3 input.sk-toggleable__control:checked~label.sk-toggleable__label-arrow:before {\n",
       "  content: \"▾\";\n",
       "}\n",
       "\n",
       "/* Pipeline/ColumnTransformer-specific style */\n",
       "\n",
       "#sk-container-id-3 div.sk-label input.sk-toggleable__control:checked~label.sk-toggleable__label {\n",
       "  color: var(--sklearn-color-text);\n",
       "  background-color: var(--sklearn-color-unfitted-level-2);\n",
       "}\n",
       "\n",
       "#sk-container-id-3 div.sk-label.fitted input.sk-toggleable__control:checked~label.sk-toggleable__label {\n",
       "  background-color: var(--sklearn-color-fitted-level-2);\n",
       "}\n",
       "\n",
       "/* Estimator-specific style */\n",
       "\n",
       "/* Colorize estimator box */\n",
       "#sk-container-id-3 div.sk-estimator input.sk-toggleable__control:checked~label.sk-toggleable__label {\n",
       "  /* unfitted */\n",
       "  background-color: var(--sklearn-color-unfitted-level-2);\n",
       "}\n",
       "\n",
       "#sk-container-id-3 div.sk-estimator.fitted input.sk-toggleable__control:checked~label.sk-toggleable__label {\n",
       "  /* fitted */\n",
       "  background-color: var(--sklearn-color-fitted-level-2);\n",
       "}\n",
       "\n",
       "#sk-container-id-3 div.sk-label label.sk-toggleable__label,\n",
       "#sk-container-id-3 div.sk-label label {\n",
       "  /* The background is the default theme color */\n",
       "  color: var(--sklearn-color-text-on-default-background);\n",
       "}\n",
       "\n",
       "/* On hover, darken the color of the background */\n",
       "#sk-container-id-3 div.sk-label:hover label.sk-toggleable__label {\n",
       "  color: var(--sklearn-color-text);\n",
       "  background-color: var(--sklearn-color-unfitted-level-2);\n",
       "}\n",
       "\n",
       "/* Label box, darken color on hover, fitted */\n",
       "#sk-container-id-3 div.sk-label.fitted:hover label.sk-toggleable__label.fitted {\n",
       "  color: var(--sklearn-color-text);\n",
       "  background-color: var(--sklearn-color-fitted-level-2);\n",
       "}\n",
       "\n",
       "/* Estimator label */\n",
       "\n",
       "#sk-container-id-3 div.sk-label label {\n",
       "  font-family: monospace;\n",
       "  font-weight: bold;\n",
       "  display: inline-block;\n",
       "  line-height: 1.2em;\n",
       "}\n",
       "\n",
       "#sk-container-id-3 div.sk-label-container {\n",
       "  text-align: center;\n",
       "}\n",
       "\n",
       "/* Estimator-specific */\n",
       "#sk-container-id-3 div.sk-estimator {\n",
       "  font-family: monospace;\n",
       "  border: 1px dotted var(--sklearn-color-border-box);\n",
       "  border-radius: 0.25em;\n",
       "  box-sizing: border-box;\n",
       "  margin-bottom: 0.5em;\n",
       "  /* unfitted */\n",
       "  background-color: var(--sklearn-color-unfitted-level-0);\n",
       "}\n",
       "\n",
       "#sk-container-id-3 div.sk-estimator.fitted {\n",
       "  /* fitted */\n",
       "  background-color: var(--sklearn-color-fitted-level-0);\n",
       "}\n",
       "\n",
       "/* on hover */\n",
       "#sk-container-id-3 div.sk-estimator:hover {\n",
       "  /* unfitted */\n",
       "  background-color: var(--sklearn-color-unfitted-level-2);\n",
       "}\n",
       "\n",
       "#sk-container-id-3 div.sk-estimator.fitted:hover {\n",
       "  /* fitted */\n",
       "  background-color: var(--sklearn-color-fitted-level-2);\n",
       "}\n",
       "\n",
       "/* Specification for estimator info (e.g. \"i\" and \"?\") */\n",
       "\n",
       "/* Common style for \"i\" and \"?\" */\n",
       "\n",
       ".sk-estimator-doc-link,\n",
       "a:link.sk-estimator-doc-link,\n",
       "a:visited.sk-estimator-doc-link {\n",
       "  float: right;\n",
       "  font-size: smaller;\n",
       "  line-height: 1em;\n",
       "  font-family: monospace;\n",
       "  background-color: var(--sklearn-color-background);\n",
       "  border-radius: 1em;\n",
       "  height: 1em;\n",
       "  width: 1em;\n",
       "  text-decoration: none !important;\n",
       "  margin-left: 1ex;\n",
       "  /* unfitted */\n",
       "  border: var(--sklearn-color-unfitted-level-1) 1pt solid;\n",
       "  color: var(--sklearn-color-unfitted-level-1);\n",
       "}\n",
       "\n",
       ".sk-estimator-doc-link.fitted,\n",
       "a:link.sk-estimator-doc-link.fitted,\n",
       "a:visited.sk-estimator-doc-link.fitted {\n",
       "  /* fitted */\n",
       "  border: var(--sklearn-color-fitted-level-1) 1pt solid;\n",
       "  color: var(--sklearn-color-fitted-level-1);\n",
       "}\n",
       "\n",
       "/* On hover */\n",
       "div.sk-estimator:hover .sk-estimator-doc-link:hover,\n",
       ".sk-estimator-doc-link:hover,\n",
       "div.sk-label-container:hover .sk-estimator-doc-link:hover,\n",
       ".sk-estimator-doc-link:hover {\n",
       "  /* unfitted */\n",
       "  background-color: var(--sklearn-color-unfitted-level-3);\n",
       "  color: var(--sklearn-color-background);\n",
       "  text-decoration: none;\n",
       "}\n",
       "\n",
       "div.sk-estimator.fitted:hover .sk-estimator-doc-link.fitted:hover,\n",
       ".sk-estimator-doc-link.fitted:hover,\n",
       "div.sk-label-container:hover .sk-estimator-doc-link.fitted:hover,\n",
       ".sk-estimator-doc-link.fitted:hover {\n",
       "  /* fitted */\n",
       "  background-color: var(--sklearn-color-fitted-level-3);\n",
       "  color: var(--sklearn-color-background);\n",
       "  text-decoration: none;\n",
       "}\n",
       "\n",
       "/* Span, style for the box shown on hovering the info icon */\n",
       ".sk-estimator-doc-link span {\n",
       "  display: none;\n",
       "  z-index: 9999;\n",
       "  position: relative;\n",
       "  font-weight: normal;\n",
       "  right: .2ex;\n",
       "  padding: .5ex;\n",
       "  margin: .5ex;\n",
       "  width: min-content;\n",
       "  min-width: 20ex;\n",
       "  max-width: 50ex;\n",
       "  color: var(--sklearn-color-text);\n",
       "  box-shadow: 2pt 2pt 4pt #999;\n",
       "  /* unfitted */\n",
       "  background: var(--sklearn-color-unfitted-level-0);\n",
       "  border: .5pt solid var(--sklearn-color-unfitted-level-3);\n",
       "}\n",
       "\n",
       ".sk-estimator-doc-link.fitted span {\n",
       "  /* fitted */\n",
       "  background: var(--sklearn-color-fitted-level-0);\n",
       "  border: var(--sklearn-color-fitted-level-3);\n",
       "}\n",
       "\n",
       ".sk-estimator-doc-link:hover span {\n",
       "  display: block;\n",
       "}\n",
       "\n",
       "/* \"?\"-specific style due to the `<a>` HTML tag */\n",
       "\n",
       "#sk-container-id-3 a.estimator_doc_link {\n",
       "  float: right;\n",
       "  font-size: 1rem;\n",
       "  line-height: 1em;\n",
       "  font-family: monospace;\n",
       "  background-color: var(--sklearn-color-background);\n",
       "  border-radius: 1rem;\n",
       "  height: 1rem;\n",
       "  width: 1rem;\n",
       "  text-decoration: none;\n",
       "  /* unfitted */\n",
       "  color: var(--sklearn-color-unfitted-level-1);\n",
       "  border: var(--sklearn-color-unfitted-level-1) 1pt solid;\n",
       "}\n",
       "\n",
       "#sk-container-id-3 a.estimator_doc_link.fitted {\n",
       "  /* fitted */\n",
       "  border: var(--sklearn-color-fitted-level-1) 1pt solid;\n",
       "  color: var(--sklearn-color-fitted-level-1);\n",
       "}\n",
       "\n",
       "/* On hover */\n",
       "#sk-container-id-3 a.estimator_doc_link:hover {\n",
       "  /* unfitted */\n",
       "  background-color: var(--sklearn-color-unfitted-level-3);\n",
       "  color: var(--sklearn-color-background);\n",
       "  text-decoration: none;\n",
       "}\n",
       "\n",
       "#sk-container-id-3 a.estimator_doc_link.fitted:hover {\n",
       "  /* fitted */\n",
       "  background-color: var(--sklearn-color-fitted-level-3);\n",
       "}\n",
       "</style><div id=\"sk-container-id-3\" class=\"sk-top-container\"><div class=\"sk-text-repr-fallback\"><pre>GridSearchCV(cv=3, estimator=RandomForestClassifier(), n_jobs=-1,\n",
       "             param_grid={&#x27;n_estimators&#x27;: [10, 25, 50, 75, 100]}, refit=&#x27;f1&#x27;,\n",
       "             scoring=&#x27;f1&#x27;)</pre><b>In a Jupyter environment, please rerun this cell to show the HTML representation or trust the notebook. <br />On GitHub, the HTML representation is unable to render, please try loading this page with nbviewer.org.</b></div><div class=\"sk-container\" hidden><div class=\"sk-item sk-dashed-wrapped\"><div class=\"sk-label-container\"><div class=\"sk-label fitted sk-toggleable\"><input class=\"sk-toggleable__control sk-hidden--visually\" id=\"sk-estimator-id-5\" type=\"checkbox\" ><label for=\"sk-estimator-id-5\" class=\"sk-toggleable__label fitted sk-toggleable__label-arrow fitted\">&nbsp;&nbsp;GridSearchCV<a class=\"sk-estimator-doc-link fitted\" rel=\"noreferrer\" target=\"_blank\" href=\"https://scikit-learn.org/1.5/modules/generated/sklearn.model_selection.GridSearchCV.html\">?<span>Documentation for GridSearchCV</span></a><span class=\"sk-estimator-doc-link fitted\">i<span>Fitted</span></span></label><div class=\"sk-toggleable__content fitted\"><pre>GridSearchCV(cv=3, estimator=RandomForestClassifier(), n_jobs=-1,\n",
       "             param_grid={&#x27;n_estimators&#x27;: [10, 25, 50, 75, 100]}, refit=&#x27;f1&#x27;,\n",
       "             scoring=&#x27;f1&#x27;)</pre></div> </div></div><div class=\"sk-parallel\"><div class=\"sk-parallel-item\"><div class=\"sk-item\"><div class=\"sk-label-container\"><div class=\"sk-label fitted sk-toggleable\"><input class=\"sk-toggleable__control sk-hidden--visually\" id=\"sk-estimator-id-6\" type=\"checkbox\" ><label for=\"sk-estimator-id-6\" class=\"sk-toggleable__label fitted sk-toggleable__label-arrow fitted\">best_estimator_: RandomForestClassifier</label><div class=\"sk-toggleable__content fitted\"><pre>RandomForestClassifier()</pre></div> </div></div><div class=\"sk-serial\"><div class=\"sk-item\"><div class=\"sk-estimator fitted sk-toggleable\"><input class=\"sk-toggleable__control sk-hidden--visually\" id=\"sk-estimator-id-7\" type=\"checkbox\" ><label for=\"sk-estimator-id-7\" class=\"sk-toggleable__label fitted sk-toggleable__label-arrow fitted\">&nbsp;RandomForestClassifier<a class=\"sk-estimator-doc-link fitted\" rel=\"noreferrer\" target=\"_blank\" href=\"https://scikit-learn.org/1.5/modules/generated/sklearn.ensemble.RandomForestClassifier.html\">?<span>Documentation for RandomForestClassifier</span></a></label><div class=\"sk-toggleable__content fitted\"><pre>RandomForestClassifier()</pre></div> </div></div></div></div></div></div></div></div></div>"
      ],
      "text/plain": [
       "GridSearchCV(cv=3, estimator=RandomForestClassifier(), n_jobs=-1,\n",
       "             param_grid={'n_estimators': [10, 25, 50, 75, 100]}, refit='f1',\n",
       "             scoring='f1')"
      ]
     },
     "execution_count": 43,
     "metadata": {},
     "output_type": "execute_result"
    }
   ],
   "source": [
    "# Establim els valors de n_estimators o arbres que volem avaluar\n",
    "hyperparametres = {'n_estimators': [10, 25, 50, 75, 100]}\n",
    "\n",
    "gridSearch = GridSearchCV(estimator=RandomForestClassifier(), param_grid=hyperparametres,\n",
    "                          cv=3, scoring='f1', refit='f1', n_jobs=-1)\n",
    "\n",
    "gridSearch.fit(X_train, y_train)"
   ]
  },
  {
   "cell_type": "code",
   "execution_count": 44,
   "metadata": {
    "colab": {
     "base_uri": "https://localhost:8080/",
     "height": 1000
    },
    "id": "3wRWV5aHDJ5y",
    "outputId": "fdb82623-1b60-4516-dbae-61ed66985ef5"
   },
   "outputs": [
    {
     "name": "stdout",
     "output_type": "stream",
     "text": [
      "Random Forest: RandomForestClassifier(random_state=0)\n",
      "k = 2, 0.69 f1_score amb una desviació estandard de 0.01\n",
      "k = 3, 0.73 f1_score amb una desviació estandard de 0.03\n",
      "k = 4, 0.72 f1_score amb una desviació estandard de 0.03\n",
      "k = 5, 0.73 f1_score amb una desviació estandard de 0.03\n",
      "k = 6, 0.73 f1_score amb una desviació estandard de 0.03\n",
      "k = 7, 0.73 f1_score amb una desviació estandard de 0.04\n",
      "k = 8, 0.72 f1_score amb una desviació estandard de 0.07\n",
      "k = 9, 0.72 f1_score amb una desviació estandard de 0.07\n",
      "k = 10, 0.73 f1_score amb una desviació estandard de 0.06\n",
      "k = 11, 0.71 f1_score amb una desviació estandard de 0.09\n",
      "k = 12, 0.71 f1_score amb una desviació estandard de 0.10\n",
      "k = 13, 0.72 f1_score amb una desviació estandard de 0.08\n",
      "k = 14, 0.72 f1_score amb una desviació estandard de 0.06\n",
      "k = 15, 0.72 f1_score amb una desviació estandard de 0.09\n",
      "k = 16, 0.71 f1_score amb una desviació estandard de 0.10\n",
      "k = 17, 0.71 f1_score amb una desviació estandard de 0.10\n",
      "k = 18, 0.72 f1_score amb una desviació estandard de 0.09\n",
      "k = 19, 0.71 f1_score amb una desviació estandard de 0.11\n",
      "k = 20, 0.72 f1_score amb una desviació estandard de 0.11\n"
     ]
    },
    {
     "data": {
      "text/plain": [
       "([<matplotlib.axis.XTick at 0x2885b267110>,\n",
       "  <matplotlib.axis.XTick at 0x28859edc410>,\n",
       "  <matplotlib.axis.XTick at 0x28859f02990>,\n",
       "  <matplotlib.axis.XTick at 0x28859f02490>,\n",
       "  <matplotlib.axis.XTick at 0x28859f01f90>,\n",
       "  <matplotlib.axis.XTick at 0x28859f01450>,\n",
       "  <matplotlib.axis.XTick at 0x28859f00cd0>,\n",
       "  <matplotlib.axis.XTick at 0x28859f00550>,\n",
       "  <matplotlib.axis.XTick at 0x2885b28c190>,\n",
       "  <matplotlib.axis.XTick at 0x2885b28d810>,\n",
       "  <matplotlib.axis.XTick at 0x2885b28df90>,\n",
       "  <matplotlib.axis.XTick at 0x2885b28e710>,\n",
       "  <matplotlib.axis.XTick at 0x2885b28ee90>,\n",
       "  <matplotlib.axis.XTick at 0x2885b28f610>,\n",
       "  <matplotlib.axis.XTick at 0x2885b28fd90>,\n",
       "  <matplotlib.axis.XTick at 0x2885b2f0550>,\n",
       "  <matplotlib.axis.XTick at 0x2885b2f0cd0>,\n",
       "  <matplotlib.axis.XTick at 0x2885b2f1450>,\n",
       "  <matplotlib.axis.XTick at 0x2885b2f1bd0>,\n",
       "  <matplotlib.axis.XTick at 0x2885b2f2350>,\n",
       "  <matplotlib.axis.XTick at 0x2885b2f2ad0>],\n",
       " [Text(0, 0, '0'),\n",
       "  Text(1, 0, '1'),\n",
       "  Text(2, 0, '2'),\n",
       "  Text(3, 0, '3'),\n",
       "  Text(4, 0, '4'),\n",
       "  Text(5, 0, '5'),\n",
       "  Text(6, 0, '6'),\n",
       "  Text(7, 0, '7'),\n",
       "  Text(8, 0, '8'),\n",
       "  Text(9, 0, '9'),\n",
       "  Text(10, 0, '10'),\n",
       "  Text(11, 0, '11'),\n",
       "  Text(12, 0, '12'),\n",
       "  Text(13, 0, '13'),\n",
       "  Text(14, 0, '14'),\n",
       "  Text(15, 0, '15'),\n",
       "  Text(16, 0, '16'),\n",
       "  Text(17, 0, '17'),\n",
       "  Text(18, 0, '18'),\n",
       "  Text(19, 0, '19'),\n",
       "  Text(20, 0, '20')])"
      ]
     },
     "execution_count": 44,
     "metadata": {},
     "output_type": "execute_result"
    },
    {
     "data": {
      "image/png": "[encoded data removed]",
      "text/plain": [
       "<Figure size 640x480 with 1 Axes>"
      ]
     },
     "metadata": {},
     "output_type": "display_data"
    }
   ],
   "source": [
    "randomForest = RandomForestClassifier(n_estimators=gridSearch.best_params_.get('n_estimators'), random_state=0)\n",
    "print(\"Random Forest:\", randomForest)\n",
    "# Busquem la millor k per al cross validation\n",
    "k_range = range(2,21)\n",
    "scores = []\n",
    "for k in k_range:\n",
    "    score = cross_val_score(randomForest, X_train, y_train, cv=k, scoring='f1')\n",
    "    print(\"k = %d, %0.2f f1_score amb una desviació estandard de %0.2f\" % (k, score.mean(), score.std()))\n",
    "    scores.append(score.mean())\n",
    "\n",
    "plt.figure()\n",
    "plt.xlabel('k')\n",
    "plt.ylabel('f1')\n",
    "plt.scatter(k_range, scores)\n",
    "plt.xticks([0,1,2,3,4,5,6,7,8,9,10,11,12,13,14,15,16,17,18,19,20])"
   ]
  },
  {
   "cell_type": "code",
   "execution_count": 45,
   "metadata": {
    "colab": {
     "base_uri": "https://localhost:8080/"
    },
    "id": "1Vc_3az-D9n0",
    "outputId": "5fcd60bd-1b75-4058-b685-19b79a4880f7"
   },
   "outputs": [
    {
     "data": {
      "text/plain": [
       "array([0.72972973, 0.70175439, 0.73333333, 0.79411765, 0.72131148,\n",
       "       0.72727273])"
      ]
     },
     "execution_count": 45,
     "metadata": {},
     "output_type": "execute_result"
    }
   ],
   "source": [
    "# El valor òptim trobat de n_estimators es 100, igual que per defecte\n",
    "# La millor k és 6 perquè té un f1-score de 0.73 i una desviació estandard de 0.03\n",
    "\n",
    "cross_val_score(randomForest, X_train, y_train, cv=6, scoring='f1')"
   ]
  },
  {
   "cell_type": "code",
   "execution_count": 46,
   "metadata": {
    "colab": {
     "base_uri": "https://localhost:8080/"
    },
    "id": "6vkzpN3LD-Pa",
    "outputId": "3720d03d-b3cc-4d1e-874d-39e96cac4d87"
   },
   "outputs": [
    {
     "name": "stdout",
     "output_type": "stream",
     "text": [
      "Mètriques:\n",
      "               precision    recall  f1-score   support\n",
      "\n",
      "         0.0       0.76      0.86      0.81       122\n",
      "         1.0       0.78      0.64      0.70        92\n",
      "\n",
      "    accuracy                           0.77       214\n",
      "   macro avg       0.77      0.75      0.76       214\n",
      "weighted avg       0.77      0.77      0.76       214\n",
      "\n",
      "Temps d'entrenament 0.562739372253418\n"
     ]
    }
   ],
   "source": [
    "inicio = time.time()\n",
    "\n",
    "randomForest.fit(X_train, y_train)\n",
    "\n",
    "y_pred = randomForest.predict(X_test)\n",
    "metriques = classification_report(y_test, y_pred)\n",
    "print('Mètriques:\\n', metriques)\n",
    "\n",
    "final = time.time()\n",
    "tiempo=final-inicio\n",
    "print(\"Temps d'entrenament\", tiempo)"
   ]
  },
  {
   "cell_type": "code",
   "execution_count": 47,
   "metadata": {
    "colab": {
     "base_uri": "https://localhost:8080/",
     "height": 507
    },
    "id": "FYvi_GX-D-h0",
    "outputId": "6c8540db-e038-4d90-94e3-13de83ff6a1a"
   },
   "outputs": [
    {
     "name": "stdout",
     "output_type": "stream",
     "text": [
      "AUPRC: 0.7487634659445209\n"
     ]
    },
    {
     "data": {
      "text/plain": [
       "[<matplotlib.lines.Line2D at 0x2885b340190>]"
      ]
     },
     "execution_count": 47,
     "metadata": {},
     "output_type": "execute_result"
    },
    {
     "data": {
      "image/png": "[encoded data removed]",
      "text/plain": [
       "<Figure size 640x480 with 1 Axes>"
      ]
     },
     "metadata": {},
     "output_type": "display_data"
    }
   ],
   "source": [
    "# Mostrem la Precision-Recall Curve\n",
    "\n",
    "prob = randomForest.predict_proba(X_test)\n",
    "prob = prob[:,1]\n",
    "precision, recall, thresholds = precision_recall_curve(y_test, prob)\n",
    "AUPRC = average_precision_score(y_test, prob)\n",
    "print(\"AUPRC:\", AUPRC)\n",
    "plt.title(\"Precision-Recall Curve\")\n",
    "plt.xlabel(\"Recall\")\n",
    "plt.ylabel(\"Precision\")\n",
    "plt.plot(recall, precision)"
   ]
  },
  {
   "cell_type": "markdown",
   "metadata": {
    "id": "eQ-rbc4kHQLK"
   },
   "source": [
    "**KNN**"
   ]
  },
  {
   "cell_type": "code",
   "execution_count": 48,
   "metadata": {
    "colab": {
     "base_uri": "https://localhost:8080/",
     "height": 118
    },
    "id": "6l5OZKdUHR8C",
    "outputId": "68f6f69a-d6f0-4a6c-c3c8-241949694dc7"
   },
   "outputs": [
    {
     "name": "stderr",
     "output_type": "stream",
     "text": [
      "c:\\Users\\aobon\\AppData\\Local\\Programs\\Python\\Python313\\Lib\\site-packages\\numpy\\ma\\core.py:2881: RuntimeWarning: invalid value encountered in cast\n",
      "  _data = np.array(data, dtype=dtype, copy=copy,\n"
     ]
    },
    {
     "data": {
      "text/html": [
       "<style>#sk-container-id-4 {\n",
       "  /* Definition of color scheme common for light and dark mode */\n",
       "  --sklearn-color-text: black;\n",
       "  --sklearn-color-line: gray;\n",
       "  /* Definition of color scheme for unfitted estimators */\n",
       "  --sklearn-color-unfitted-level-0: #fff5e6;\n",
       "  --sklearn-color-unfitted-level-1: #f6e4d2;\n",
       "  --sklearn-color-unfitted-level-2: #ffe0b3;\n",
       "  --sklearn-color-unfitted-level-3: chocolate;\n",
       "  /* Definition of color scheme for fitted estimators */\n",
       "  --sklearn-color-fitted-level-0: #f0f8ff;\n",
       "  --sklearn-color-fitted-level-1: #d4ebff;\n",
       "  --sklearn-color-fitted-level-2: #b3dbfd;\n",
       "  --sklearn-color-fitted-level-3: cornflowerblue;\n",
       "\n",
       "  /* Specific color for light theme */\n",
       "  --sklearn-color-text-on-default-background: var(--sg-text-color, var(--theme-code-foreground, var(--jp-content-font-color1, black)));\n",
       "  --sklearn-color-background: var(--sg-background-color, var(--theme-background, var(--jp-layout-color0, white)));\n",
       "  --sklearn-color-border-box: var(--sg-text-color, var(--theme-code-foreground, var(--jp-content-font-color1, black)));\n",
       "  --sklearn-color-icon: #696969;\n",
       "\n",
       "  @media (prefers-color-scheme: dark) {\n",
       "    /* Redefinition of color scheme for dark theme */\n",
       "    --sklearn-color-text-on-default-background: var(--sg-text-color, var(--theme-code-foreground, var(--jp-content-font-color1, white)));\n",
       "    --sklearn-color-background: var(--sg-background-color, var(--theme-background, var(--jp-layout-color0, #111)));\n",
       "    --sklearn-color-border-box: var(--sg-text-color, var(--theme-code-foreground, var(--jp-content-font-color1, white)));\n",
       "    --sklearn-color-icon: #878787;\n",
       "  }\n",
       "}\n",
       "\n",
       "#sk-container-id-4 {\n",
       "  color: var(--sklearn-color-text);\n",
       "}\n",
       "\n",
       "#sk-container-id-4 pre {\n",
       "  padding: 0;\n",
       "}\n",
       "\n",
       "#sk-container-id-4 input.sk-hidden--visually {\n",
       "  border: 0;\n",
       "  clip: rect(1px 1px 1px 1px);\n",
       "  clip: rect(1px, 1px, 1px, 1px);\n",
       "  height: 1px;\n",
       "  margin: -1px;\n",
       "  overflow: hidden;\n",
       "  padding: 0;\n",
       "  position: absolute;\n",
       "  width: 1px;\n",
       "}\n",
       "\n",
       "#sk-container-id-4 div.sk-dashed-wrapped {\n",
       "  border: 1px dashed var(--sklearn-color-line);\n",
       "  margin: 0 0.4em 0.5em 0.4em;\n",
       "  box-sizing: border-box;\n",
       "  padding-bottom: 0.4em;\n",
       "  background-color: var(--sklearn-color-background);\n",
       "}\n",
       "\n",
       "#sk-container-id-4 div.sk-container {\n",
       "  /* jupyter's `normalize.less` sets `[hidden] { display: none; }`\n",
       "     but bootstrap.min.css set `[hidden] { display: none !important; }`\n",
       "     so we also need the `!important` here to be able to override the\n",
       "     default hidden behavior on the sphinx rendered scikit-learn.org.\n",
       "     See: https://github.com/scikit-learn/scikit-learn/issues/21755 */\n",
       "  display: inline-block !important;\n",
       "  position: relative;\n",
       "}\n",
       "\n",
       "#sk-container-id-4 div.sk-text-repr-fallback {\n",
       "  display: none;\n",
       "}\n",
       "\n",
       "div.sk-parallel-item,\n",
       "div.sk-serial,\n",
       "div.sk-item {\n",
       "  /* draw centered vertical line to link estimators */\n",
       "  background-image: linear-gradient(var(--sklearn-color-text-on-default-background), var(--sklearn-color-text-on-default-background));\n",
       "  background-size: 2px 100%;\n",
       "  background-repeat: no-repeat;\n",
       "  background-position: center center;\n",
       "}\n",
       "\n",
       "/* Parallel-specific style estimator block */\n",
       "\n",
       "#sk-container-id-4 div.sk-parallel-item::after {\n",
       "  content: \"\";\n",
       "  width: 100%;\n",
       "  border-bottom: 2px solid var(--sklearn-color-text-on-default-background);\n",
       "  flex-grow: 1;\n",
       "}\n",
       "\n",
       "#sk-container-id-4 div.sk-parallel {\n",
       "  display: flex;\n",
       "  align-items: stretch;\n",
       "  justify-content: center;\n",
       "  background-color: var(--sklearn-color-background);\n",
       "  position: relative;\n",
       "}\n",
       "\n",
       "#sk-container-id-4 div.sk-parallel-item {\n",
       "  display: flex;\n",
       "  flex-direction: column;\n",
       "}\n",
       "\n",
       "#sk-container-id-4 div.sk-parallel-item:first-child::after {\n",
       "  align-self: flex-end;\n",
       "  width: 50%;\n",
       "}\n",
       "\n",
       "#sk-container-id-4 div.sk-parallel-item:last-child::after {\n",
       "  align-self: flex-start;\n",
       "  width: 50%;\n",
       "}\n",
       "\n",
       "#sk-container-id-4 div.sk-parallel-item:only-child::after {\n",
       "  width: 0;\n",
       "}\n",
       "\n",
       "/* Serial-specific style estimator block */\n",
       "\n",
       "#sk-container-id-4 div.sk-serial {\n",
       "  display: flex;\n",
       "  flex-direction: column;\n",
       "  align-items: center;\n",
       "  background-color: var(--sklearn-color-background);\n",
       "  padding-right: 1em;\n",
       "  padding-left: 1em;\n",
       "}\n",
       "\n",
       "\n",
       "/* Toggleable style: style used for estimator/Pipeline/ColumnTransformer box that is\n",
       "clickable and can be expanded/collapsed.\n",
       "- Pipeline and ColumnTransformer use this feature and define the default style\n",
       "- Estimators will overwrite some part of the style using the `sk-estimator` class\n",
       "*/\n",
       "\n",
       "/* Pipeline and ColumnTransformer style (default) */\n",
       "\n",
       "#sk-container-id-4 div.sk-toggleable {\n",
       "  /* Default theme specific background. It is overwritten whether we have a\n",
       "  specific estimator or a Pipeline/ColumnTransformer */\n",
       "  background-color: var(--sklearn-color-background);\n",
       "}\n",
       "\n",
       "/* Toggleable label */\n",
       "#sk-container-id-4 label.sk-toggleable__label {\n",
       "  cursor: pointer;\n",
       "  display: block;\n",
       "  width: 100%;\n",
       "  margin-bottom: 0;\n",
       "  padding: 0.5em;\n",
       "  box-sizing: border-box;\n",
       "  text-align: center;\n",
       "}\n",
       "\n",
       "#sk-container-id-4 label.sk-toggleable__label-arrow:before {\n",
       "  /* Arrow on the left of the label */\n",
       "  content: \"▸\";\n",
       "  float: left;\n",
       "  margin-right: 0.25em;\n",
       "  color: var(--sklearn-color-icon);\n",
       "}\n",
       "\n",
       "#sk-container-id-4 label.sk-toggleable__label-arrow:hover:before {\n",
       "  color: var(--sklearn-color-text);\n",
       "}\n",
       "\n",
       "/* Toggleable content - dropdown */\n",
       "\n",
       "#sk-container-id-4 div.sk-toggleable__content {\n",
       "  max-height: 0;\n",
       "  max-width: 0;\n",
       "  overflow: hidden;\n",
       "  text-align: left;\n",
       "  /* unfitted */\n",
       "  background-color: var(--sklearn-color-unfitted-level-0);\n",
       "}\n",
       "\n",
       "#sk-container-id-4 div.sk-toggleable__content.fitted {\n",
       "  /* fitted */\n",
       "  background-color: var(--sklearn-color-fitted-level-0);\n",
       "}\n",
       "\n",
       "#sk-container-id-4 div.sk-toggleable__content pre {\n",
       "  margin: 0.2em;\n",
       "  border-radius: 0.25em;\n",
       "  color: var(--sklearn-color-text);\n",
       "  /* unfitted */\n",
       "  background-color: var(--sklearn-color-unfitted-level-0);\n",
       "}\n",
       "\n",
       "#sk-container-id-4 div.sk-toggleable__content.fitted pre {\n",
       "  /* unfitted */\n",
       "  background-color: var(--sklearn-color-fitted-level-0);\n",
       "}\n",
       "\n",
       "#sk-container-id-4 input.sk-toggleable__control:checked~div.sk-toggleable__content {\n",
       "  /* Expand drop-down */\n",
       "  max-height: 200px;\n",
       "  max-width: 100%;\n",
       "  overflow: auto;\n",
       "}\n",
       "\n",
       "#sk-container-id-4 input.sk-toggleable__control:checked~label.sk-toggleable__label-arrow:before {\n",
       "  content: \"▾\";\n",
       "}\n",
       "\n",
       "/* Pipeline/ColumnTransformer-specific style */\n",
       "\n",
       "#sk-container-id-4 div.sk-label input.sk-toggleable__control:checked~label.sk-toggleable__label {\n",
       "  color: var(--sklearn-color-text);\n",
       "  background-color: var(--sklearn-color-unfitted-level-2);\n",
       "}\n",
       "\n",
       "#sk-container-id-4 div.sk-label.fitted input.sk-toggleable__control:checked~label.sk-toggleable__label {\n",
       "  background-color: var(--sklearn-color-fitted-level-2);\n",
       "}\n",
       "\n",
       "/* Estimator-specific style */\n",
       "\n",
       "/* Colorize estimator box */\n",
       "#sk-container-id-4 div.sk-estimator input.sk-toggleable__control:checked~label.sk-toggleable__label {\n",
       "  /* unfitted */\n",
       "  background-color: var(--sklearn-color-unfitted-level-2);\n",
       "}\n",
       "\n",
       "#sk-container-id-4 div.sk-estimator.fitted input.sk-toggleable__control:checked~label.sk-toggleable__label {\n",
       "  /* fitted */\n",
       "  background-color: var(--sklearn-color-fitted-level-2);\n",
       "}\n",
       "\n",
       "#sk-container-id-4 div.sk-label label.sk-toggleable__label,\n",
       "#sk-container-id-4 div.sk-label label {\n",
       "  /* The background is the default theme color */\n",
       "  color: var(--sklearn-color-text-on-default-background);\n",
       "}\n",
       "\n",
       "/* On hover, darken the color of the background */\n",
       "#sk-container-id-4 div.sk-label:hover label.sk-toggleable__label {\n",
       "  color: var(--sklearn-color-text);\n",
       "  background-color: var(--sklearn-color-unfitted-level-2);\n",
       "}\n",
       "\n",
       "/* Label box, darken color on hover, fitted */\n",
       "#sk-container-id-4 div.sk-label.fitted:hover label.sk-toggleable__label.fitted {\n",
       "  color: var(--sklearn-color-text);\n",
       "  background-color: var(--sklearn-color-fitted-level-2);\n",
       "}\n",
       "\n",
       "/* Estimator label */\n",
       "\n",
       "#sk-container-id-4 div.sk-label label {\n",
       "  font-family: monospace;\n",
       "  font-weight: bold;\n",
       "  display: inline-block;\n",
       "  line-height: 1.2em;\n",
       "}\n",
       "\n",
       "#sk-container-id-4 div.sk-label-container {\n",
       "  text-align: center;\n",
       "}\n",
       "\n",
       "/* Estimator-specific */\n",
       "#sk-container-id-4 div.sk-estimator {\n",
       "  font-family: monospace;\n",
       "  border: 1px dotted var(--sklearn-color-border-box);\n",
       "  border-radius: 0.25em;\n",
       "  box-sizing: border-box;\n",
       "  margin-bottom: 0.5em;\n",
       "  /* unfitted */\n",
       "  background-color: var(--sklearn-color-unfitted-level-0);\n",
       "}\n",
       "\n",
       "#sk-container-id-4 div.sk-estimator.fitted {\n",
       "  /* fitted */\n",
       "  background-color: var(--sklearn-color-fitted-level-0);\n",
       "}\n",
       "\n",
       "/* on hover */\n",
       "#sk-container-id-4 div.sk-estimator:hover {\n",
       "  /* unfitted */\n",
       "  background-color: var(--sklearn-color-unfitted-level-2);\n",
       "}\n",
       "\n",
       "#sk-container-id-4 div.sk-estimator.fitted:hover {\n",
       "  /* fitted */\n",
       "  background-color: var(--sklearn-color-fitted-level-2);\n",
       "}\n",
       "\n",
       "/* Specification for estimator info (e.g. \"i\" and \"?\") */\n",
       "\n",
       "/* Common style for \"i\" and \"?\" */\n",
       "\n",
       ".sk-estimator-doc-link,\n",
       "a:link.sk-estimator-doc-link,\n",
       "a:visited.sk-estimator-doc-link {\n",
       "  float: right;\n",
       "  font-size: smaller;\n",
       "  line-height: 1em;\n",
       "  font-family: monospace;\n",
       "  background-color: var(--sklearn-color-background);\n",
       "  border-radius: 1em;\n",
       "  height: 1em;\n",
       "  width: 1em;\n",
       "  text-decoration: none !important;\n",
       "  margin-left: 1ex;\n",
       "  /* unfitted */\n",
       "  border: var(--sklearn-color-unfitted-level-1) 1pt solid;\n",
       "  color: var(--sklearn-color-unfitted-level-1);\n",
       "}\n",
       "\n",
       ".sk-estimator-doc-link.fitted,\n",
       "a:link.sk-estimator-doc-link.fitted,\n",
       "a:visited.sk-estimator-doc-link.fitted {\n",
       "  /* fitted */\n",
       "  border: var(--sklearn-color-fitted-level-1) 1pt solid;\n",
       "  color: var(--sklearn-color-fitted-level-1);\n",
       "}\n",
       "\n",
       "/* On hover */\n",
       "div.sk-estimator:hover .sk-estimator-doc-link:hover,\n",
       ".sk-estimator-doc-link:hover,\n",
       "div.sk-label-container:hover .sk-estimator-doc-link:hover,\n",
       ".sk-estimator-doc-link:hover {\n",
       "  /* unfitted */\n",
       "  background-color: var(--sklearn-color-unfitted-level-3);\n",
       "  color: var(--sklearn-color-background);\n",
       "  text-decoration: none;\n",
       "}\n",
       "\n",
       "div.sk-estimator.fitted:hover .sk-estimator-doc-link.fitted:hover,\n",
       ".sk-estimator-doc-link.fitted:hover,\n",
       "div.sk-label-container:hover .sk-estimator-doc-link.fitted:hover,\n",
       ".sk-estimator-doc-link.fitted:hover {\n",
       "  /* fitted */\n",
       "  background-color: var(--sklearn-color-fitted-level-3);\n",
       "  color: var(--sklearn-color-background);\n",
       "  text-decoration: none;\n",
       "}\n",
       "\n",
       "/* Span, style for the box shown on hovering the info icon */\n",
       ".sk-estimator-doc-link span {\n",
       "  display: none;\n",
       "  z-index: 9999;\n",
       "  position: relative;\n",
       "  font-weight: normal;\n",
       "  right: .2ex;\n",
       "  padding: .5ex;\n",
       "  margin: .5ex;\n",
       "  width: min-content;\n",
       "  min-width: 20ex;\n",
       "  max-width: 50ex;\n",
       "  color: var(--sklearn-color-text);\n",
       "  box-shadow: 2pt 2pt 4pt #999;\n",
       "  /* unfitted */\n",
       "  background: var(--sklearn-color-unfitted-level-0);\n",
       "  border: .5pt solid var(--sklearn-color-unfitted-level-3);\n",
       "}\n",
       "\n",
       ".sk-estimator-doc-link.fitted span {\n",
       "  /* fitted */\n",
       "  background: var(--sklearn-color-fitted-level-0);\n",
       "  border: var(--sklearn-color-fitted-level-3);\n",
       "}\n",
       "\n",
       ".sk-estimator-doc-link:hover span {\n",
       "  display: block;\n",
       "}\n",
       "\n",
       "/* \"?\"-specific style due to the `<a>` HTML tag */\n",
       "\n",
       "#sk-container-id-4 a.estimator_doc_link {\n",
       "  float: right;\n",
       "  font-size: 1rem;\n",
       "  line-height: 1em;\n",
       "  font-family: monospace;\n",
       "  background-color: var(--sklearn-color-background);\n",
       "  border-radius: 1rem;\n",
       "  height: 1rem;\n",
       "  width: 1rem;\n",
       "  text-decoration: none;\n",
       "  /* unfitted */\n",
       "  color: var(--sklearn-color-unfitted-level-1);\n",
       "  border: var(--sklearn-color-unfitted-level-1) 1pt solid;\n",
       "}\n",
       "\n",
       "#sk-container-id-4 a.estimator_doc_link.fitted {\n",
       "  /* fitted */\n",
       "  border: var(--sklearn-color-fitted-level-1) 1pt solid;\n",
       "  color: var(--sklearn-color-fitted-level-1);\n",
       "}\n",
       "\n",
       "/* On hover */\n",
       "#sk-container-id-4 a.estimator_doc_link:hover {\n",
       "  /* unfitted */\n",
       "  background-color: var(--sklearn-color-unfitted-level-3);\n",
       "  color: var(--sklearn-color-background);\n",
       "  text-decoration: none;\n",
       "}\n",
       "\n",
       "#sk-container-id-4 a.estimator_doc_link.fitted:hover {\n",
       "  /* fitted */\n",
       "  background-color: var(--sklearn-color-fitted-level-3);\n",
       "}\n",
       "</style><div id=\"sk-container-id-4\" class=\"sk-top-container\"><div class=\"sk-text-repr-fallback\"><pre>GridSearchCV(cv=3, estimator=KNeighborsClassifier(), n_jobs=-1,\n",
       "             param_grid={&#x27;n_neighbors&#x27;: [1, 2, 3, 4, 5, 6, 7, 8, 9, 10, 11, 12,\n",
       "                                         13, 14, 15, 16, 17, 18, 19]},\n",
       "             refit=&#x27;f1&#x27;, scoring=&#x27;f1&#x27;)</pre><b>In a Jupyter environment, please rerun this cell to show the HTML representation or trust the notebook. <br />On GitHub, the HTML representation is unable to render, please try loading this page with nbviewer.org.</b></div><div class=\"sk-container\" hidden><div class=\"sk-item sk-dashed-wrapped\"><div class=\"sk-label-container\"><div class=\"sk-label fitted sk-toggleable\"><input class=\"sk-toggleable__control sk-hidden--visually\" id=\"sk-estimator-id-8\" type=\"checkbox\" ><label for=\"sk-estimator-id-8\" class=\"sk-toggleable__label fitted sk-toggleable__label-arrow fitted\">&nbsp;&nbsp;GridSearchCV<a class=\"sk-estimator-doc-link fitted\" rel=\"noreferrer\" target=\"_blank\" href=\"https://scikit-learn.org/1.5/modules/generated/sklearn.model_selection.GridSearchCV.html\">?<span>Documentation for GridSearchCV</span></a><span class=\"sk-estimator-doc-link fitted\">i<span>Fitted</span></span></label><div class=\"sk-toggleable__content fitted\"><pre>GridSearchCV(cv=3, estimator=KNeighborsClassifier(), n_jobs=-1,\n",
       "             param_grid={&#x27;n_neighbors&#x27;: [1, 2, 3, 4, 5, 6, 7, 8, 9, 10, 11, 12,\n",
       "                                         13, 14, 15, 16, 17, 18, 19]},\n",
       "             refit=&#x27;f1&#x27;, scoring=&#x27;f1&#x27;)</pre></div> </div></div><div class=\"sk-parallel\"><div class=\"sk-parallel-item\"><div class=\"sk-item\"><div class=\"sk-label-container\"><div class=\"sk-label fitted sk-toggleable\"><input class=\"sk-toggleable__control sk-hidden--visually\" id=\"sk-estimator-id-9\" type=\"checkbox\" ><label for=\"sk-estimator-id-9\" class=\"sk-toggleable__label fitted sk-toggleable__label-arrow fitted\">best_estimator_: KNeighborsClassifier</label><div class=\"sk-toggleable__content fitted\"><pre>KNeighborsClassifier(n_neighbors=8)</pre></div> </div></div><div class=\"sk-serial\"><div class=\"sk-item\"><div class=\"sk-estimator fitted sk-toggleable\"><input class=\"sk-toggleable__control sk-hidden--visually\" id=\"sk-estimator-id-10\" type=\"checkbox\" ><label for=\"sk-estimator-id-10\" class=\"sk-toggleable__label fitted sk-toggleable__label-arrow fitted\">&nbsp;KNeighborsClassifier<a class=\"sk-estimator-doc-link fitted\" rel=\"noreferrer\" target=\"_blank\" href=\"https://scikit-learn.org/1.5/modules/generated/sklearn.neighbors.KNeighborsClassifier.html\">?<span>Documentation for KNeighborsClassifier</span></a></label><div class=\"sk-toggleable__content fitted\"><pre>KNeighborsClassifier(n_neighbors=8)</pre></div> </div></div></div></div></div></div></div></div></div>"
      ],
      "text/plain": [
       "GridSearchCV(cv=3, estimator=KNeighborsClassifier(), n_jobs=-1,\n",
       "             param_grid={'n_neighbors': [1, 2, 3, 4, 5, 6, 7, 8, 9, 10, 11, 12,\n",
       "                                         13, 14, 15, 16, 17, 18, 19]},\n",
       "             refit='f1', scoring='f1')"
      ]
     },
     "execution_count": 48,
     "metadata": {},
     "output_type": "execute_result"
    }
   ],
   "source": [
    "hyperparametres = {'n_neighbors': [1,2,3,4,5,6,7,8,9,10,11,12,13,14,15,16,17,18,19]}\n",
    "\n",
    "gridSearch = GridSearchCV(estimator=KNeighborsClassifier(), param_grid=hyperparametres,\n",
    "                          cv=3, scoring='f1', refit='f1', n_jobs=-1)\n",
    "\n",
    "gridSearch.fit(X_train, y_train)"
   ]
  },
  {
   "cell_type": "code",
   "execution_count": 49,
   "metadata": {
    "colab": {
     "base_uri": "https://localhost:8080/"
    },
    "id": "x7mgzR1-K0ct",
    "outputId": "cc4a203d-f964-40e8-cb24-39d1a7c41a4d"
   },
   "outputs": [
    {
     "name": "stdout",
     "output_type": "stream",
     "text": [
      "KNN: KNeighborsClassifier(n_neighbors=8)\n"
     ]
    }
   ],
   "source": [
    "# Ajustem el model amb la millor k, que es aquest cas és 8\n",
    "KNN = KNeighborsClassifier(n_neighbors=gridSearch.best_params_.get('n_neighbors'))\n",
    "print(\"KNN:\", KNN)"
   ]
  },
  {
   "cell_type": "code",
   "execution_count": 50,
   "metadata": {
    "colab": {
     "base_uri": "https://localhost:8080/",
     "height": 1000
    },
    "id": "s2SXi4NhL96K",
    "outputId": "c127db40-a6b6-4cfe-d18e-39d34e230be8"
   },
   "outputs": [
    {
     "name": "stdout",
     "output_type": "stream",
     "text": [
      "k = 2, 0.72 f1_score amb una desviació estandard de 0.02\n",
      "k = 3, 0.73 f1_score amb una desviació estandard de 0.01\n",
      "k = 4, 0.70 f1_score amb una desviació estandard de 0.02\n",
      "k = 5, 0.72 f1_score amb una desviació estandard de 0.02\n",
      "k = 6, 0.71 f1_score amb una desviació estandard de 0.06\n",
      "k = 7, 0.69 f1_score amb una desviació estandard de 0.05\n",
      "k = 8, 0.70 f1_score amb una desviació estandard de 0.06\n",
      "k = 9, 0.70 f1_score amb una desviació estandard de 0.06\n",
      "k = 10, 0.70 f1_score amb una desviació estandard de 0.06\n",
      "k = 11, 0.70 f1_score amb una desviació estandard de 0.10\n",
      "k = 12, 0.68 f1_score amb una desviació estandard de 0.10\n",
      "k = 13, 0.69 f1_score amb una desviació estandard de 0.07\n",
      "k = 14, 0.70 f1_score amb una desviació estandard de 0.06\n",
      "k = 15, 0.68 f1_score amb una desviació estandard de 0.09\n",
      "k = 16, 0.68 f1_score amb una desviació estandard de 0.08\n",
      "k = 17, 0.69 f1_score amb una desviació estandard de 0.09\n",
      "k = 18, 0.69 f1_score amb una desviació estandard de 0.10\n",
      "k = 19, 0.70 f1_score amb una desviació estandard de 0.09\n",
      "k = 20, 0.69 f1_score amb una desviació estandard de 0.08\n"
     ]
    },
    {
     "data": {
      "text/plain": [
       "([<matplotlib.axis.XTick at 0x2885b366c10>,\n",
       "  <matplotlib.axis.XTick at 0x2885b366490>,\n",
       "  <matplotlib.axis.XTick at 0x2885b364910>,\n",
       "  <matplotlib.axis.XTick at 0x2885b3651d0>,\n",
       "  <matplotlib.axis.XTick at 0x2885b365950>,\n",
       "  <matplotlib.axis.XTick at 0x2885b365090>,\n",
       "  <matplotlib.axis.XTick at 0x2885b162210>,\n",
       "  <matplotlib.axis.XTick at 0x2885b161bd0>,\n",
       "  <matplotlib.axis.XTick at 0x2885b370690>,\n",
       "  <matplotlib.axis.XTick at 0x2885b370e10>,\n",
       "  <matplotlib.axis.XTick at 0x2885b371590>,\n",
       "  <matplotlib.axis.XTick at 0x2885b371d10>,\n",
       "  <matplotlib.axis.XTick at 0x2885b372490>,\n",
       "  <matplotlib.axis.XTick at 0x2885b372c10>,\n",
       "  <matplotlib.axis.XTick at 0x2885b373390>,\n",
       "  <matplotlib.axis.XTick at 0x2885b373b10>,\n",
       "  <matplotlib.axis.XTick at 0x2885b3b82d0>,\n",
       "  <matplotlib.axis.XTick at 0x2885b267d90>,\n",
       "  <matplotlib.axis.XTick at 0x288576b8410>,\n",
       "  <matplotlib.axis.XTick at 0x288576b8b90>,\n",
       "  <matplotlib.axis.XTick at 0x288576b9310>],\n",
       " [Text(0, 0, '0'),\n",
       "  Text(1, 0, '1'),\n",
       "  Text(2, 0, '2'),\n",
       "  Text(3, 0, '3'),\n",
       "  Text(4, 0, '4'),\n",
       "  Text(5, 0, '5'),\n",
       "  Text(6, 0, '6'),\n",
       "  Text(7, 0, '7'),\n",
       "  Text(8, 0, '8'),\n",
       "  Text(9, 0, '9'),\n",
       "  Text(10, 0, '10'),\n",
       "  Text(11, 0, '11'),\n",
       "  Text(12, 0, '12'),\n",
       "  Text(13, 0, '13'),\n",
       "  Text(14, 0, '14'),\n",
       "  Text(15, 0, '15'),\n",
       "  Text(16, 0, '16'),\n",
       "  Text(17, 0, '17'),\n",
       "  Text(18, 0, '18'),\n",
       "  Text(19, 0, '19'),\n",
       "  Text(20, 0, '20')])"
      ]
     },
     "execution_count": 50,
     "metadata": {},
     "output_type": "execute_result"
    },
    {
     "data": {
      "image/png": "[encoded data removed]",
      "text/plain": [
       "<Figure size 640x480 with 1 Axes>"
      ]
     },
     "metadata": {},
     "output_type": "display_data"
    }
   ],
   "source": [
    "# Mirem quina és la millor k per al cross_validation\n",
    "k_range = range(2,21)\n",
    "scores = []\n",
    "for k in k_range:\n",
    "    score = cross_val_score(KNN, X_train, y_train, cv=k, scoring='f1')\n",
    "    print(\"k = %d, %0.2f f1_score amb una desviació estandard de %0.2f\" % (k, score.mean(), score.std()))\n",
    "    scores.append(score.mean())\n",
    "\n",
    "plt.figure()\n",
    "plt.xlabel('k')\n",
    "plt.ylabel('f1-score')\n",
    "plt.scatter(k_range, scores)\n",
    "plt.xticks([0,1,2,3,4,5,6,7,8,9,10,11,12,13,14,15,16,17,18,19,20])"
   ]
  },
  {
   "cell_type": "code",
   "execution_count": 51,
   "metadata": {
    "colab": {
     "base_uri": "https://localhost:8080/"
    },
    "id": "7fItazCdMZLP",
    "outputId": "83c4cccf-370e-437d-e816-6f5a6097bf59"
   },
   "outputs": [
    {
     "data": {
      "text/plain": [
       "array([0.73333333, 0.73873874, 0.72072072])"
      ]
     },
     "execution_count": 51,
     "metadata": {},
     "output_type": "execute_result"
    }
   ],
   "source": [
    "# La millor k és 3 perquè té un f1-score de 0.72 i una desviació estandard de 0.01\n",
    "\n",
    "cross_val_score(KNN, X_train, y_train, cv=3, scoring='f1')"
   ]
  },
  {
   "cell_type": "code",
   "execution_count": 52,
   "metadata": {
    "colab": {
     "base_uri": "https://localhost:8080/"
    },
    "id": "NawroSVLMiwW",
    "outputId": "0c565e3a-b14c-4ed8-8654-c44e646d318b"
   },
   "outputs": [
    {
     "name": "stdout",
     "output_type": "stream",
     "text": [
      "Mètriques:\n",
      "               precision    recall  f1-score   support\n",
      "\n",
      "         0.0       0.74      0.89      0.81       122\n",
      "         1.0       0.79      0.59      0.68        92\n",
      "\n",
      "    accuracy                           0.76       214\n",
      "   macro avg       0.77      0.74      0.74       214\n",
      "weighted avg       0.76      0.76      0.75       214\n",
      "\n",
      "Temps d'entrenament 0.0679168701171875\n"
     ]
    }
   ],
   "source": [
    "inicio = time.time()\n",
    "\n",
    "KNN.fit(X_train, y_train)\n",
    "\n",
    "y_pred = KNN.predict(X_test)\n",
    "metriques = classification_report(y_test, y_pred)\n",
    "print('Mètriques:\\n', metriques)\n",
    "\n",
    "final = time.time()\n",
    "tiempo=final-inicio\n",
    "print(\"Temps d'entrenament\", tiempo)"
   ]
  },
  {
   "cell_type": "code",
   "execution_count": 53,
   "metadata": {
    "colab": {
     "base_uri": "https://localhost:8080/",
     "height": 507
    },
    "id": "qK-kmSTsMmL8",
    "outputId": "42236aed-53e0-4abf-f060-c9785c8b8ec2"
   },
   "outputs": [
    {
     "name": "stdout",
     "output_type": "stream",
     "text": [
      "AUPRC: 0.7372721292051778\n"
     ]
    },
    {
     "data": {
      "text/plain": [
       "[<matplotlib.lines.Line2D at 0x28857690910>]"
      ]
     },
     "execution_count": 53,
     "metadata": {},
     "output_type": "execute_result"
    },
    {
     "data": {
      "image/png": "[encoded data removed]",
      "text/plain": [
       "<Figure size 640x480 with 1 Axes>"
      ]
     },
     "metadata": {},
     "output_type": "display_data"
    }
   ],
   "source": [
    "# Mostrem la Precision-Recall Curve\n",
    "\n",
    "prob = KNN.predict_proba(X_test)\n",
    "prob = prob[:,1]\n",
    "precision, recall, thresholds = precision_recall_curve(y_test, prob)\n",
    "AUPRC = average_precision_score(y_test, prob)\n",
    "print(\"AUPRC:\", AUPRC)\n",
    "plt.title(\"Precision-Recall Curve\")\n",
    "plt.xlabel(\"Recall\")\n",
    "plt.ylabel(\"Precision\")\n",
    "plt.plot(recall, precision)"
   ]
  },
  {
   "cell_type": "markdown",
   "metadata": {
    "id": "5Qfe0Lvuq-VE"
   },
   "source": [
    "**SVM**"
   ]
  },
  {
   "cell_type": "code",
   "execution_count": 54,
   "metadata": {
    "colab": {
     "base_uri": "https://localhost:8080/",
     "height": 118
    },
    "id": "dPMKTExKrAnP",
    "outputId": "28ec294e-dfec-4eac-b7bf-2c1f3315d7a6"
   },
   "outputs": [
    {
     "data": {
      "text/html": [
       "<style>#sk-container-id-5 {\n",
       "  /* Definition of color scheme common for light and dark mode */\n",
       "  --sklearn-color-text: black;\n",
       "  --sklearn-color-line: gray;\n",
       "  /* Definition of color scheme for unfitted estimators */\n",
       "  --sklearn-color-unfitted-level-0: #fff5e6;\n",
       "  --sklearn-color-unfitted-level-1: #f6e4d2;\n",
       "  --sklearn-color-unfitted-level-2: #ffe0b3;\n",
       "  --sklearn-color-unfitted-level-3: chocolate;\n",
       "  /* Definition of color scheme for fitted estimators */\n",
       "  --sklearn-color-fitted-level-0: #f0f8ff;\n",
       "  --sklearn-color-fitted-level-1: #d4ebff;\n",
       "  --sklearn-color-fitted-level-2: #b3dbfd;\n",
       "  --sklearn-color-fitted-level-3: cornflowerblue;\n",
       "\n",
       "  /* Specific color for light theme */\n",
       "  --sklearn-color-text-on-default-background: var(--sg-text-color, var(--theme-code-foreground, var(--jp-content-font-color1, black)));\n",
       "  --sklearn-color-background: var(--sg-background-color, var(--theme-background, var(--jp-layout-color0, white)));\n",
       "  --sklearn-color-border-box: var(--sg-text-color, var(--theme-code-foreground, var(--jp-content-font-color1, black)));\n",
       "  --sklearn-color-icon: #696969;\n",
       "\n",
       "  @media (prefers-color-scheme: dark) {\n",
       "    /* Redefinition of color scheme for dark theme */\n",
       "    --sklearn-color-text-on-default-background: var(--sg-text-color, var(--theme-code-foreground, var(--jp-content-font-color1, white)));\n",
       "    --sklearn-color-background: var(--sg-background-color, var(--theme-background, var(--jp-layout-color0, #111)));\n",
       "    --sklearn-color-border-box: var(--sg-text-color, var(--theme-code-foreground, var(--jp-content-font-color1, white)));\n",
       "    --sklearn-color-icon: #878787;\n",
       "  }\n",
       "}\n",
       "\n",
       "#sk-container-id-5 {\n",
       "  color: var(--sklearn-color-text);\n",
       "}\n",
       "\n",
       "#sk-container-id-5 pre {\n",
       "  padding: 0;\n",
       "}\n",
       "\n",
       "#sk-container-id-5 input.sk-hidden--visually {\n",
       "  border: 0;\n",
       "  clip: rect(1px 1px 1px 1px);\n",
       "  clip: rect(1px, 1px, 1px, 1px);\n",
       "  height: 1px;\n",
       "  margin: -1px;\n",
       "  overflow: hidden;\n",
       "  padding: 0;\n",
       "  position: absolute;\n",
       "  width: 1px;\n",
       "}\n",
       "\n",
       "#sk-container-id-5 div.sk-dashed-wrapped {\n",
       "  border: 1px dashed var(--sklearn-color-line);\n",
       "  margin: 0 0.4em 0.5em 0.4em;\n",
       "  box-sizing: border-box;\n",
       "  padding-bottom: 0.4em;\n",
       "  background-color: var(--sklearn-color-background);\n",
       "}\n",
       "\n",
       "#sk-container-id-5 div.sk-container {\n",
       "  /* jupyter's `normalize.less` sets `[hidden] { display: none; }`\n",
       "     but bootstrap.min.css set `[hidden] { display: none !important; }`\n",
       "     so we also need the `!important` here to be able to override the\n",
       "     default hidden behavior on the sphinx rendered scikit-learn.org.\n",
       "     See: https://github.com/scikit-learn/scikit-learn/issues/21755 */\n",
       "  display: inline-block !important;\n",
       "  position: relative;\n",
       "}\n",
       "\n",
       "#sk-container-id-5 div.sk-text-repr-fallback {\n",
       "  display: none;\n",
       "}\n",
       "\n",
       "div.sk-parallel-item,\n",
       "div.sk-serial,\n",
       "div.sk-item {\n",
       "  /* draw centered vertical line to link estimators */\n",
       "  background-image: linear-gradient(var(--sklearn-color-text-on-default-background), var(--sklearn-color-text-on-default-background));\n",
       "  background-size: 2px 100%;\n",
       "  background-repeat: no-repeat;\n",
       "  background-position: center center;\n",
       "}\n",
       "\n",
       "/* Parallel-specific style estimator block */\n",
       "\n",
       "#sk-container-id-5 div.sk-parallel-item::after {\n",
       "  content: \"\";\n",
       "  width: 100%;\n",
       "  border-bottom: 2px solid var(--sklearn-color-text-on-default-background);\n",
       "  flex-grow: 1;\n",
       "}\n",
       "\n",
       "#sk-container-id-5 div.sk-parallel {\n",
       "  display: flex;\n",
       "  align-items: stretch;\n",
       "  justify-content: center;\n",
       "  background-color: var(--sklearn-color-background);\n",
       "  position: relative;\n",
       "}\n",
       "\n",
       "#sk-container-id-5 div.sk-parallel-item {\n",
       "  display: flex;\n",
       "  flex-direction: column;\n",
       "}\n",
       "\n",
       "#sk-container-id-5 div.sk-parallel-item:first-child::after {\n",
       "  align-self: flex-end;\n",
       "  width: 50%;\n",
       "}\n",
       "\n",
       "#sk-container-id-5 div.sk-parallel-item:last-child::after {\n",
       "  align-self: flex-start;\n",
       "  width: 50%;\n",
       "}\n",
       "\n",
       "#sk-container-id-5 div.sk-parallel-item:only-child::after {\n",
       "  width: 0;\n",
       "}\n",
       "\n",
       "/* Serial-specific style estimator block */\n",
       "\n",
       "#sk-container-id-5 div.sk-serial {\n",
       "  display: flex;\n",
       "  flex-direction: column;\n",
       "  align-items: center;\n",
       "  background-color: var(--sklearn-color-background);\n",
       "  padding-right: 1em;\n",
       "  padding-left: 1em;\n",
       "}\n",
       "\n",
       "\n",
       "/* Toggleable style: style used for estimator/Pipeline/ColumnTransformer box that is\n",
       "clickable and can be expanded/collapsed.\n",
       "- Pipeline and ColumnTransformer use this feature and define the default style\n",
       "- Estimators will overwrite some part of the style using the `sk-estimator` class\n",
       "*/\n",
       "\n",
       "/* Pipeline and ColumnTransformer style (default) */\n",
       "\n",
       "#sk-container-id-5 div.sk-toggleable {\n",
       "  /* Default theme specific background. It is overwritten whether we have a\n",
       "  specific estimator or a Pipeline/ColumnTransformer */\n",
       "  background-color: var(--sklearn-color-background);\n",
       "}\n",
       "\n",
       "/* Toggleable label */\n",
       "#sk-container-id-5 label.sk-toggleable__label {\n",
       "  cursor: pointer;\n",
       "  display: block;\n",
       "  width: 100%;\n",
       "  margin-bottom: 0;\n",
       "  padding: 0.5em;\n",
       "  box-sizing: border-box;\n",
       "  text-align: center;\n",
       "}\n",
       "\n",
       "#sk-container-id-5 label.sk-toggleable__label-arrow:before {\n",
       "  /* Arrow on the left of the label */\n",
       "  content: \"▸\";\n",
       "  float: left;\n",
       "  margin-right: 0.25em;\n",
       "  color: var(--sklearn-color-icon);\n",
       "}\n",
       "\n",
       "#sk-container-id-5 label.sk-toggleable__label-arrow:hover:before {\n",
       "  color: var(--sklearn-color-text);\n",
       "}\n",
       "\n",
       "/* Toggleable content - dropdown */\n",
       "\n",
       "#sk-container-id-5 div.sk-toggleable__content {\n",
       "  max-height: 0;\n",
       "  max-width: 0;\n",
       "  overflow: hidden;\n",
       "  text-align: left;\n",
       "  /* unfitted */\n",
       "  background-color: var(--sklearn-color-unfitted-level-0);\n",
       "}\n",
       "\n",
       "#sk-container-id-5 div.sk-toggleable__content.fitted {\n",
       "  /* fitted */\n",
       "  background-color: var(--sklearn-color-fitted-level-0);\n",
       "}\n",
       "\n",
       "#sk-container-id-5 div.sk-toggleable__content pre {\n",
       "  margin: 0.2em;\n",
       "  border-radius: 0.25em;\n",
       "  color: var(--sklearn-color-text);\n",
       "  /* unfitted */\n",
       "  background-color: var(--sklearn-color-unfitted-level-0);\n",
       "}\n",
       "\n",
       "#sk-container-id-5 div.sk-toggleable__content.fitted pre {\n",
       "  /* unfitted */\n",
       "  background-color: var(--sklearn-color-fitted-level-0);\n",
       "}\n",
       "\n",
       "#sk-container-id-5 input.sk-toggleable__control:checked~div.sk-toggleable__content {\n",
       "  /* Expand drop-down */\n",
       "  max-height: 200px;\n",
       "  max-width: 100%;\n",
       "  overflow: auto;\n",
       "}\n",
       "\n",
       "#sk-container-id-5 input.sk-toggleable__control:checked~label.sk-toggleable__label-arrow:before {\n",
       "  content: \"▾\";\n",
       "}\n",
       "\n",
       "/* Pipeline/ColumnTransformer-specific style */\n",
       "\n",
       "#sk-container-id-5 div.sk-label input.sk-toggleable__control:checked~label.sk-toggleable__label {\n",
       "  color: var(--sklearn-color-text);\n",
       "  background-color: var(--sklearn-color-unfitted-level-2);\n",
       "}\n",
       "\n",
       "#sk-container-id-5 div.sk-label.fitted input.sk-toggleable__control:checked~label.sk-toggleable__label {\n",
       "  background-color: var(--sklearn-color-fitted-level-2);\n",
       "}\n",
       "\n",
       "/* Estimator-specific style */\n",
       "\n",
       "/* Colorize estimator box */\n",
       "#sk-container-id-5 div.sk-estimator input.sk-toggleable__control:checked~label.sk-toggleable__label {\n",
       "  /* unfitted */\n",
       "  background-color: var(--sklearn-color-unfitted-level-2);\n",
       "}\n",
       "\n",
       "#sk-container-id-5 div.sk-estimator.fitted input.sk-toggleable__control:checked~label.sk-toggleable__label {\n",
       "  /* fitted */\n",
       "  background-color: var(--sklearn-color-fitted-level-2);\n",
       "}\n",
       "\n",
       "#sk-container-id-5 div.sk-label label.sk-toggleable__label,\n",
       "#sk-container-id-5 div.sk-label label {\n",
       "  /* The background is the default theme color */\n",
       "  color: var(--sklearn-color-text-on-default-background);\n",
       "}\n",
       "\n",
       "/* On hover, darken the color of the background */\n",
       "#sk-container-id-5 div.sk-label:hover label.sk-toggleable__label {\n",
       "  color: var(--sklearn-color-text);\n",
       "  background-color: var(--sklearn-color-unfitted-level-2);\n",
       "}\n",
       "\n",
       "/* Label box, darken color on hover, fitted */\n",
       "#sk-container-id-5 div.sk-label.fitted:hover label.sk-toggleable__label.fitted {\n",
       "  color: var(--sklearn-color-text);\n",
       "  background-color: var(--sklearn-color-fitted-level-2);\n",
       "}\n",
       "\n",
       "/* Estimator label */\n",
       "\n",
       "#sk-container-id-5 div.sk-label label {\n",
       "  font-family: monospace;\n",
       "  font-weight: bold;\n",
       "  display: inline-block;\n",
       "  line-height: 1.2em;\n",
       "}\n",
       "\n",
       "#sk-container-id-5 div.sk-label-container {\n",
       "  text-align: center;\n",
       "}\n",
       "\n",
       "/* Estimator-specific */\n",
       "#sk-container-id-5 div.sk-estimator {\n",
       "  font-family: monospace;\n",
       "  border: 1px dotted var(--sklearn-color-border-box);\n",
       "  border-radius: 0.25em;\n",
       "  box-sizing: border-box;\n",
       "  margin-bottom: 0.5em;\n",
       "  /* unfitted */\n",
       "  background-color: var(--sklearn-color-unfitted-level-0);\n",
       "}\n",
       "\n",
       "#sk-container-id-5 div.sk-estimator.fitted {\n",
       "  /* fitted */\n",
       "  background-color: var(--sklearn-color-fitted-level-0);\n",
       "}\n",
       "\n",
       "/* on hover */\n",
       "#sk-container-id-5 div.sk-estimator:hover {\n",
       "  /* unfitted */\n",
       "  background-color: var(--sklearn-color-unfitted-level-2);\n",
       "}\n",
       "\n",
       "#sk-container-id-5 div.sk-estimator.fitted:hover {\n",
       "  /* fitted */\n",
       "  background-color: var(--sklearn-color-fitted-level-2);\n",
       "}\n",
       "\n",
       "/* Specification for estimator info (e.g. \"i\" and \"?\") */\n",
       "\n",
       "/* Common style for \"i\" and \"?\" */\n",
       "\n",
       ".sk-estimator-doc-link,\n",
       "a:link.sk-estimator-doc-link,\n",
       "a:visited.sk-estimator-doc-link {\n",
       "  float: right;\n",
       "  font-size: smaller;\n",
       "  line-height: 1em;\n",
       "  font-family: monospace;\n",
       "  background-color: var(--sklearn-color-background);\n",
       "  border-radius: 1em;\n",
       "  height: 1em;\n",
       "  width: 1em;\n",
       "  text-decoration: none !important;\n",
       "  margin-left: 1ex;\n",
       "  /* unfitted */\n",
       "  border: var(--sklearn-color-unfitted-level-1) 1pt solid;\n",
       "  color: var(--sklearn-color-unfitted-level-1);\n",
       "}\n",
       "\n",
       ".sk-estimator-doc-link.fitted,\n",
       "a:link.sk-estimator-doc-link.fitted,\n",
       "a:visited.sk-estimator-doc-link.fitted {\n",
       "  /* fitted */\n",
       "  border: var(--sklearn-color-fitted-level-1) 1pt solid;\n",
       "  color: var(--sklearn-color-fitted-level-1);\n",
       "}\n",
       "\n",
       "/* On hover */\n",
       "div.sk-estimator:hover .sk-estimator-doc-link:hover,\n",
       ".sk-estimator-doc-link:hover,\n",
       "div.sk-label-container:hover .sk-estimator-doc-link:hover,\n",
       ".sk-estimator-doc-link:hover {\n",
       "  /* unfitted */\n",
       "  background-color: var(--sklearn-color-unfitted-level-3);\n",
       "  color: var(--sklearn-color-background);\n",
       "  text-decoration: none;\n",
       "}\n",
       "\n",
       "div.sk-estimator.fitted:hover .sk-estimator-doc-link.fitted:hover,\n",
       ".sk-estimator-doc-link.fitted:hover,\n",
       "div.sk-label-container:hover .sk-estimator-doc-link.fitted:hover,\n",
       ".sk-estimator-doc-link.fitted:hover {\n",
       "  /* fitted */\n",
       "  background-color: var(--sklearn-color-fitted-level-3);\n",
       "  color: var(--sklearn-color-background);\n",
       "  text-decoration: none;\n",
       "}\n",
       "\n",
       "/* Span, style for the box shown on hovering the info icon */\n",
       ".sk-estimator-doc-link span {\n",
       "  display: none;\n",
       "  z-index: 9999;\n",
       "  position: relative;\n",
       "  font-weight: normal;\n",
       "  right: .2ex;\n",
       "  padding: .5ex;\n",
       "  margin: .5ex;\n",
       "  width: min-content;\n",
       "  min-width: 20ex;\n",
       "  max-width: 50ex;\n",
       "  color: var(--sklearn-color-text);\n",
       "  box-shadow: 2pt 2pt 4pt #999;\n",
       "  /* unfitted */\n",
       "  background: var(--sklearn-color-unfitted-level-0);\n",
       "  border: .5pt solid var(--sklearn-color-unfitted-level-3);\n",
       "}\n",
       "\n",
       ".sk-estimator-doc-link.fitted span {\n",
       "  /* fitted */\n",
       "  background: var(--sklearn-color-fitted-level-0);\n",
       "  border: var(--sklearn-color-fitted-level-3);\n",
       "}\n",
       "\n",
       ".sk-estimator-doc-link:hover span {\n",
       "  display: block;\n",
       "}\n",
       "\n",
       "/* \"?\"-specific style due to the `<a>` HTML tag */\n",
       "\n",
       "#sk-container-id-5 a.estimator_doc_link {\n",
       "  float: right;\n",
       "  font-size: 1rem;\n",
       "  line-height: 1em;\n",
       "  font-family: monospace;\n",
       "  background-color: var(--sklearn-color-background);\n",
       "  border-radius: 1rem;\n",
       "  height: 1rem;\n",
       "  width: 1rem;\n",
       "  text-decoration: none;\n",
       "  /* unfitted */\n",
       "  color: var(--sklearn-color-unfitted-level-1);\n",
       "  border: var(--sklearn-color-unfitted-level-1) 1pt solid;\n",
       "}\n",
       "\n",
       "#sk-container-id-5 a.estimator_doc_link.fitted {\n",
       "  /* fitted */\n",
       "  border: var(--sklearn-color-fitted-level-1) 1pt solid;\n",
       "  color: var(--sklearn-color-fitted-level-1);\n",
       "}\n",
       "\n",
       "/* On hover */\n",
       "#sk-container-id-5 a.estimator_doc_link:hover {\n",
       "  /* unfitted */\n",
       "  background-color: var(--sklearn-color-unfitted-level-3);\n",
       "  color: var(--sklearn-color-background);\n",
       "  text-decoration: none;\n",
       "}\n",
       "\n",
       "#sk-container-id-5 a.estimator_doc_link.fitted:hover {\n",
       "  /* fitted */\n",
       "  background-color: var(--sklearn-color-fitted-level-3);\n",
       "}\n",
       "</style><div id=\"sk-container-id-5\" class=\"sk-top-container\"><div class=\"sk-text-repr-fallback\"><pre>GridSearchCV(cv=3, estimator=SVC(random_state=0), n_jobs=-1,\n",
       "             param_grid={&#x27;C&#x27;: [0.01, 0.1, 0.5, 1, 2, 3, 4, 5, 7, 10]},\n",
       "             refit=&#x27;f1&#x27;, scoring=&#x27;f1&#x27;)</pre><b>In a Jupyter environment, please rerun this cell to show the HTML representation or trust the notebook. <br />On GitHub, the HTML representation is unable to render, please try loading this page with nbviewer.org.</b></div><div class=\"sk-container\" hidden><div class=\"sk-item sk-dashed-wrapped\"><div class=\"sk-label-container\"><div class=\"sk-label fitted sk-toggleable\"><input class=\"sk-toggleable__control sk-hidden--visually\" id=\"sk-estimator-id-11\" type=\"checkbox\" ><label for=\"sk-estimator-id-11\" class=\"sk-toggleable__label fitted sk-toggleable__label-arrow fitted\">&nbsp;&nbsp;GridSearchCV<a class=\"sk-estimator-doc-link fitted\" rel=\"noreferrer\" target=\"_blank\" href=\"https://scikit-learn.org/1.5/modules/generated/sklearn.model_selection.GridSearchCV.html\">?<span>Documentation for GridSearchCV</span></a><span class=\"sk-estimator-doc-link fitted\">i<span>Fitted</span></span></label><div class=\"sk-toggleable__content fitted\"><pre>GridSearchCV(cv=3, estimator=SVC(random_state=0), n_jobs=-1,\n",
       "             param_grid={&#x27;C&#x27;: [0.01, 0.1, 0.5, 1, 2, 3, 4, 5, 7, 10]},\n",
       "             refit=&#x27;f1&#x27;, scoring=&#x27;f1&#x27;)</pre></div> </div></div><div class=\"sk-parallel\"><div class=\"sk-parallel-item\"><div class=\"sk-item\"><div class=\"sk-label-container\"><div class=\"sk-label fitted sk-toggleable\"><input class=\"sk-toggleable__control sk-hidden--visually\" id=\"sk-estimator-id-12\" type=\"checkbox\" ><label for=\"sk-estimator-id-12\" class=\"sk-toggleable__label fitted sk-toggleable__label-arrow fitted\">best_estimator_: SVC</label><div class=\"sk-toggleable__content fitted\"><pre>SVC(C=3, random_state=0)</pre></div> </div></div><div class=\"sk-serial\"><div class=\"sk-item\"><div class=\"sk-estimator fitted sk-toggleable\"><input class=\"sk-toggleable__control sk-hidden--visually\" id=\"sk-estimator-id-13\" type=\"checkbox\" ><label for=\"sk-estimator-id-13\" class=\"sk-toggleable__label fitted sk-toggleable__label-arrow fitted\">&nbsp;SVC<a class=\"sk-estimator-doc-link fitted\" rel=\"noreferrer\" target=\"_blank\" href=\"https://scikit-learn.org/1.5/modules/generated/sklearn.svm.SVC.html\">?<span>Documentation for SVC</span></a></label><div class=\"sk-toggleable__content fitted\"><pre>SVC(C=3, random_state=0)</pre></div> </div></div></div></div></div></div></div></div></div>"
      ],
      "text/plain": [
       "GridSearchCV(cv=3, estimator=SVC(random_state=0), n_jobs=-1,\n",
       "             param_grid={'C': [0.01, 0.1, 0.5, 1, 2, 3, 4, 5, 7, 10]},\n",
       "             refit='f1', scoring='f1')"
      ]
     },
     "execution_count": 54,
     "metadata": {},
     "output_type": "execute_result"
    }
   ],
   "source": [
    "# Establim els valors de C (cost) que volem avaluar\n",
    "hyperparametres = {'C': [0.01, 0.1, 0.5, 1, 2, 3, 4, 5, 7, 10]}\n",
    "\n",
    "gridSearch = GridSearchCV(estimator = svm.SVC(random_state=0),\n",
    "                          param_grid=hyperparametres, cv=3, scoring='f1', refit='f1', n_jobs=-1)\n",
    "\n",
    "gridSearch.fit(X_train, y_train)"
   ]
  },
  {
   "cell_type": "code",
   "execution_count": 55,
   "metadata": {
    "colab": {
     "base_uri": "https://localhost:8080/",
     "height": 1000
    },
    "id": "nWdpXoDevJGp",
    "outputId": "bd57b365-729d-42f0-be9a-67d3a821a3ff"
   },
   "outputs": [
    {
     "name": "stdout",
     "output_type": "stream",
     "text": [
      "SVM amb kernel Radial: SVC(C=3, probability=True)\n",
      "k = 2, 0.69 f1_score amb una desviació estandard de 0.02\n",
      "k = 3, 0.70 f1_score amb una desviació estandard de 0.03\n",
      "k = 4, 0.70 f1_score amb una desviació estandard de 0.02\n",
      "k = 5, 0.70 f1_score amb una desviació estandard de 0.04\n",
      "k = 6, 0.70 f1_score amb una desviació estandard de 0.08\n",
      "k = 7, 0.70 f1_score amb una desviació estandard de 0.05\n",
      "k = 8, 0.69 f1_score amb una desviació estandard de 0.06\n",
      "k = 9, 0.69 f1_score amb una desviació estandard de 0.07\n",
      "k = 10, 0.70 f1_score amb una desviació estandard de 0.09\n",
      "k = 11, 0.70 f1_score amb una desviació estandard de 0.10\n",
      "k = 12, 0.70 f1_score amb una desviació estandard de 0.10\n",
      "k = 13, 0.70 f1_score amb una desviació estandard de 0.09\n",
      "k = 14, 0.70 f1_score amb una desviació estandard de 0.09\n",
      "k = 15, 0.69 f1_score amb una desviació estandard de 0.11\n",
      "k = 16, 0.70 f1_score amb una desviació estandard de 0.09\n",
      "k = 17, 0.69 f1_score amb una desviació estandard de 0.09\n",
      "k = 18, 0.69 f1_score amb una desviació estandard de 0.14\n",
      "k = 19, 0.69 f1_score amb una desviació estandard de 0.12\n",
      "k = 20, 0.70 f1_score amb una desviació estandard de 0.10\n"
     ]
    },
    {
     "data": {
      "text/plain": [
       "([<matplotlib.axis.XTick at 0x28857629450>,\n",
       "  <matplotlib.axis.XTick at 0x28857628cd0>,\n",
       "  <matplotlib.axis.XTick at 0x2885762a710>,\n",
       "  <matplotlib.axis.XTick at 0x2885762ae90>,\n",
       "  <matplotlib.axis.XTick at 0x2885762b610>,\n",
       "  <matplotlib.axis.XTick at 0x2885762bd90>,\n",
       "  <matplotlib.axis.XTick at 0x28857704550>,\n",
       "  <matplotlib.axis.XTick at 0x28857704cd0>,\n",
       "  <matplotlib.axis.XTick at 0x28857705450>,\n",
       "  <matplotlib.axis.XTick at 0x28857705bd0>,\n",
       "  <matplotlib.axis.XTick at 0x28857706350>,\n",
       "  <matplotlib.axis.XTick at 0x28857706ad0>,\n",
       "  <matplotlib.axis.XTick at 0x28857707250>,\n",
       "  <matplotlib.axis.XTick at 0x288577079d0>,\n",
       "  <matplotlib.axis.XTick at 0x2885765c190>,\n",
       "  <matplotlib.axis.XTick at 0x2885765c910>,\n",
       "  <matplotlib.axis.XTick at 0x2885765d090>,\n",
       "  <matplotlib.axis.XTick at 0x2885765d810>,\n",
       "  <matplotlib.axis.XTick at 0x2885765df90>,\n",
       "  <matplotlib.axis.XTick at 0x2885765e710>,\n",
       "  <matplotlib.axis.XTick at 0x2885765ee90>],\n",
       " [Text(0, 0, '0'),\n",
       "  Text(1, 0, '1'),\n",
       "  Text(2, 0, '2'),\n",
       "  Text(3, 0, '3'),\n",
       "  Text(4, 0, '4'),\n",
       "  Text(5, 0, '5'),\n",
       "  Text(6, 0, '6'),\n",
       "  Text(7, 0, '7'),\n",
       "  Text(8, 0, '8'),\n",
       "  Text(9, 0, '9'),\n",
       "  Text(10, 0, '10'),\n",
       "  Text(11, 0, '11'),\n",
       "  Text(12, 0, '12'),\n",
       "  Text(13, 0, '13'),\n",
       "  Text(14, 0, '14'),\n",
       "  Text(15, 0, '15'),\n",
       "  Text(16, 0, '16'),\n",
       "  Text(17, 0, '17'),\n",
       "  Text(18, 0, '18'),\n",
       "  Text(19, 0, '19'),\n",
       "  Text(20, 0, '20')])"
      ]
     },
     "execution_count": 55,
     "metadata": {},
     "output_type": "execute_result"
    },
    {
     "data": {
      "image/png": "[encoded data removed]",
      "text/plain": [
       "<Figure size 640x480 with 1 Axes>"
      ]
     },
     "metadata": {},
     "output_type": "display_data"
    }
   ],
   "source": [
    "svmRadial = svm.SVC(kernel='rbf', C=gridSearch.best_params_.get('C'), probability=True)\n",
    "print(\"SVM amb kernel Radial:\", svmRadial)\n",
    "# Mirem quina és la millor k per al cross_validation\n",
    "k_range = range(2,21)\n",
    "scores = []\n",
    "for k in k_range:\n",
    "    score = cross_val_score(svmRadial, X_train, y_train, cv=k, scoring='f1')\n",
    "    print(\"k = %d, %0.2f f1_score amb una desviació estandard de %0.2f\" % (k, score.mean(), score.std()))\n",
    "    scores.append(score.mean())\n",
    "\n",
    "plt.figure()\n",
    "plt.xlabel('k')\n",
    "plt.ylabel('f1-score')\n",
    "plt.scatter(k_range, scores)\n",
    "plt.xticks([0,1,2,3,4,5,6,7,8,9,10,11,12,13,14,15,16,17,18,19,20])"
   ]
  },
  {
   "cell_type": "code",
   "execution_count": 56,
   "metadata": {
    "colab": {
     "base_uri": "https://localhost:8080/"
    },
    "id": "qxT5dGtevfUu",
    "outputId": "d38414fb-0534-4e5f-ca98-41841e3b782d"
   },
   "outputs": [
    {
     "data": {
      "text/plain": [
       "array([0.77777778, 0.6875    , 0.76470588, 0.72727273, 0.625     ,\n",
       "       0.76470588, 0.73333333, 0.48275862, 0.77419355, 0.68965517])"
      ]
     },
     "execution_count": 56,
     "metadata": {},
     "output_type": "execute_result"
    }
   ],
   "source": [
    "# Que el valor de C sigui 3 implica que no ha sigut ni molt flexible ni molt estricte a l'hora de buscar\n",
    "# el pla de separació, llavors ni el marge de separació és molt ampli ni molt estret\n",
    "# La millor k és 10 perquè té un f1-score de 0.70 i una desviació estandard de 0.09\n",
    "\n",
    "cross_val_score(svmRadial, X_train, y_train, cv=10, scoring='f1')"
   ]
  },
  {
   "cell_type": "code",
   "execution_count": 57,
   "metadata": {
    "colab": {
     "base_uri": "https://localhost:8080/"
    },
    "id": "5J2flzXbvi12",
    "outputId": "399fccd1-3f14-48af-c835-15ae4c6b8038"
   },
   "outputs": [
    {
     "name": "stdout",
     "output_type": "stream",
     "text": [
      "Mètriques:\n",
      "               precision    recall  f1-score   support\n",
      "\n",
      "         0.0       0.74      0.93      0.82       122\n",
      "         1.0       0.85      0.57      0.68        92\n",
      "\n",
      "    accuracy                           0.77       214\n",
      "   macro avg       0.80      0.75      0.75       214\n",
      "weighted avg       0.79      0.77      0.76       214\n",
      "\n",
      "Temps d'entrenament 0.12117385864257812\n"
     ]
    }
   ],
   "source": [
    "inicio = time.time()\n",
    "\n",
    "svmRadial.fit(X_train, y_train)\n",
    "\n",
    "y_pred = svmRadial.predict(X_test)\n",
    "metriques = classification_report(y_test, y_pred)\n",
    "print('Mètriques:\\n', metriques)\n",
    "\n",
    "final = time.time()\n",
    "tiempo=final-inicio\n",
    "print(\"Temps d'entrenament\", tiempo)"
   ]
  },
  {
   "cell_type": "code",
   "execution_count": 58,
   "metadata": {
    "colab": {
     "base_uri": "https://localhost:8080/",
     "height": 507
    },
    "id": "EzgdPz-MvlLd",
    "outputId": "6ec3c7a6-4282-4c2a-e000-5dc0e508e95a"
   },
   "outputs": [
    {
     "name": "stdout",
     "output_type": "stream",
     "text": [
      "AUPRC: 0.7923832900655055\n"
     ]
    },
    {
     "data": {
      "text/plain": [
       "[<matplotlib.lines.Line2D at 0x2885b3d2fd0>]"
      ]
     },
     "execution_count": 58,
     "metadata": {},
     "output_type": "execute_result"
    },
    {
     "data": {
      "image/png": "[encoded data removed]",
      "text/plain": [
       "<Figure size 640x480 with 1 Axes>"
      ]
     },
     "metadata": {},
     "output_type": "display_data"
    }
   ],
   "source": [
    "# Mostrem la Precision-Recall Curve\n",
    "\n",
    "prob = svmRadial.predict_proba(X_test)\n",
    "prob = prob[:,1]\n",
    "precision, recall, thresholds = precision_recall_curve(y_test, prob)\n",
    "AUPRC = average_precision_score(y_test, prob)\n",
    "print(\"AUPRC:\", AUPRC)\n",
    "plt.title(\"Precision-Recall Curve\")\n",
    "plt.xlabel(\"Recall\")\n",
    "plt.ylabel(\"Precision\")\n",
    "plt.plot(recall, precision)"
   ]
  },
  {
   "cell_type": "markdown",
   "metadata": {
    "id": "tpwgep5vgKfq"
   },
   "source": [
    "# **Conclusions**"
   ]
  },
  {
   "cell_type": "markdown",
   "metadata": {
    "id": "rAIN67jakv6_"
   },
   "source": [
    "![image.png](data:image/png;base64,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)"
   ]
  },
  {
   "cell_type": "markdown",
   "metadata": {
    "id": "f-0apX6TlH2c"
   },
   "source": [
    "Pel que fa al cas del hyperparametres per defecte, si ens fixem en la nostra mètrica als classification_report dels models veiem que els millors són Regressió Logística i SVM perquè el seu f1-score a la classe 1 es gaire similar, tot i que SVM triga una mica més, però és despreciable. Sobre l'AUC de la Precision-Recall Curve, podem dir que novament ens permet dir que els millors models són Regressió Logística i SVM perquè el seu valor és bastant similar, presenten un bon rendiment.\n",
    "\n",
    "En el cas de la cerca d'hyperparametres, a partir de l'f1-score a la classe 1, que és la que ens interessa realment, veiem que tant Regressió Logística com SVM classifiquen de forma similar i són els millors models, tot i que la Regressió Logística implica un temps d'entrenament menor. A partir de l'AUC de la PR Curve també constatem que aquests models són els més eficients."
   ]
  },
  {
   "cell_type": "markdown",
   "metadata": {
    "id": "Hx-3b7v2TwJ3"
   },
   "source": [
    "### 5.Analisi Final (1.5 punt)\n",
    "\n",
    "Un cop seleccionat el millor model amb els millors hiperparamtres, caldra fer un report final amb els resultats obtinguts.\n",
    "\n",
    "Preguntes:\n",
    "* Mostreu les curves ROC/PR (la que hageu escollit en l'apartat 2) i interpreteu els resultats.\n",
    "\n",
    "* Analitzeu en detall les diferents metriques que trobeu adients i comenteu per sobre com podrieu fer servir aquest model en un futur. Aixo es el que es coneix com un cas d'us.\n",
    "\n",
    "* Com creieu que es podria millorar el vostre model?"
   ]
  },
  {
   "cell_type": "markdown",
   "metadata": {
    "id": "qfQOanBFnqg9"
   },
   "source": [
    "**Regressió Logística**\n",
    "\n",
    "![image.png](data:image/png;base64,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)\n",
    "\n",
    "\n",
    "**SVM amb kernel radial**\n",
    "\n",
    "![image.png](data:image/png;base64,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)"
   ]
  },
  {
   "cell_type": "markdown",
   "metadata": {
    "id": "IlP6VYoXnvh8"
   },
   "source": [
    "Ambdues corbes comencen amb una precision alta, és a dir, que classifica com que han sobreviscut als que realment ho han fet, però a mida que el recall, que mesura la proporció de casos positius entre els positius reals, augmenta, fa que disminueixi la precisió. Això succeeix perquè com més quantitat de casos es volen classificar, més probabilitat hi ha de que s'equivoqui.\n",
    "\n",
    "L'àrea sota la corba (AUC) de totes dues és de 0,79. Un valor de 1 indica un rendiment perfecte, així que el que hem obtingut ens diu que el classificador funciona bé.\n"
   ]
  },
  {
   "cell_type": "markdown",
   "metadata": {
    "id": "DBzr_Gs-rKca"
   },
   "source": [
    "Podríem millorar els nostres models realitzant més cerques d'hyperparametres, per tal de que siguin el més òptims possible. Igual haver cercat únicament un hyperparametre ha condicionat el rendiment."
   ]
  }
 ],
 "metadata": {
  "colab": {
   "provenance": []
  },
  "kernelspec": {
   "display_name": "Python 3",
   "language": "python",
   "name": "python3"
  },
  "language_info": {
   "codemirror_mode": {
    "name": "ipython",
    "version": 3
   },
   "file_extension": ".py",
   "mimetype": "text/x-python",
   "name": "python",
   "nbconvert_exporter": "python",
   "pygments_lexer": "ipython3",
   "version": "3.13.0"
  }
 },
 "nbformat": 4,
 "nbformat_minor": 0
}
